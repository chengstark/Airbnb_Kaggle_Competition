{
 "cells": [
  {
   "cell_type": "markdown",
   "metadata": {},
   "source": [
    "# Imports"
   ]
  },
  {
   "cell_type": "code",
   "execution_count": 1,
   "metadata": {},
   "outputs": [],
   "source": [
    "import pandas as pd\n",
    "import numpy as np\n",
    "from xgboost import XGBClassifier\n",
    "import matplotlib.pyplot as plt\n",
    "from sklearn.preprocessing import StandardScaler\n",
    "from sklearn.model_selection import train_test_split\n",
    "from sklearn.ensemble import RandomForestClassifier, StackingClassifier, AdaBoostClassifier\n",
    "import scikitplot as skplt\n",
    "from sklearn.metrics import confusion_matrix, classification_report, plot_confusion_matrix, f1_score,auc,roc_curve,roc_auc_score, precision_recall_curve\n",
    "from xgboost.sklearn import XGBClassifier\n",
    "from sklearn import metrics\n",
    "from lightgbm import LGBMClassifier\n",
    "from catboost import CatBoostClassifier\n",
    "from sklearn.model_selection import GridSearchCV, RandomizedSearchCV, ParameterSampler, ParameterGrid\n",
    "from sklearn.preprocessing import OrdinalEncoder, LabelEncoder\n",
    "from sklearn.svm import SVC\n",
    "import pickle\n",
    "from scipy import stats\n",
    "from skopt import BayesSearchCV\n",
    "from skopt.space import Real, Categorical, Integer\n",
    "from tqdm import tqdm\n",
    "import datetime\n",
    "import time\n",
    "from sklearn.preprocessing import LabelBinarizer\n",
    "from sklearn.model_selection import cross_val_score, cross_val_predict, cross_validate, StratifiedKFold, KFold\n",
    "from sklearn.decomposition import PCA"
   ]
  },
  {
   "cell_type": "markdown",
   "metadata": {},
   "source": [
    "# Global Var"
   ]
  },
  {
   "cell_type": "code",
   "execution_count": 2,
   "metadata": {},
   "outputs": [],
   "source": [
    "KFOLDS=10"
   ]
  },
  {
   "cell_type": "markdown",
   "metadata": {},
   "source": [
    "# Data Processing & EDA"
   ]
  },
  {
   "cell_type": "code",
   "execution_count": 3,
   "metadata": {},
   "outputs": [
    {
     "name": "stdout",
     "output_type": "stream",
     "text": [
      "(9681, 25)\n",
      "['id', 'neighbourhood', 'room_type', 'minimum_nights', 'number_of_reviews', 'last_review', 'reviews_per_month', 'calculated_host_listings_count', 'availability_365', 'host_since', 'host_is_superhost', 'bathrooms', 'bedrooms', 'beds', 'bed_type', 'cleaning_fee', 'guests_included', 'extra_people', 'maximum_nights', 'instant_bookable', 'is_business_travel_ready', 'cancellation_policy', 'require_guest_profile_picture', 'require_guest_phone_verification', 'price'] 25\n"
     ]
    },
    {
     "data": {
      "text/html": [
       "<div>\n",
       "<style scoped>\n",
       "    .dataframe tbody tr th:only-of-type {\n",
       "        vertical-align: middle;\n",
       "    }\n",
       "\n",
       "    .dataframe tbody tr th {\n",
       "        vertical-align: top;\n",
       "    }\n",
       "\n",
       "    .dataframe thead th {\n",
       "        text-align: right;\n",
       "    }\n",
       "</style>\n",
       "<table border=\"1\" class=\"dataframe\">\n",
       "  <thead>\n",
       "    <tr style=\"text-align: right;\">\n",
       "      <th></th>\n",
       "      <th>id</th>\n",
       "      <th>neighbourhood</th>\n",
       "      <th>room_type</th>\n",
       "      <th>minimum_nights</th>\n",
       "      <th>number_of_reviews</th>\n",
       "      <th>last_review</th>\n",
       "      <th>reviews_per_month</th>\n",
       "      <th>calculated_host_listings_count</th>\n",
       "      <th>availability_365</th>\n",
       "      <th>host_since</th>\n",
       "      <th>...</th>\n",
       "      <th>cleaning_fee</th>\n",
       "      <th>guests_included</th>\n",
       "      <th>extra_people</th>\n",
       "      <th>maximum_nights</th>\n",
       "      <th>instant_bookable</th>\n",
       "      <th>is_business_travel_ready</th>\n",
       "      <th>cancellation_policy</th>\n",
       "      <th>require_guest_profile_picture</th>\n",
       "      <th>require_guest_phone_verification</th>\n",
       "      <th>price</th>\n",
       "    </tr>\n",
       "  </thead>\n",
       "  <tbody>\n",
       "    <tr>\n",
       "      <th>0</th>\n",
       "      <td>727</td>\n",
       "      <td>Palermo</td>\n",
       "      <td>Entire home/apt</td>\n",
       "      <td>1</td>\n",
       "      <td>170</td>\n",
       "      <td>5/12/20</td>\n",
       "      <td>2.48</td>\n",
       "      <td>4</td>\n",
       "      <td>346</td>\n",
       "      <td>8/1/13</td>\n",
       "      <td>...</td>\n",
       "      <td>2092</td>\n",
       "      <td>1</td>\n",
       "      <td>0</td>\n",
       "      <td>365</td>\n",
       "      <td>t</td>\n",
       "      <td>f</td>\n",
       "      <td>strict_14_with_grace_period</td>\n",
       "      <td>f</td>\n",
       "      <td>f</td>\n",
       "      <td>2</td>\n",
       "    </tr>\n",
       "    <tr>\n",
       "      <th>1</th>\n",
       "      <td>6274</td>\n",
       "      <td>Colegiales</td>\n",
       "      <td>Private room</td>\n",
       "      <td>1</td>\n",
       "      <td>11</td>\n",
       "      <td>7/1/19</td>\n",
       "      <td>0.57</td>\n",
       "      <td>1</td>\n",
       "      <td>0</td>\n",
       "      <td>2/14/14</td>\n",
       "      <td>...</td>\n",
       "      <td>558</td>\n",
       "      <td>1</td>\n",
       "      <td>0</td>\n",
       "      <td>15</td>\n",
       "      <td>f</td>\n",
       "      <td>f</td>\n",
       "      <td>moderate</td>\n",
       "      <td>f</td>\n",
       "      <td>f</td>\n",
       "      <td>1</td>\n",
       "    </tr>\n",
       "    <tr>\n",
       "      <th>2</th>\n",
       "      <td>6025</td>\n",
       "      <td>Recoleta</td>\n",
       "      <td>Entire home/apt</td>\n",
       "      <td>3</td>\n",
       "      <td>2</td>\n",
       "      <td>11/23/19</td>\n",
       "      <td>0.08</td>\n",
       "      <td>19</td>\n",
       "      <td>360</td>\n",
       "      <td>10/19/17</td>\n",
       "      <td>...</td>\n",
       "      <td>1052</td>\n",
       "      <td>3</td>\n",
       "      <td>351</td>\n",
       "      <td>90</td>\n",
       "      <td>t</td>\n",
       "      <td>f</td>\n",
       "      <td>moderate</td>\n",
       "      <td>f</td>\n",
       "      <td>f</td>\n",
       "      <td>3</td>\n",
       "    </tr>\n",
       "    <tr>\n",
       "      <th>3</th>\n",
       "      <td>8931</td>\n",
       "      <td>Recoleta</td>\n",
       "      <td>Entire home/apt</td>\n",
       "      <td>2</td>\n",
       "      <td>1</td>\n",
       "      <td>11/1/19</td>\n",
       "      <td>0.13</td>\n",
       "      <td>1</td>\n",
       "      <td>267</td>\n",
       "      <td>2/1/19</td>\n",
       "      <td>...</td>\n",
       "      <td>0</td>\n",
       "      <td>4</td>\n",
       "      <td>0</td>\n",
       "      <td>1125</td>\n",
       "      <td>t</td>\n",
       "      <td>f</td>\n",
       "      <td>flexible</td>\n",
       "      <td>f</td>\n",
       "      <td>f</td>\n",
       "      <td>2</td>\n",
       "    </tr>\n",
       "    <tr>\n",
       "      <th>4</th>\n",
       "      <td>7524</td>\n",
       "      <td>San Nicolás</td>\n",
       "      <td>Entire home/apt</td>\n",
       "      <td>2</td>\n",
       "      <td>31</td>\n",
       "      <td>12/26/19</td>\n",
       "      <td>1.54</td>\n",
       "      <td>5</td>\n",
       "      <td>365</td>\n",
       "      <td>1/24/15</td>\n",
       "      <td>...</td>\n",
       "      <td>2092</td>\n",
       "      <td>1</td>\n",
       "      <td>0</td>\n",
       "      <td>365</td>\n",
       "      <td>t</td>\n",
       "      <td>f</td>\n",
       "      <td>moderate</td>\n",
       "      <td>f</td>\n",
       "      <td>f</td>\n",
       "      <td>3</td>\n",
       "    </tr>\n",
       "  </tbody>\n",
       "</table>\n",
       "<p>5 rows × 25 columns</p>\n",
       "</div>"
      ],
      "text/plain": [
       "     id neighbourhood        room_type  minimum_nights  number_of_reviews  \\\n",
       "0   727       Palermo  Entire home/apt               1                170   \n",
       "1  6274    Colegiales     Private room               1                 11   \n",
       "2  6025      Recoleta  Entire home/apt               3                  2   \n",
       "3  8931      Recoleta  Entire home/apt               2                  1   \n",
       "4  7524   San Nicolás  Entire home/apt               2                 31   \n",
       "\n",
       "  last_review  reviews_per_month  calculated_host_listings_count  \\\n",
       "0     5/12/20               2.48                               4   \n",
       "1      7/1/19               0.57                               1   \n",
       "2    11/23/19               0.08                              19   \n",
       "3     11/1/19               0.13                               1   \n",
       "4    12/26/19               1.54                               5   \n",
       "\n",
       "   availability_365 host_since  ... cleaning_fee  guests_included  \\\n",
       "0               346     8/1/13  ...         2092                1   \n",
       "1                 0    2/14/14  ...          558                1   \n",
       "2               360   10/19/17  ...         1052                3   \n",
       "3               267     2/1/19  ...            0                4   \n",
       "4               365    1/24/15  ...         2092                1   \n",
       "\n",
       "   extra_people  maximum_nights instant_bookable  is_business_travel_ready  \\\n",
       "0             0             365                t                         f   \n",
       "1             0              15                f                         f   \n",
       "2           351              90                t                         f   \n",
       "3             0            1125                t                         f   \n",
       "4             0             365                t                         f   \n",
       "\n",
       "           cancellation_policy  require_guest_profile_picture  \\\n",
       "0  strict_14_with_grace_period                              f   \n",
       "1                     moderate                              f   \n",
       "2                     moderate                              f   \n",
       "3                     flexible                              f   \n",
       "4                     moderate                              f   \n",
       "\n",
       "   require_guest_phone_verification price  \n",
       "0                                 f     2  \n",
       "1                                 f     1  \n",
       "2                                 f     3  \n",
       "3                                 f     2  \n",
       "4                                 f     3  \n",
       "\n",
       "[5 rows x 25 columns]"
      ]
     },
     "execution_count": 3,
     "metadata": {},
     "output_type": "execute_result"
    }
   ],
   "source": [
    "train_data = pd.read_csv(\"train.csv\",encoding=\"utf_8_sig\")\n",
    "print(train_data.shape)\n",
    "print(list(train_data), len(list(train_data)))\n",
    "train_data.head()"
   ]
  },
  {
   "cell_type": "code",
   "execution_count": 4,
   "metadata": {},
   "outputs": [],
   "source": [
    "neigh_encoder = LabelBinarizer()\n",
    "room_encoder = LabelBinarizer()\n",
    "bed_encoder = LabelBinarizer()\n",
    "cancel_encoder = LabelBinarizer()\n",
    "neigh_encoder.fit(train_data['neighbourhood'])\n",
    "room_encoder.fit(train_data['room_type'])\n",
    "bed_encoder.fit(train_data['bed_type'])\n",
    "cancel_encoder.fit(train_data['cancellation_policy'])\n",
    "\n",
    "def data_processing_onehotencode(data):\n",
    "    current_date = [\"11/03/20\"]*len(data[\"number_of_reviews\"])\n",
    "    data[\"today_date\"] = current_date\n",
    "    data[\"last_review\"] = (pd.to_datetime(data['today_date']) - pd.to_datetime(data['last_review']))\n",
    "    data[\"host_since\"] = (pd.to_datetime(data['today_date']) - pd.to_datetime(data['host_since']))\n",
    "    data['last_review'] = data[\"last_review\"].astype('timedelta64[D]').astype(float)\n",
    "    data['host_since'] = data[\"host_since\"].astype('timedelta64[D]').astype(float)\n",
    "    data = data.drop([\"today_date\"],axis=1)\n",
    "    \n",
    "    def room_type_name(i):\n",
    "        def_code = {\"Entire home/apt\":1,'Private room': 2,'Shared room':3,'Hotel room':4}\n",
    "        if i in def_code:\n",
    "            return def_code[i]\n",
    "    def bed_type_name(i):\n",
    "        def_code = {'Real Bed':1,'Pull-out Sofa': 2,'Futon':3,'Couch':4,'Airbed':5}\n",
    "        if i in def_code:\n",
    "            return def_code[i]\n",
    "    def cancellation_policy_name(i):\n",
    "        def_code = {'strict_14_with_grace_period':1,'flexible': 2,'moderate':3,'super_strict_30':4, 'super_strict_60':5}\n",
    "        if i in def_code:\n",
    "            return def_code[i]\n",
    "    \n",
    "    def encode_onehot(name, d):\n",
    "        \n",
    "        encoder = LabelBinarizer()\n",
    "        jobs_encoder.fit(data['Profession'])\n",
    "        transformed = jobs_encoder.transform(data['Profession'])\n",
    "        ohe_df = pd.DataFrame(transformed)\n",
    "        \n",
    "        onehot_ = pd.get_dummies(d[name], prefix=name)\n",
    "        d.drop(name, axis=1, inplace=True)\n",
    "        d = pd.concat([onehot_, d], axis=1)\n",
    "        return d\n",
    "    \n",
    "    neigh_onehot = neigh_encoder.transform(data['neighbourhood'])\n",
    "    neigh_onehot_df = pd.DataFrame(neigh_onehot)\n",
    "    data.drop('neighbourhood', axis=1, inplace=True)\n",
    "    data = pd.concat([neigh_onehot_df, data], axis=1)\n",
    "    \n",
    "    room_onehot = room_encoder.transform(data['room_type'])\n",
    "    room_onehot_df = pd.DataFrame(room_onehot)\n",
    "    data.drop('room_type', axis=1, inplace=True)\n",
    "    data = pd.concat([room_onehot_df, data], axis=1)\n",
    "    \n",
    "    bed_onehot = bed_encoder.transform(data['bed_type'])\n",
    "    bed_onehot_df = pd.DataFrame(bed_onehot)\n",
    "    data.drop('bed_type', axis=1, inplace=True)\n",
    "    data = pd.concat([bed_onehot_df, data], axis=1)\n",
    "    \n",
    "    cancel_onehot = cancel_encoder.transform(data['cancellation_policy'])\n",
    "    cancel_onehot_df = pd.DataFrame(cancel_onehot)\n",
    "    data.drop('cancellation_policy', axis=1, inplace=True)\n",
    "    data = pd.concat([cancel_onehot_df, data], axis=1)\n",
    "\n",
    "#     data['neighbourhood'] = data.neighbourhood.apply(neigh_name)\n",
    "#     data['room_type'] = data.room_type.apply(room_type_name)\n",
    "#     data['bed_type'] = data.bed_type.apply(bed_type_name)\n",
    "#     data['cancellation_policy'] = data.cancellation_policy.apply(cancellation_policy_name)\n",
    "\n",
    "    data['host_is_superhost'] = data.host_is_superhost.map(dict(t=2, f=1))\n",
    "    data['instant_bookable'] = data.instant_bookable.map(dict(t=2, f=1))\n",
    "    data['require_guest_profile_picture'] = data.require_guest_profile_picture.map(dict(t=2, f=1))\n",
    "    data['require_guest_phone_verification'] = data.require_guest_phone_verification.map(dict(t=2, f=1))\n",
    "    \n",
    "    data.drop('id', axis=1, inplace=True)\n",
    "    \n",
    "    data = data.drop([\"is_business_travel_ready\"],axis=1)\n",
    "    \n",
    "    return data"
   ]
  },
  {
   "cell_type": "code",
   "execution_count": 5,
   "metadata": {},
   "outputs": [],
   "source": [
    "def data_processing_labelencode(data):\n",
    "    current_date = [\"11/03/20\"]*len(data[\"number_of_reviews\"])\n",
    "    data[\"today_date\"] = current_date\n",
    "    data[\"last_review\"] = (pd.to_datetime(data['today_date']) - pd.to_datetime(data['last_review']))\n",
    "    data[\"host_since\"] = (pd.to_datetime(data['today_date']) - pd.to_datetime(data['host_since']))\n",
    "    data['last_review'] = data[\"last_review\"].astype('timedelta64[D]').astype(float)\n",
    "    data['host_since'] = data[\"host_since\"].astype('timedelta64[D]').astype(float)\n",
    "    data = data.drop([\"today_date\"],axis=1)\n",
    "    \n",
    "    def neigh_name(i):\n",
    "        def_code = {\"Palermo\":1,\"Colegiales\":2,\"Recoleta\":3,\"San Nicolás\":4,\"Caballito\":5,\"Núñez\":6,\"Balvanera\":7,\n",
    "                    \"Constitución\":7,\"Monserrat\":8,\"Retiro\":9,\"San Telmo\":10,\"Belgrano\":11,\"Villa Devoto\":12,\n",
    "                    \"Puerto Madero\":13,\"Almagro\":14,\"Villa Santa Rita\":15,\"Villa Crespo\":16,\"Villa Urquiza\":17,\"Parque Patricios\":18,\n",
    "                    \"Coghlan\":19,\"Flores\":20,\"Barracas\":21,\"Agronomía\":22,\"Chacarita\":23,\"Villa Ortúzar\":24,\"Villa del Parque\":25,\n",
    "                    \"Saavedra\":26,\"Villa Pueyrredón\":27,\"Parque Chacabuco\":28,\"Parque Chas\":29,\"Boedo\":30,\"Monte Castro\":31,\n",
    "                    \"Floresta\":32,\"La Paternal\":33,\"La Boca\":34,\"San Cristóbal\":35,\"Villa Luro\":36,\"Liniers\":37,\"Mataderos\":38,\"Villa General Mitre\":39,\n",
    "                    \"Parque Avellaneda\":40,\"Nueva Pompeya\":41,\"Versalles\":42,\"Vélez Sársfield\":43,\"Villa Real\":44}\n",
    "        if i in def_code:\n",
    "            return def_code[i]\n",
    "    def room_type_name(i):\n",
    "        def_code = {\"Entire home/apt\":1,'Private room': 2,'Shared room':3,'Hotel room':4}\n",
    "        if i in def_code:\n",
    "            return def_code[i]\n",
    "    def bed_type_name(i):\n",
    "        def_code = {'Real Bed':1,'Pull-out Sofa': 2,'Futon':3,'Couch':4,'Airbed':5}\n",
    "        if i in def_code:\n",
    "            return def_code[i]\n",
    "    def cancellation_policy_name(i):\n",
    "        def_code = {'strict_14_with_grace_period':1,'flexible': 2,'moderate':3,'super_strict_30':4, 'super_strict_60':5}\n",
    "        if i in def_code:\n",
    "            return def_code[i]\n",
    "    \n",
    "    data['neighbourhood'] = data.neighbourhood.apply(neigh_name)\n",
    "    data['room_type'] = data.room_type.apply(room_type_name)\n",
    "    data['bed_type'] = data.bed_type.apply(bed_type_name)\n",
    "    data['cancellation_policy'] = data.cancellation_policy.apply(cancellation_policy_name)\n",
    "\n",
    "    data['host_is_superhost'] = data.host_is_superhost.map(dict(t=2, f=1))\n",
    "    data['instant_bookable'] = data.instant_bookable.map(dict(t=2, f=1))\n",
    "    data['require_guest_profile_picture'] = data.require_guest_profile_picture.map(dict(t=2, f=1))\n",
    "    data['require_guest_phone_verification'] = data.require_guest_phone_verification.map(dict(t=2, f=1))\n",
    "    \n",
    "    data.drop('id', axis=1, inplace=True)\n",
    "    \n",
    "    data = data.drop([\"is_business_travel_ready\"],axis=1)\n",
    "    \n",
    "#     target = data['maximum_nights']\n",
    "#     mean = target.mean()\n",
    "#     std = target.std()\n",
    "#     tol=10\n",
    "#     data = data[(target > mean - tol*std) & (target < mean + tol*std)]\n",
    "    \n",
    "    return data"
   ]
  },
  {
   "cell_type": "code",
   "execution_count": 6,
   "metadata": {},
   "outputs": [
    {
     "name": "stdout",
     "output_type": "stream",
     "text": [
      "['id', 'neighbourhood', 'room_type', 'minimum_nights', 'number_of_reviews', 'last_review', 'reviews_per_month', 'calculated_host_listings_count', 'availability_365', 'host_since', 'host_is_superhost', 'bathrooms', 'bedrooms', 'beds', 'bed_type', 'cleaning_fee', 'guests_included', 'extra_people', 'maximum_nights', 'instant_bookable', 'is_business_travel_ready', 'cancellation_policy', 'require_guest_profile_picture', 'require_guest_phone_verification', 'price']\n",
      "[0, 1, 2, 3, 4, 0, 1, 2, 3, 4, 0, 1, 2, 3, 0, 1, 2, 3, 4, 5, 6, 7, 8, 9, 10, 11, 12, 13, 14, 15, 16, 17, 18, 19, 20, 21, 22, 23, 24, 25, 26, 27, 28, 29, 30, 31, 32, 33, 34, 35, 36, 37, 38, 39, 40, 41, 42, 43, 44, 'minimum_nights', 'number_of_reviews', 'last_review', 'reviews_per_month', 'calculated_host_listings_count', 'availability_365', 'host_since', 'host_is_superhost', 'bathrooms', 'bedrooms', 'beds', 'cleaning_fee', 'guests_included', 'extra_people', 'maximum_nights', 'instant_bookable', 'require_guest_profile_picture', 'require_guest_phone_verification', 'price']\n",
      "(9681, 78)\n"
     ]
    }
   ],
   "source": [
    "print(list(train_data))\n",
    "train_data = data_processing_onehotencode(train_data)\n",
    "print(list(train_data))\n",
    "print(train_data.shape)"
   ]
  },
  {
   "cell_type": "code",
   "execution_count": 7,
   "metadata": {},
   "outputs": [
    {
     "data": {
      "text/html": [
       "<div>\n",
       "<style scoped>\n",
       "    .dataframe tbody tr th:only-of-type {\n",
       "        vertical-align: middle;\n",
       "    }\n",
       "\n",
       "    .dataframe tbody tr th {\n",
       "        vertical-align: top;\n",
       "    }\n",
       "\n",
       "    .dataframe thead th {\n",
       "        text-align: right;\n",
       "    }\n",
       "</style>\n",
       "<table border=\"1\" class=\"dataframe\">\n",
       "  <thead>\n",
       "    <tr style=\"text-align: right;\">\n",
       "      <th></th>\n",
       "      <th>0</th>\n",
       "      <th>1</th>\n",
       "      <th>2</th>\n",
       "      <th>3</th>\n",
       "      <th>4</th>\n",
       "      <th>0</th>\n",
       "      <th>1</th>\n",
       "      <th>2</th>\n",
       "      <th>3</th>\n",
       "      <th>4</th>\n",
       "      <th>...</th>\n",
       "      <th>bedrooms</th>\n",
       "      <th>beds</th>\n",
       "      <th>cleaning_fee</th>\n",
       "      <th>guests_included</th>\n",
       "      <th>extra_people</th>\n",
       "      <th>maximum_nights</th>\n",
       "      <th>instant_bookable</th>\n",
       "      <th>require_guest_profile_picture</th>\n",
       "      <th>require_guest_phone_verification</th>\n",
       "      <th>price</th>\n",
       "    </tr>\n",
       "  </thead>\n",
       "  <tbody>\n",
       "    <tr>\n",
       "      <th>0</th>\n",
       "      <td>0</td>\n",
       "      <td>0</td>\n",
       "      <td>1</td>\n",
       "      <td>0</td>\n",
       "      <td>0</td>\n",
       "      <td>0</td>\n",
       "      <td>0</td>\n",
       "      <td>0</td>\n",
       "      <td>0</td>\n",
       "      <td>1</td>\n",
       "      <td>...</td>\n",
       "      <td>0</td>\n",
       "      <td>1</td>\n",
       "      <td>2092</td>\n",
       "      <td>1</td>\n",
       "      <td>0</td>\n",
       "      <td>365</td>\n",
       "      <td>2</td>\n",
       "      <td>1</td>\n",
       "      <td>1</td>\n",
       "      <td>2</td>\n",
       "    </tr>\n",
       "    <tr>\n",
       "      <th>1</th>\n",
       "      <td>0</td>\n",
       "      <td>1</td>\n",
       "      <td>0</td>\n",
       "      <td>0</td>\n",
       "      <td>0</td>\n",
       "      <td>0</td>\n",
       "      <td>0</td>\n",
       "      <td>0</td>\n",
       "      <td>0</td>\n",
       "      <td>1</td>\n",
       "      <td>...</td>\n",
       "      <td>1</td>\n",
       "      <td>1</td>\n",
       "      <td>558</td>\n",
       "      <td>1</td>\n",
       "      <td>0</td>\n",
       "      <td>15</td>\n",
       "      <td>1</td>\n",
       "      <td>1</td>\n",
       "      <td>1</td>\n",
       "      <td>1</td>\n",
       "    </tr>\n",
       "    <tr>\n",
       "      <th>2</th>\n",
       "      <td>0</td>\n",
       "      <td>1</td>\n",
       "      <td>0</td>\n",
       "      <td>0</td>\n",
       "      <td>0</td>\n",
       "      <td>0</td>\n",
       "      <td>0</td>\n",
       "      <td>0</td>\n",
       "      <td>0</td>\n",
       "      <td>1</td>\n",
       "      <td>...</td>\n",
       "      <td>0</td>\n",
       "      <td>1</td>\n",
       "      <td>1052</td>\n",
       "      <td>3</td>\n",
       "      <td>351</td>\n",
       "      <td>90</td>\n",
       "      <td>2</td>\n",
       "      <td>1</td>\n",
       "      <td>1</td>\n",
       "      <td>3</td>\n",
       "    </tr>\n",
       "    <tr>\n",
       "      <th>3</th>\n",
       "      <td>1</td>\n",
       "      <td>0</td>\n",
       "      <td>0</td>\n",
       "      <td>0</td>\n",
       "      <td>0</td>\n",
       "      <td>0</td>\n",
       "      <td>0</td>\n",
       "      <td>0</td>\n",
       "      <td>0</td>\n",
       "      <td>1</td>\n",
       "      <td>...</td>\n",
       "      <td>1</td>\n",
       "      <td>3</td>\n",
       "      <td>0</td>\n",
       "      <td>4</td>\n",
       "      <td>0</td>\n",
       "      <td>1125</td>\n",
       "      <td>2</td>\n",
       "      <td>1</td>\n",
       "      <td>1</td>\n",
       "      <td>2</td>\n",
       "    </tr>\n",
       "    <tr>\n",
       "      <th>4</th>\n",
       "      <td>0</td>\n",
       "      <td>1</td>\n",
       "      <td>0</td>\n",
       "      <td>0</td>\n",
       "      <td>0</td>\n",
       "      <td>0</td>\n",
       "      <td>0</td>\n",
       "      <td>0</td>\n",
       "      <td>0</td>\n",
       "      <td>1</td>\n",
       "      <td>...</td>\n",
       "      <td>1</td>\n",
       "      <td>3</td>\n",
       "      <td>2092</td>\n",
       "      <td>1</td>\n",
       "      <td>0</td>\n",
       "      <td>365</td>\n",
       "      <td>2</td>\n",
       "      <td>1</td>\n",
       "      <td>1</td>\n",
       "      <td>3</td>\n",
       "    </tr>\n",
       "    <tr>\n",
       "      <th>...</th>\n",
       "      <td>...</td>\n",
       "      <td>...</td>\n",
       "      <td>...</td>\n",
       "      <td>...</td>\n",
       "      <td>...</td>\n",
       "      <td>...</td>\n",
       "      <td>...</td>\n",
       "      <td>...</td>\n",
       "      <td>...</td>\n",
       "      <td>...</td>\n",
       "      <td>...</td>\n",
       "      <td>...</td>\n",
       "      <td>...</td>\n",
       "      <td>...</td>\n",
       "      <td>...</td>\n",
       "      <td>...</td>\n",
       "      <td>...</td>\n",
       "      <td>...</td>\n",
       "      <td>...</td>\n",
       "      <td>...</td>\n",
       "      <td>...</td>\n",
       "    </tr>\n",
       "    <tr>\n",
       "      <th>9676</th>\n",
       "      <td>0</td>\n",
       "      <td>0</td>\n",
       "      <td>1</td>\n",
       "      <td>0</td>\n",
       "      <td>0</td>\n",
       "      <td>0</td>\n",
       "      <td>0</td>\n",
       "      <td>0</td>\n",
       "      <td>0</td>\n",
       "      <td>1</td>\n",
       "      <td>...</td>\n",
       "      <td>1</td>\n",
       "      <td>1</td>\n",
       "      <td>700</td>\n",
       "      <td>1</td>\n",
       "      <td>0</td>\n",
       "      <td>185</td>\n",
       "      <td>1</td>\n",
       "      <td>1</td>\n",
       "      <td>1</td>\n",
       "      <td>4</td>\n",
       "    </tr>\n",
       "    <tr>\n",
       "      <th>9677</th>\n",
       "      <td>0</td>\n",
       "      <td>0</td>\n",
       "      <td>1</td>\n",
       "      <td>0</td>\n",
       "      <td>0</td>\n",
       "      <td>0</td>\n",
       "      <td>0</td>\n",
       "      <td>0</td>\n",
       "      <td>0</td>\n",
       "      <td>1</td>\n",
       "      <td>...</td>\n",
       "      <td>2</td>\n",
       "      <td>5</td>\n",
       "      <td>1500</td>\n",
       "      <td>6</td>\n",
       "      <td>500</td>\n",
       "      <td>30</td>\n",
       "      <td>2</td>\n",
       "      <td>1</td>\n",
       "      <td>1</td>\n",
       "      <td>4</td>\n",
       "    </tr>\n",
       "    <tr>\n",
       "      <th>9678</th>\n",
       "      <td>1</td>\n",
       "      <td>0</td>\n",
       "      <td>0</td>\n",
       "      <td>0</td>\n",
       "      <td>0</td>\n",
       "      <td>0</td>\n",
       "      <td>0</td>\n",
       "      <td>0</td>\n",
       "      <td>0</td>\n",
       "      <td>1</td>\n",
       "      <td>...</td>\n",
       "      <td>0</td>\n",
       "      <td>2</td>\n",
       "      <td>3492</td>\n",
       "      <td>1</td>\n",
       "      <td>0</td>\n",
       "      <td>180</td>\n",
       "      <td>2</td>\n",
       "      <td>1</td>\n",
       "      <td>1</td>\n",
       "      <td>3</td>\n",
       "    </tr>\n",
       "    <tr>\n",
       "      <th>9679</th>\n",
       "      <td>0</td>\n",
       "      <td>1</td>\n",
       "      <td>0</td>\n",
       "      <td>0</td>\n",
       "      <td>0</td>\n",
       "      <td>0</td>\n",
       "      <td>0</td>\n",
       "      <td>0</td>\n",
       "      <td>0</td>\n",
       "      <td>1</td>\n",
       "      <td>...</td>\n",
       "      <td>3</td>\n",
       "      <td>3</td>\n",
       "      <td>900</td>\n",
       "      <td>1</td>\n",
       "      <td>0</td>\n",
       "      <td>1125</td>\n",
       "      <td>2</td>\n",
       "      <td>1</td>\n",
       "      <td>1</td>\n",
       "      <td>3</td>\n",
       "    </tr>\n",
       "    <tr>\n",
       "      <th>9680</th>\n",
       "      <td>0</td>\n",
       "      <td>1</td>\n",
       "      <td>0</td>\n",
       "      <td>0</td>\n",
       "      <td>0</td>\n",
       "      <td>0</td>\n",
       "      <td>0</td>\n",
       "      <td>0</td>\n",
       "      <td>0</td>\n",
       "      <td>1</td>\n",
       "      <td>...</td>\n",
       "      <td>1</td>\n",
       "      <td>1</td>\n",
       "      <td>1395</td>\n",
       "      <td>1</td>\n",
       "      <td>0</td>\n",
       "      <td>1125</td>\n",
       "      <td>1</td>\n",
       "      <td>1</td>\n",
       "      <td>1</td>\n",
       "      <td>1</td>\n",
       "    </tr>\n",
       "  </tbody>\n",
       "</table>\n",
       "<p>9681 rows × 78 columns</p>\n",
       "</div>"
      ],
      "text/plain": [
       "      0  1  2  3  4  0  1  2  3  4  ...  bedrooms  beds  cleaning_fee  \\\n",
       "0     0  0  1  0  0  0  0  0  0  1  ...         0     1          2092   \n",
       "1     0  1  0  0  0  0  0  0  0  1  ...         1     1           558   \n",
       "2     0  1  0  0  0  0  0  0  0  1  ...         0     1          1052   \n",
       "3     1  0  0  0  0  0  0  0  0  1  ...         1     3             0   \n",
       "4     0  1  0  0  0  0  0  0  0  1  ...         1     3          2092   \n",
       "...  .. .. .. .. .. .. .. .. .. ..  ...       ...   ...           ...   \n",
       "9676  0  0  1  0  0  0  0  0  0  1  ...         1     1           700   \n",
       "9677  0  0  1  0  0  0  0  0  0  1  ...         2     5          1500   \n",
       "9678  1  0  0  0  0  0  0  0  0  1  ...         0     2          3492   \n",
       "9679  0  1  0  0  0  0  0  0  0  1  ...         3     3           900   \n",
       "9680  0  1  0  0  0  0  0  0  0  1  ...         1     1          1395   \n",
       "\n",
       "      guests_included  extra_people  maximum_nights  instant_bookable  \\\n",
       "0                   1             0             365                 2   \n",
       "1                   1             0              15                 1   \n",
       "2                   3           351              90                 2   \n",
       "3                   4             0            1125                 2   \n",
       "4                   1             0             365                 2   \n",
       "...               ...           ...             ...               ...   \n",
       "9676                1             0             185                 1   \n",
       "9677                6           500              30                 2   \n",
       "9678                1             0             180                 2   \n",
       "9679                1             0            1125                 2   \n",
       "9680                1             0            1125                 1   \n",
       "\n",
       "      require_guest_profile_picture  require_guest_phone_verification  price  \n",
       "0                                 1                                 1      2  \n",
       "1                                 1                                 1      1  \n",
       "2                                 1                                 1      3  \n",
       "3                                 1                                 1      2  \n",
       "4                                 1                                 1      3  \n",
       "...                             ...                               ...    ...  \n",
       "9676                              1                                 1      4  \n",
       "9677                              1                                 1      4  \n",
       "9678                              1                                 1      3  \n",
       "9679                              1                                 1      3  \n",
       "9680                              1                                 1      1  \n",
       "\n",
       "[9681 rows x 78 columns]"
      ]
     },
     "execution_count": 7,
     "metadata": {},
     "output_type": "execute_result"
    }
   ],
   "source": [
    "train_data"
   ]
  },
  {
   "cell_type": "code",
   "execution_count": 8,
   "metadata": {},
   "outputs": [],
   "source": [
    "X_unscaled = train_data.drop(columns=['price'], axis=1)\n",
    "y_train = train_data['price']"
   ]
  },
  {
   "cell_type": "code",
   "execution_count": 9,
   "metadata": {},
   "outputs": [],
   "source": [
    "scale = StandardScaler()\n",
    "scale.fit(X_unscaled)\n",
    "X_train = scale.transform(X_unscaled)"
   ]
  },
  {
   "cell_type": "markdown",
   "metadata": {},
   "source": [
    "# Models"
   ]
  },
  {
   "cell_type": "code",
   "execution_count": 10,
   "metadata": {},
   "outputs": [],
   "source": [
    "#Membuat fungsi yang nanti sekalin bisa training dan tes kemudian dievalusi\n",
    "def model_eval(clf, X=X_train, print_=True, k=KFOLDS, cat=False):\n",
    "    scores = cross_validate(clf, X, y_train, cv=k, n_jobs=-1, scoring=['roc_auc_ovo', 'accuracy'], return_train_score=True)\n",
    "    if print_:\n",
    "        print(\"Train: Acc: {:.5f} +/- {:.5f},  Auc: {:.5f} | Test: Acc: {:.5f} +/- {:.5f},  Auc: {:.5f}\".\n",
    "              format(scores['train_accuracy'].mean(), scores['train_accuracy'].std() * 2, scores['train_roc_auc_ovo'].mean(), \n",
    "                     scores['test_accuracy'].mean(), scores['test_accuracy'].std() * 2, scores['test_roc_auc_ovo'].mean()))\n",
    "    return scores['train_accuracy'].mean(), scores['train_roc_auc_ovo'].mean(), scores['test_accuracy'].mean(), scores['test_roc_auc_ovo'].mean()"
   ]
  },
  {
   "cell_type": "code",
   "execution_count": 73,
   "metadata": {},
   "outputs": [],
   "source": [
    "def plot_grid_search_validation_curve(grid, param_to_vary, log=False, model_name=None):\n",
    "#     plt.figure(figsize=(5, 20))\n",
    "    df_cv_results = pd.DataFrame(grid.cv_results_)\n",
    "    train_scores_mean = df_cv_results['mean_train_accuracy']\n",
    "    valid_scores_mean = df_cv_results['mean_test_accuracy']\n",
    "    train_scores_std = df_cv_results['std_train_accuracy']\n",
    "    valid_scores_std = df_cv_results['std_test_accuracy']\n",
    "\n",
    "    param_cols = [c for c in df_cv_results.columns if c[:6] == 'param_']\n",
    "    param_ranges = [grid.param_grid[p[6:]] for p in param_cols]\n",
    "    param_ranges_lengths = [len(pr) for pr in param_ranges]\n",
    "\n",
    "    train_scores_mean = np.array(train_scores_mean).reshape(*param_ranges_lengths)\n",
    "    valid_scores_mean = np.array(valid_scores_mean).reshape(*param_ranges_lengths)\n",
    "    train_scores_std = np.array(train_scores_std).reshape(*param_ranges_lengths)\n",
    "    valid_scores_std = np.array(valid_scores_std).reshape(*param_ranges_lengths)\n",
    "\n",
    "    param_to_vary_idx = param_cols.index('param_{}'.format(param_to_vary))\n",
    "\n",
    "    slices = []\n",
    "    for idx, param in enumerate(grid.best_params_):\n",
    "        if (idx == param_to_vary_idx):\n",
    "            slices.append(slice(None))\n",
    "            continue\n",
    "        best_param_val = grid.best_params_[param]\n",
    "        idx_of_best_param = 0\n",
    "        if isinstance(param_ranges[idx], np.ndarray):\n",
    "            idx_of_best_param = param_ranges[idx].tolist().index(best_param_val)\n",
    "        else:\n",
    "            idx_of_best_param = param_ranges[idx].index(best_param_val)\n",
    "        slices.append(idx_of_best_param)\n",
    "\n",
    "    train_scores_mean = train_scores_mean[tuple(slices)]\n",
    "    valid_scores_mean = valid_scores_mean[tuple(slices)]\n",
    "    train_scores_std = train_scores_std[tuple(slices)]\n",
    "    valid_scores_std = valid_scores_std[tuple(slices)]\n",
    "\n",
    "    plt.clf()\n",
    "    title = param_to_vary + ' vs Accuracy ' + model_name\n",
    "    plt.title(title)\n",
    "    plt.xlabel(param_to_vary)\n",
    "    plt.ylabel('Accuracy')\n",
    "\n",
    "    plt.ylim(0.45, 0.6)\n",
    "\n",
    "    lw = 2\n",
    "\n",
    "    plot_fn = plt.plot\n",
    "    if log:\n",
    "        plot_fn = plt.semilogx\n",
    "\n",
    "    param_range = param_ranges[param_to_vary_idx]\n",
    "#     plot_fn(param_range, train_scores_mean, label='Training Accuracy', color='r',\n",
    "#             lw=lw)\n",
    "#     plt.fill_between(param_range, train_scores_mean - train_scores_std,\n",
    "#                      train_scores_mean + train_scores_std, alpha=0.1,\n",
    "#                      color='r', lw=lw)\n",
    "    plot_fn(param_range, valid_scores_mean, label='Cross-validation Accuracy',\n",
    "            color='b', lw=lw)\n",
    "    plt.fill_between(param_range, valid_scores_mean - valid_scores_std,\n",
    "                     valid_scores_mean + valid_scores_std, alpha=0.1,\n",
    "                     color='b', lw=lw)\n",
    "\n",
    "    plt.legend()\n",
    "\n",
    "    plt.show()"
   ]
  },
  {
   "cell_type": "markdown",
   "metadata": {},
   "source": [
    "# LGBM Tuning"
   ]
  },
  {
   "cell_type": "code",
   "execution_count": 13,
   "metadata": {},
   "outputs": [
    {
     "name": "stdout",
     "output_type": "stream",
     "text": [
      "Acc: 0.55511 +/- 0.02413 | Auc: 0.80195\n"
     ]
    },
    {
     "data": {
      "text/plain": [
       "(0.5551082764093745, 0.8019513149131952)"
      ]
     },
     "execution_count": 13,
     "metadata": {},
     "output_type": "execute_result"
    }
   ],
   "source": [
    "lgb = LGBMClassifier(objective='multiclass',num_class=4, random_state=1, learning_rate=0.086, \n",
    "                         max_depth=10, num_leaves=200, min_child_samples=3, min_child_weight=0.007,\n",
    "                        reg_alpha = 0.8, reg_lambda=0.8)\n",
    "model_eval(lgb)"
   ]
  },
  {
   "cell_type": "code",
   "execution_count": 74,
   "metadata": {},
   "outputs": [
    {
     "name": "stdout",
     "output_type": "stream",
     "text": [
      "Fitting 2 folds for each of 8 candidates, totalling 16 fits\n"
     ]
    },
    {
     "name": "stderr",
     "output_type": "stream",
     "text": [
      "[Parallel(n_jobs=-1)]: Using backend LokyBackend with 16 concurrent workers.\n",
      "[Parallel(n_jobs=-1)]: Done   3 out of  16 | elapsed:    0.8s remaining:    3.6s\n",
      "[Parallel(n_jobs=-1)]: Done   5 out of  16 | elapsed:    1.0s remaining:    2.3s\n",
      "[Parallel(n_jobs=-1)]: Done   7 out of  16 | elapsed:    1.2s remaining:    1.5s\n",
      "[Parallel(n_jobs=-1)]: Done   9 out of  16 | elapsed:    1.3s remaining:    1.0s\n",
      "[Parallel(n_jobs=-1)]: Done  11 out of  16 | elapsed:    1.3s remaining:    0.5s\n",
      "[Parallel(n_jobs=-1)]: Done  13 out of  16 | elapsed:    1.4s remaining:    0.2s\n",
      "[Parallel(n_jobs=-1)]: Done  16 out of  16 | elapsed:    1.4s finished\n"
     ]
    },
    {
     "name": "stdout",
     "output_type": "stream",
     "text": [
      "\n",
      " The best estimator across ALL searched params:\n",
      " LGBMClassifier(learning_rate=0.17, max_depth=9, num_class=4,\n",
      "               objective='multiclass', random_state=1)\n",
      "\n",
      " The best score across ALL searched params:\n",
      " 0.5350689530371602\n",
      "\n",
      " The best parameters across ALL searched params:\n",
      " {'max_depth': 9}\n"
     ]
    },
    {
     "data": {
      "image/png": "[encoded data removed]",
      "text/plain": [
       "<Figure size 432x288 with 1 Axes>"
      ]
     },
     "metadata": {
      "needs_background": "light"
     },
     "output_type": "display_data"
    }
   ],
   "source": [
    "params = {\n",
    "    'max_depth': range(3, 11)\n",
    "}\n",
    "lgb = LGBMClassifier(objective='multiclass',num_class=4, random_state=1, learning_rate=0.17, n_jobs=-1)\n",
    "grid = GridSearchCV(return_train_score=True, estimator=lgb, param_grid=params, cv=2, n_jobs=-1, scoring=['accuracy', 'roc_auc_ovo'], refit='accuracy', verbose=10)\n",
    "grid.fit(X_train,y_train)\n",
    "\n",
    "print(\"\\n The best estimator across ALL searched params:\\n\", grid.best_estimator_)\n",
    "print(\"\\n The best score across ALL searched params:\\n\", grid.best_score_)\n",
    "print(\"\\n The best parameters across ALL searched params:\\n\", grid.best_params_)\n",
    "plot_grid_search_validation_curve(grid, 'max_depth', model_name='LightGBM')"
   ]
  },
  {
   "cell_type": "code",
   "execution_count": 75,
   "metadata": {},
   "outputs": [
    {
     "name": "stdout",
     "output_type": "stream",
     "text": [
      "Fitting 2 folds for each of 30 candidates, totalling 60 fits\n"
     ]
    },
    {
     "name": "stderr",
     "output_type": "stream",
     "text": [
      "[Parallel(n_jobs=-1)]: Using backend LokyBackend with 16 concurrent workers.\n",
      "[Parallel(n_jobs=-1)]: Done   9 tasks      | elapsed:    5.2s\n",
      "[Parallel(n_jobs=-1)]: Done  18 tasks      | elapsed:    7.0s\n",
      "[Parallel(n_jobs=-1)]: Done  29 tasks      | elapsed:   11.7s\n",
      "[Parallel(n_jobs=-1)]: Done  36 out of  60 | elapsed:   13.7s remaining:    9.1s\n",
      "[Parallel(n_jobs=-1)]: Done  43 out of  60 | elapsed:   17.7s remaining:    6.9s\n",
      "[Parallel(n_jobs=-1)]: Done  50 out of  60 | elapsed:   18.7s remaining:    3.7s\n",
      "[Parallel(n_jobs=-1)]: Done  57 out of  60 | elapsed:   21.4s remaining:    1.0s\n",
      "[Parallel(n_jobs=-1)]: Done  60 out of  60 | elapsed:   22.2s finished\n"
     ]
    },
    {
     "name": "stdout",
     "output_type": "stream",
     "text": [
      "\n",
      " The best estimator across ALL searched params:\n",
      " LGBMClassifier(learning_rate=0.17, num_class=4, num_leaves=10,\n",
      "               objective='multiclass', random_state=1)\n",
      "\n",
      " The best score across ALL searched params:\n",
      " 0.5351723228415685\n",
      "\n",
      " The best parameters across ALL searched params:\n",
      " {'num_leaves': 10}\n"
     ]
    },
    {
     "data": {
      "image/png": "[encoded data removed]",
      "text/plain": [
       "<Figure size 432x288 with 1 Axes>"
      ]
     },
     "metadata": {
      "needs_background": "light"
     },
     "output_type": "display_data"
    }
   ],
   "source": [
    "params = {\n",
    "    'num_leaves': np.arange(10, 1500, 50)\n",
    "}\n",
    "lgb = LGBMClassifier(objective='multiclass',num_class=4, random_state=1, learning_rate=0.17, n_jobs=-1)\n",
    "grid = GridSearchCV(return_train_score=True, estimator=lgb, param_grid=params, cv=2, n_jobs=-1, scoring=['accuracy', 'roc_auc_ovo'], refit='accuracy', verbose=10)\n",
    "grid.fit(X_train,y_train)\n",
    "\n",
    "print(\"\\n The best estimator across ALL searched params:\\n\", grid.best_estimator_)\n",
    "print(\"\\n The best score across ALL searched params:\\n\", grid.best_score_)\n",
    "print(\"\\n The best parameters across ALL searched params:\\n\", grid.best_params_)\n",
    "plot_grid_search_validation_curve(grid, 'num_leaves', model_name='LightGBM')"
   ]
  },
  {
   "cell_type": "code",
   "execution_count": 76,
   "metadata": {},
   "outputs": [
    {
     "name": "stdout",
     "output_type": "stream",
     "text": [
      "Fitting 2 folds for each of 29 candidates, totalling 58 fits\n"
     ]
    },
    {
     "name": "stderr",
     "output_type": "stream",
     "text": [
      "[Parallel(n_jobs=-1)]: Using backend LokyBackend with 16 concurrent workers.\n",
      "[Parallel(n_jobs=-1)]: Done   9 tasks      | elapsed:    1.5s\n",
      "[Parallel(n_jobs=-1)]: Done  18 tasks      | elapsed:    2.9s\n",
      "[Parallel(n_jobs=-1)]: Done  33 out of  58 | elapsed:    4.3s remaining:    3.2s\n",
      "[Parallel(n_jobs=-1)]: Done  39 out of  58 | elapsed:    4.5s remaining:    2.1s\n",
      "[Parallel(n_jobs=-1)]: Done  45 out of  58 | elapsed:    4.6s remaining:    1.3s\n",
      "[Parallel(n_jobs=-1)]: Done  51 out of  58 | elapsed:    5.8s remaining:    0.7s\n",
      "[Parallel(n_jobs=-1)]: Done  58 out of  58 | elapsed:    5.9s finished\n"
     ]
    },
    {
     "name": "stdout",
     "output_type": "stream",
     "text": [
      "\n",
      " The best estimator across ALL searched params:\n",
      " LGBMClassifier(learning_rate=0.17, min_child_samples=2, num_class=4,\n",
      "               objective='multiclass', random_state=1)\n",
      "\n",
      " The best score across ALL searched params:\n",
      " 0.5370310374026266\n",
      "\n",
      " The best parameters across ALL searched params:\n",
      " {'min_child_samples': 2}\n"
     ]
    },
    {
     "data": {
      "image/png": "[encoded data removed]",
      "text/plain": [
       "<Figure size 432x288 with 1 Axes>"
      ]
     },
     "metadata": {
      "needs_background": "light"
     },
     "output_type": "display_data"
    }
   ],
   "source": [
    "params = {\n",
    "    'min_child_samples': range(1, 30)\n",
    "}\n",
    "lgb = LGBMClassifier(objective='multiclass',num_class=4, random_state=1, learning_rate=0.17, n_jobs=-1)\n",
    "grid = GridSearchCV(return_train_score=True, estimator=lgb, param_grid=params, cv=2, n_jobs=-1, scoring=['accuracy', 'roc_auc_ovo'], refit='accuracy', verbose=10)\n",
    "grid.fit(X_train,y_train)\n",
    "\n",
    "print(\"\\n The best estimator across ALL searched params:\\n\", grid.best_estimator_)\n",
    "print(\"\\n The best score across ALL searched params:\\n\", grid.best_score_)\n",
    "print(\"\\n The best parameters across ALL searched params:\\n\", grid.best_params_)\n",
    "plot_grid_search_validation_curve(grid, 'min_child_samples', model_name='LightGBM')"
   ]
  },
  {
   "cell_type": "code",
   "execution_count": 77,
   "metadata": {},
   "outputs": [
    {
     "name": "stdout",
     "output_type": "stream",
     "text": [
      "Fitting 2 folds for each of 9 candidates, totalling 18 fits\n"
     ]
    },
    {
     "name": "stderr",
     "output_type": "stream",
     "text": [
      "[Parallel(n_jobs=-1)]: Using backend LokyBackend with 16 concurrent workers.\n",
      "[Parallel(n_jobs=-1)]: Done   3 out of  18 | elapsed:    1.3s remaining:    7.1s\n",
      "[Parallel(n_jobs=-1)]: Done   5 out of  18 | elapsed:    1.4s remaining:    3.8s\n",
      "[Parallel(n_jobs=-1)]: Done   7 out of  18 | elapsed:    1.4s remaining:    2.2s\n",
      "[Parallel(n_jobs=-1)]: Done   9 out of  18 | elapsed:    1.4s remaining:    1.4s\n",
      "[Parallel(n_jobs=-1)]: Done  11 out of  18 | elapsed:    1.4s remaining:    0.9s\n",
      "[Parallel(n_jobs=-1)]: Done  13 out of  18 | elapsed:    1.4s remaining:    0.5s\n",
      "[Parallel(n_jobs=-1)]: Done  15 out of  18 | elapsed:    1.5s remaining:    0.2s\n",
      "[Parallel(n_jobs=-1)]: Done  18 out of  18 | elapsed:    2.4s finished\n"
     ]
    },
    {
     "name": "stdout",
     "output_type": "stream",
     "text": [
      "\n",
      " The best estimator across ALL searched params:\n",
      " LGBMClassifier(learning_rate=0.17, num_class=4, objective='multiclass',\n",
      "               random_state=1)\n",
      "\n",
      " The best score across ALL searched params:\n",
      " 0.5306273377708656\n",
      "\n",
      " The best parameters across ALL searched params:\n",
      " {'min_child_weight': 0.001}\n"
     ]
    },
    {
     "data": {
      "image/png": "[encoded data removed]",
      "text/plain": [
       "<Figure size 432x288 with 1 Axes>"
      ]
     },
     "metadata": {
      "needs_background": "light"
     },
     "output_type": "display_data"
    }
   ],
   "source": [
    "params = {\n",
    "    'min_child_weight': np.arange(0.001, 0.01, 0.001)\n",
    "}\n",
    "lgb = LGBMClassifier(objective='multiclass',num_class=4, random_state=1, learning_rate=0.17, n_jobs=-1)\n",
    "grid = GridSearchCV(return_train_score=True, estimator=lgb, param_grid=params, cv=2, n_jobs=-1, scoring=['accuracy', 'roc_auc_ovo'], refit='accuracy', verbose=10)\n",
    "grid.fit(X_train,y_train)\n",
    "\n",
    "print(\"\\n The best estimator across ALL searched params:\\n\", grid.best_estimator_)\n",
    "print(\"\\n The best score across ALL searched params:\\n\", grid.best_score_)\n",
    "print(\"\\n The best parameters across ALL searched params:\\n\", grid.best_params_)\n",
    "plot_grid_search_validation_curve(grid, 'min_child_weight', model_name='LightGBM')"
   ]
  },
  {
   "cell_type": "code",
   "execution_count": 78,
   "metadata": {},
   "outputs": [
    {
     "name": "stdout",
     "output_type": "stream",
     "text": [
      "Fitting 2 folds for each of 11 candidates, totalling 22 fits\n"
     ]
    },
    {
     "name": "stderr",
     "output_type": "stream",
     "text": [
      "[Parallel(n_jobs=-1)]: Using backend LokyBackend with 16 concurrent workers.\n",
      "[Parallel(n_jobs=-1)]: Done   3 out of  22 | elapsed:    1.5s remaining:   10.0s\n",
      "[Parallel(n_jobs=-1)]: Done   6 out of  22 | elapsed:    1.5s remaining:    4.3s\n",
      "[Parallel(n_jobs=-1)]: Done   9 out of  22 | elapsed:    1.6s remaining:    2.3s\n",
      "[Parallel(n_jobs=-1)]: Done  12 out of  22 | elapsed:    1.6s remaining:    1.3s\n",
      "[Parallel(n_jobs=-1)]: Done  15 out of  22 | elapsed:    1.6s remaining:    0.7s\n",
      "[Parallel(n_jobs=-1)]: Done  18 out of  22 | elapsed:    2.7s remaining:    0.5s\n",
      "[Parallel(n_jobs=-1)]: Done  22 out of  22 | elapsed:    2.8s finished\n"
     ]
    },
    {
     "name": "stdout",
     "output_type": "stream",
     "text": [
      "\n",
      " The best estimator across ALL searched params:\n",
      " LGBMClassifier(learning_rate=0.17, num_class=4, objective='multiclass',\n",
      "               random_state=1, reg_alpha=0.8)\n",
      "\n",
      " The best score across ALL searched params:\n",
      " 0.5341395424072275\n",
      "\n",
      " The best parameters across ALL searched params:\n",
      " {'reg_alpha': 0.8}\n"
     ]
    },
    {
     "data": {
      "image/png": "[encoded data removed]",
      "text/plain": [
       "<Figure size 432x288 with 1 Axes>"
      ]
     },
     "metadata": {
      "needs_background": "light"
     },
     "output_type": "display_data"
    }
   ],
   "source": [
    "params = {\n",
    "    'reg_alpha': np.arange(0.0, 1.1, 0.1)\n",
    "}\n",
    "lgb = LGBMClassifier(objective='multiclass',num_class=4, random_state=1, learning_rate=0.17, n_jobs=-1)\n",
    "grid = GridSearchCV(return_train_score=True, estimator=lgb, param_grid=params, cv=2, n_jobs=-1, scoring=['accuracy', 'roc_auc_ovo'], refit='accuracy', verbose=10)\n",
    "grid.fit(X_train,y_train)\n",
    "\n",
    "print(\"\\n The best estimator across ALL searched params:\\n\", grid.best_estimator_)\n",
    "print(\"\\n The best score across ALL searched params:\\n\", grid.best_score_)\n",
    "print(\"\\n The best parameters across ALL searched params:\\n\", grid.best_params_)\n",
    "plot_grid_search_validation_curve(grid, 'reg_alpha', model_name='LightGBM')"
   ]
  },
  {
   "cell_type": "code",
   "execution_count": 79,
   "metadata": {},
   "outputs": [
    {
     "name": "stdout",
     "output_type": "stream",
     "text": [
      "Fitting 2 folds for each of 11 candidates, totalling 22 fits\n"
     ]
    },
    {
     "name": "stderr",
     "output_type": "stream",
     "text": [
      "[Parallel(n_jobs=-1)]: Using backend LokyBackend with 16 concurrent workers.\n",
      "[Parallel(n_jobs=-1)]: Done   3 out of  22 | elapsed:    1.4s remaining:    9.3s\n",
      "[Parallel(n_jobs=-1)]: Done   6 out of  22 | elapsed:    1.4s remaining:    4.0s\n",
      "[Parallel(n_jobs=-1)]: Done   9 out of  22 | elapsed:    1.5s remaining:    2.1s\n",
      "[Parallel(n_jobs=-1)]: Done  12 out of  22 | elapsed:    1.5s remaining:    1.2s\n",
      "[Parallel(n_jobs=-1)]: Done  15 out of  22 | elapsed:    1.5s remaining:    0.7s\n",
      "[Parallel(n_jobs=-1)]: Done  18 out of  22 | elapsed:    2.6s remaining:    0.5s\n",
      "[Parallel(n_jobs=-1)]: Done  22 out of  22 | elapsed:    2.7s finished\n"
     ]
    },
    {
     "name": "stdout",
     "output_type": "stream",
     "text": [
      "\n",
      " The best estimator across ALL searched params:\n",
      " LGBMClassifier(learning_rate=0.17, num_class=4, objective='multiclass',\n",
      "               random_state=1, reg_lambda=1.0)\n",
      "\n",
      " The best score across ALL searched params:\n",
      " 0.5380647354467095\n",
      "\n",
      " The best parameters across ALL searched params:\n",
      " {'reg_lambda': 1.0}\n"
     ]
    },
    {
     "data": {
      "image/png": "[encoded data removed]",
      "text/plain": [
       "<Figure size 432x288 with 1 Axes>"
      ]
     },
     "metadata": {
      "needs_background": "light"
     },
     "output_type": "display_data"
    }
   ],
   "source": [
    "params = {\n",
    "    'reg_lambda': np.arange(0.0, 1.1, 0.1)\n",
    "}\n",
    "lgb = LGBMClassifier(objective='multiclass',num_class=4, random_state=1, learning_rate=0.17, n_jobs=-1)\n",
    "grid = GridSearchCV(return_train_score=True, estimator=lgb, param_grid=params, cv=2, n_jobs=-1, scoring=['accuracy', 'roc_auc_ovo'], refit='accuracy', verbose=10)\n",
    "grid.fit(X_train,y_train)\n",
    "\n",
    "print(\"\\n The best estimator across ALL searched params:\\n\", grid.best_estimator_)\n",
    "print(\"\\n The best score across ALL searched params:\\n\", grid.best_score_)\n",
    "print(\"\\n The best parameters across ALL searched params:\\n\", grid.best_params_)\n",
    "plot_grid_search_validation_curve(grid, 'reg_lambda', model_name='LightGBM')"
   ]
  },
  {
   "cell_type": "code",
   "execution_count": 82,
   "metadata": {},
   "outputs": [
    {
     "name": "stdout",
     "output_type": "stream",
     "text": [
      "Fitting 2 folds for each of 29 candidates, totalling 58 fits\n"
     ]
    },
    {
     "name": "stderr",
     "output_type": "stream",
     "text": [
      "[Parallel(n_jobs=-1)]: Using backend LokyBackend with 16 concurrent workers.\n",
      "[Parallel(n_jobs=-1)]: Done   9 tasks      | elapsed:    3.6s\n",
      "[Parallel(n_jobs=-1)]: Done  18 tasks      | elapsed:    5.1s\n",
      "[Parallel(n_jobs=-1)]: Done  33 out of  58 | elapsed:    6.4s remaining:    4.8s\n",
      "[Parallel(n_jobs=-1)]: Done  39 out of  58 | elapsed:    6.7s remaining:    3.2s\n",
      "[Parallel(n_jobs=-1)]: Done  45 out of  58 | elapsed:    6.8s remaining:    1.9s\n",
      "[Parallel(n_jobs=-1)]: Done  51 out of  58 | elapsed:    7.9s remaining:    1.0s\n",
      "[Parallel(n_jobs=-1)]: Done  58 out of  58 | elapsed:    8.1s finished\n"
     ]
    },
    {
     "name": "stdout",
     "output_type": "stream",
     "text": [
      "\n",
      " The best estimator across ALL searched params:\n",
      " LGBMClassifier(learning_rate=0.04, num_class=4, objective='multiclass',\n",
      "               random_state=1)\n",
      "\n",
      " The best score across ALL searched params:\n",
      " 0.5373417443291718\n",
      "\n",
      " The best parameters across ALL searched params:\n",
      " {'learning_rate': 0.04}\n"
     ]
    },
    {
     "data": {
      "image/png": "[encoded data removed]",
      "text/plain": [
       "<Figure size 432x288 with 1 Axes>"
      ]
     },
     "metadata": {
      "needs_background": "light"
     },
     "output_type": "display_data"
    }
   ],
   "source": [
    "params = {\n",
    "    'learning_rate': np.arange(0.01, 0.3, 0.01)\n",
    "}\n",
    "lgb = LGBMClassifier(objective='multiclass',num_class=4, random_state=1, learning_rate=0.17, n_jobs=-1)\n",
    "grid = GridSearchCV(return_train_score=True, estimator=lgb, param_grid=params, cv=2, n_jobs=-1, scoring=['accuracy', 'roc_auc_ovo'], refit='accuracy', verbose=10)\n",
    "grid.fit(X_train,y_train)\n",
    "\n",
    "print(\"\\n The best estimator across ALL searched params:\\n\", grid.best_estimator_)\n",
    "print(\"\\n The best score across ALL searched params:\\n\", grid.best_score_)\n",
    "print(\"\\n The best parameters across ALL searched params:\\n\", grid.best_params_)\n",
    "plot_grid_search_validation_curve(grid, 'learning_rate', model_name='LightGBM')"
   ]
  },
  {
   "cell_type": "code",
   "execution_count": 58,
   "metadata": {},
   "outputs": [
    {
     "name": "stdout",
     "output_type": "stream",
     "text": [
      "Train: Acc: 0.97165 +/- 0.00461,  Auc: 0.99854 | Test: Acc: 0.56379 +/- 0.02714,  Auc: 0.80478\n"
     ]
    },
    {
     "data": {
      "text/plain": [
       "(0.9716511954999639,\n",
       " 0.9985403889605514,\n",
       " 0.5637855120299533,\n",
       " 0.8047785769290776)"
      ]
     },
     "execution_count": 58,
     "metadata": {},
     "output_type": "execute_result"
    }
   ],
   "source": [
    "lgb = LGBMClassifier(objective='multiclass',num_class=4, random_state=1, learning_rate=0.074, n_jobs=-1, \n",
    "                     max_depth=9, num_leaves=151,  min_child_samples=3, min_child_weight=0.009,\n",
    "                   reg_alpha=0.5, reg_lambda=0.6)\n",
    "model_eval(lgb)"
   ]
  },
  {
   "cell_type": "markdown",
   "metadata": {},
   "source": [
    "# RF Tuning"
   ]
  },
  {
   "cell_type": "code",
   "execution_count": 49,
   "metadata": {},
   "outputs": [
    {
     "name": "stdout",
     "output_type": "stream",
     "text": [
      "Train: Acc: 1.00000 +/- 0.00000,  Auc: 1.00000 | Test: Acc: 0.56007 +/- 0.04154,  Auc: 0.80941\n"
     ]
    },
    {
     "data": {
      "text/plain": [
       "(1.0, 1.0, 0.5600651178261649, 0.8094091706324203)"
      ]
     },
     "execution_count": 49,
     "metadata": {},
     "output_type": "execute_result"
    }
   ],
   "source": [
    "rf = RandomForestClassifier(n_estimators=887, criterion='gini', max_depth=None,random_state=1,\n",
    "                            min_samples_split=2, min_samples_leaf=1, min_weight_fraction_leaf=0.0,\n",
    "                            max_features='auto', max_leaf_nodes=None, min_impurity_decrease=0.0,\n",
    "                            min_impurity_split=None, bootstrap=True, oob_score=False, n_jobs=-1,\n",
    "                            verbose=0, warm_start=False, class_weight=None)\n",
    "model_eval(rf)"
   ]
  },
  {
   "cell_type": "code",
   "execution_count": 83,
   "metadata": {},
   "outputs": [
    {
     "name": "stdout",
     "output_type": "stream",
     "text": [
      "Fitting 2 folds for each of 14 candidates, totalling 28 fits\n"
     ]
    },
    {
     "name": "stderr",
     "output_type": "stream",
     "text": [
      "[Parallel(n_jobs=-1)]: Using backend LokyBackend with 16 concurrent workers.\n",
      "[Parallel(n_jobs=-1)]: Done   3 out of  28 | elapsed:    3.0s remaining:   25.9s\n",
      "[Parallel(n_jobs=-1)]: Done   6 out of  28 | elapsed:    3.2s remaining:   12.1s\n",
      "[Parallel(n_jobs=-1)]: Done   9 out of  28 | elapsed:    6.3s remaining:   13.4s\n",
      "[Parallel(n_jobs=-1)]: Done  12 out of  28 | elapsed:    7.5s remaining:   10.0s\n",
      "[Parallel(n_jobs=-1)]: Done  15 out of  28 | elapsed:   11.7s remaining:   10.1s\n",
      "[Parallel(n_jobs=-1)]: Done  18 out of  28 | elapsed:   15.7s remaining:    8.7s\n",
      "[Parallel(n_jobs=-1)]: Done  21 out of  28 | elapsed:   18.1s remaining:    6.0s\n",
      "[Parallel(n_jobs=-1)]: Done  24 out of  28 | elapsed:   20.0s remaining:    3.2s\n",
      "[Parallel(n_jobs=-1)]: Done  28 out of  28 | elapsed:   24.8s finished\n"
     ]
    },
    {
     "name": "stdout",
     "output_type": "stream",
     "text": [
      "\n",
      " The best estimator across ALL searched params:\n",
      " RandomForestClassifier(n_estimators=1400, n_jobs=-1, random_state=1)\n",
      "\n",
      " The best score across ALL searched params:\n",
      " 0.543023029016954\n",
      "\n",
      " The best parameters across ALL searched params:\n",
      " {'n_estimators': 1400}\n"
     ]
    },
    {
     "data": {
      "image/png": "[encoded data removed]",
      "text/plain": [
       "<Figure size 432x288 with 1 Axes>"
      ]
     },
     "metadata": {
      "needs_background": "light"
     },
     "output_type": "display_data"
    }
   ],
   "source": [
    "params = {\n",
    "    'n_estimators': np.arange(100, 1500, 100),\n",
    "}\n",
    "rf = RandomForestClassifier(n_jobs=-1, min_samples_split=2, min_samples_leaf=1, random_state=1)\n",
    "grid = GridSearchCV(return_train_score=True, estimator=rf, param_grid=params, cv=2, n_jobs=-1, scoring=['accuracy', 'roc_auc_ovo'], refit='accuracy', verbose=10)\n",
    "grid.fit(X_train,y_train)\n",
    "\n",
    "print(\"\\n The best estimator across ALL searched params:\\n\", grid.best_estimator_)\n",
    "print(\"\\n The best score across ALL searched params:\\n\", grid.best_score_)\n",
    "print(\"\\n The best parameters across ALL searched params:\\n\", grid.best_params_)\n",
    "plot_grid_search_validation_curve(grid, 'n_estimators', model_name='Random Forest')"
   ]
  },
  {
   "cell_type": "code",
   "execution_count": 87,
   "metadata": {},
   "outputs": [
    {
     "name": "stdout",
     "output_type": "stream",
     "text": [
      "Fitting 2 folds for each of 15 candidates, totalling 30 fits\n"
     ]
    },
    {
     "name": "stderr",
     "output_type": "stream",
     "text": [
      "[Parallel(n_jobs=-1)]: Using backend LokyBackend with 16 concurrent workers.\n",
      "[Parallel(n_jobs=-1)]: Done   3 out of  30 | elapsed:    0.9s remaining:    8.7s\n",
      "[Parallel(n_jobs=-1)]: Done   7 out of  30 | elapsed:    1.0s remaining:    3.4s\n",
      "[Parallel(n_jobs=-1)]: Done  11 out of  30 | elapsed:    1.1s remaining:    1.9s\n",
      "[Parallel(n_jobs=-1)]: Done  15 out of  30 | elapsed:    1.1s remaining:    1.1s\n",
      "[Parallel(n_jobs=-1)]: Done  19 out of  30 | elapsed:    2.0s remaining:    1.1s\n",
      "[Parallel(n_jobs=-1)]: Done  23 out of  30 | elapsed:    2.3s remaining:    0.6s\n",
      "[Parallel(n_jobs=-1)]: Done  27 out of  30 | elapsed:    2.4s remaining:    0.2s\n",
      "[Parallel(n_jobs=-1)]: Done  30 out of  30 | elapsed:    2.4s finished\n"
     ]
    },
    {
     "name": "stdout",
     "output_type": "stream",
     "text": [
      "\n",
      " The best estimator across ALL searched params:\n",
      " RandomForestClassifier(max_depth=18, n_jobs=-1, random_state=1)\n",
      "\n",
      " The best score across ALL searched params:\n",
      " 0.5373414455725116\n",
      "\n",
      " The best parameters across ALL searched params:\n",
      " {'max_depth': 18}\n"
     ]
    },
    {
     "data": {
      "image/png": "[encoded data removed]",
      "text/plain": [
       "<Figure size 432x288 with 1 Axes>"
      ]
     },
     "metadata": {
      "needs_background": "light"
     },
     "output_type": "display_data"
    }
   ],
   "source": [
    "params = {\n",
    "    'max_depth': range(5, 20)\n",
    "}\n",
    "rf = RandomForestClassifier(n_jobs=-1, min_samples_split=2, min_samples_leaf=1, random_state=1)\n",
    "grid = GridSearchCV(return_train_score=True, estimator=rf, param_grid=params, cv=2, n_jobs=-1, scoring=['accuracy', 'roc_auc_ovo'], refit='accuracy', verbose=10)\n",
    "grid.fit(X_train,y_train)\n",
    "\n",
    "print(\"\\n The best estimator across ALL searched params:\\n\", grid.best_estimator_)\n",
    "print(\"\\n The best score across ALL searched params:\\n\", grid.best_score_)\n",
    "print(\"\\n The best parameters across ALL searched params:\\n\", grid.best_params_)\n",
    "plot_grid_search_validation_curve(grid, 'max_depth', model_name='Random Forest')"
   ]
  },
  {
   "cell_type": "code",
   "execution_count": 88,
   "metadata": {},
   "outputs": [
    {
     "name": "stdout",
     "output_type": "stream",
     "text": [
      "Fitting 2 folds for each of 5 candidates, totalling 10 fits\n"
     ]
    },
    {
     "name": "stderr",
     "output_type": "stream",
     "text": [
      "[Parallel(n_jobs=-1)]: Using backend LokyBackend with 16 concurrent workers.\n",
      "[Parallel(n_jobs=-1)]: Done   3 out of  10 | elapsed:    0.8s remaining:    2.0s\n",
      "[Parallel(n_jobs=-1)]: Done   5 out of  10 | elapsed:    0.9s remaining:    0.9s\n",
      "[Parallel(n_jobs=-1)]: Done   7 out of  10 | elapsed:    0.9s remaining:    0.3s\n",
      "[Parallel(n_jobs=-1)]: Done  10 out of  10 | elapsed:    1.0s finished\n"
     ]
    },
    {
     "name": "stdout",
     "output_type": "stream",
     "text": [
      "\n",
      " The best estimator across ALL searched params:\n",
      " RandomForestClassifier(min_samples_split=4, n_jobs=-1, random_state=1)\n",
      "\n",
      " The best score across ALL searched params:\n",
      " 0.537858145216223\n",
      "\n",
      " The best parameters across ALL searched params:\n",
      " {'min_samples_split': 4}\n"
     ]
    },
    {
     "data": {
      "image/png": "[encoded data removed]",
      "text/plain": [
       "<Figure size 432x288 with 1 Axes>"
      ]
     },
     "metadata": {
      "needs_background": "light"
     },
     "output_type": "display_data"
    }
   ],
   "source": [
    "params = {\n",
    "    \"min_samples_split\": [1, 2, 3, 4, 5],\n",
    "}\n",
    "rf = RandomForestClassifier(n_jobs=-1, min_samples_split=2, min_samples_leaf=1, random_state=1)\n",
    "grid = GridSearchCV(return_train_score=True, estimator=rf, param_grid=params, cv=2, n_jobs=-1, scoring=['accuracy', 'roc_auc_ovo'], refit='accuracy', verbose=10)\n",
    "grid.fit(X_train,y_train)\n",
    "\n",
    "print(\"\\n The best estimator across ALL searched params:\\n\", grid.best_estimator_)\n",
    "print(\"\\n The best score across ALL searched params:\\n\", grid.best_score_)\n",
    "print(\"\\n The best parameters across ALL searched params:\\n\", grid.best_params_)\n",
    "plot_grid_search_validation_curve(grid, 'min_samples_split', model_name='Random Forest')"
   ]
  },
  {
   "cell_type": "code",
   "execution_count": 89,
   "metadata": {},
   "outputs": [
    {
     "name": "stdout",
     "output_type": "stream",
     "text": [
      "Fitting 2 folds for each of 5 candidates, totalling 10 fits\n"
     ]
    },
    {
     "name": "stderr",
     "output_type": "stream",
     "text": [
      "[Parallel(n_jobs=-1)]: Using backend LokyBackend with 16 concurrent workers.\n",
      "[Parallel(n_jobs=-1)]: Done   3 out of  10 | elapsed:    0.8s remaining:    2.1s\n",
      "[Parallel(n_jobs=-1)]: Done   5 out of  10 | elapsed:    0.9s remaining:    0.9s\n",
      "[Parallel(n_jobs=-1)]: Done   7 out of  10 | elapsed:    0.9s remaining:    0.3s\n",
      "[Parallel(n_jobs=-1)]: Done  10 out of  10 | elapsed:    1.1s finished\n"
     ]
    },
    {
     "name": "stdout",
     "output_type": "stream",
     "text": [
      "\n",
      " The best estimator across ALL searched params:\n",
      " RandomForestClassifier(n_jobs=-1, random_state=1)\n",
      "\n",
      " The best score across ALL searched params:\n",
      " 0.5333132241648044\n",
      "\n",
      " The best parameters across ALL searched params:\n",
      " {'min_samples_leaf': 1}\n"
     ]
    },
    {
     "data": {
      "image/png": "[encoded data removed]",
      "text/plain": [
       "<Figure size 432x288 with 1 Axes>"
      ]
     },
     "metadata": {
      "needs_background": "light"
     },
     "output_type": "display_data"
    }
   ],
   "source": [
    "params = {\n",
    "    \"min_samples_leaf\": [1, 2, 3, 4, 5]\n",
    "}\n",
    "rf = RandomForestClassifier(n_jobs=-1, min_samples_split=2, min_samples_leaf=1, random_state=1)\n",
    "grid = GridSearchCV(return_train_score=True, estimator=rf, param_grid=params, cv=2, n_jobs=-1, scoring=['accuracy', 'roc_auc_ovo'], refit='accuracy', verbose=10)\n",
    "grid.fit(X_train,y_train)\n",
    "\n",
    "print(\"\\n The best estimator across ALL searched params:\\n\", grid.best_estimator_)\n",
    "print(\"\\n The best score across ALL searched params:\\n\", grid.best_score_)\n",
    "print(\"\\n The best parameters across ALL searched params:\\n\", grid.best_params_)\n",
    "plot_grid_search_validation_curve(grid, 'min_samples_leaf', model_name='Random Forest')"
   ]
  },
  {
   "cell_type": "code",
   "execution_count": 14,
   "metadata": {},
   "outputs": [
    {
     "name": "stdout",
     "output_type": "stream",
     "text": [
      "Train: Acc: 0.99207 +/- 0.00093,  Auc: 0.99971 | Test: Acc: 0.56161 +/- 0.03801,  Auc: 0.80943\n"
     ]
    },
    {
     "data": {
      "text/plain": [
       "(0.9920692268511097,\n",
       " 0.9997137057593756,\n",
       " 0.5616148112137417,\n",
       " 0.8094318578626869)"
      ]
     },
     "execution_count": 14,
     "metadata": {},
     "output_type": "execute_result"
    }
   ],
   "source": [
    "rf = RandomForestClassifier(n_jobs=-1, random_state=1, \n",
    "                            max_depth=19,n_estimators=1300,\n",
    "                           min_samples_leaf=1, min_samples_split=2, bootstrap=True, oob_score=True)\n",
    "model_eval(rf)"
   ]
  },
  {
   "cell_type": "markdown",
   "metadata": {},
   "source": [
    "# XGBoost Tuning"
   ]
  },
  {
   "cell_type": "code",
   "execution_count": 15,
   "metadata": {
    "scrolled": true
   },
   "outputs": [
    {
     "name": "stdout",
     "output_type": "stream",
     "text": [
      "Train: Acc: 0.72370 +/- 0.00693,  Auc: 0.91856 | Test: Acc: 0.55190 +/- 0.02673,  Auc: 0.80003\n"
     ]
    },
    {
     "data": {
      "text/plain": [
       "(0.7236970102198914,\n",
       " 0.9185566943993058,\n",
       " 0.5519048136871103,\n",
       " 0.8000259975855389)"
      ]
     },
     "execution_count": 15,
     "metadata": {},
     "output_type": "execute_result"
    }
   ],
   "source": [
    "xgb = XGBClassifier(\n",
    "        n_estimators=670,\n",
    "        learning_rate= 0.01,\n",
    "        max_depth=6,\n",
    "        subsample=1, \n",
    "        gamma=0, \n",
    "        reg_lambda=1,\n",
    "        max_delta_step=0,\n",
    "        colsample_bytree=1, \n",
    "        min_child_weight=1, \n",
    "        random_state=1,\n",
    "        eval_metric= 'auc',\n",
    "        n_jobs=-1)\n",
    "\n",
    "model_eval(xgb)"
   ]
  },
  {
   "cell_type": "code",
   "execution_count": 19,
   "metadata": {},
   "outputs": [
    {
     "name": "stdout",
     "output_type": "stream",
     "text": [
      "Train: Acc: 0.83229 +/- 0.01174,  Auc: 0.96696 | Test: Acc: 0.55149 +/- 0.03586,  Auc: 0.80271\n"
     ]
    },
    {
     "data": {
      "text/plain": [
       "(0.8322945935782815, 0.9669564742428742, 0.551492336821636, 0.8027099885947953)"
      ]
     },
     "execution_count": 19,
     "metadata": {},
     "output_type": "execute_result"
    }
   ],
   "source": [
    "xgb = XGBClassifier(\n",
    "    learning_rate= 0.17,\n",
    "    random_state=1,\n",
    "    n_jobs=-1,\n",
    "    eval_metric= 'auc'\n",
    ")\n",
    "model_eval(xgb)"
   ]
  },
  {
   "cell_type": "code",
   "execution_count": 90,
   "metadata": {},
   "outputs": [
    {
     "name": "stdout",
     "output_type": "stream",
     "text": [
      "Fitting 2 folds for each of 4 candidates, totalling 8 fits\n"
     ]
    },
    {
     "name": "stderr",
     "output_type": "stream",
     "text": [
      "[Parallel(n_jobs=-1)]: Using backend LokyBackend with 16 concurrent workers.\n",
      "[Parallel(n_jobs=-1)]: Done   2 out of   8 | elapsed:    6.3s remaining:   19.0s\n",
      "[Parallel(n_jobs=-1)]: Done   3 out of   8 | elapsed:    6.4s remaining:   10.7s\n",
      "[Parallel(n_jobs=-1)]: Done   4 out of   8 | elapsed:    6.4s remaining:    6.4s\n",
      "[Parallel(n_jobs=-1)]: Done   5 out of   8 | elapsed:    6.4s remaining:    3.8s\n",
      "[Parallel(n_jobs=-1)]: Done   6 out of   8 | elapsed:    6.4s remaining:    2.1s\n",
      "[Parallel(n_jobs=-1)]: Done   8 out of   8 | elapsed:    6.8s remaining:    0.0s\n",
      "[Parallel(n_jobs=-1)]: Done   8 out of   8 | elapsed:    6.8s finished\n"
     ]
    },
    {
     "name": "stdout",
     "output_type": "stream",
     "text": [
      "\n",
      " The best estimator across ALL searched params:\n",
      " XGBClassifier(base_score=0.5, booster='gbtree', colsample_bylevel=1,\n",
      "              colsample_bynode=1, colsample_bytree=1, eval_metric='auc',\n",
      "              gamma=0, gpu_id=-1, importance_type='gain',\n",
      "              interaction_constraints='', learning_rate=0.17, max_delta_step=0,\n",
      "              max_depth=6, min_child_weight=1, missing=nan,\n",
      "              monotone_constraints='()', n_estimators=100, n_jobs=-1,\n",
      "              num_parallel_tree=1, objective='multi:softprob', random_state=1,\n",
      "              reg_alpha=0, reg_lambda=1, scale_pos_weight=None,\n",
      "              subsample=0.8999999999999999, tree_method='exact',\n",
      "              validate_parameters=1, verbosity=None)\n",
      "\n",
      " The best score across ALL searched params:\n",
      " 0.537135090079401\n",
      "\n",
      " The best parameters across ALL searched params:\n",
      " {'subsample': 0.8999999999999999}\n"
     ]
    },
    {
     "data": {
      "image/png": "[encoded data removed]",
      "text/plain": [
       "<Figure size 432x288 with 1 Axes>"
      ]
     },
     "metadata": {
      "needs_background": "light"
     },
     "output_type": "display_data"
    }
   ],
   "source": [
    "params = {\n",
    "    'subsample': np.arange(0.6, 1.0, 0.1),\n",
    "}\n",
    "xgb = XGBClassifier(\n",
    "    learning_rate= 0.17,\n",
    "    random_state=1,\n",
    "    n_jobs=-1,\n",
    "    eval_metric= 'auc'\n",
    ")\n",
    "grid = GridSearchCV(return_train_score=True, estimator=xgb, param_grid=params, cv=2, n_jobs=-1, scoring=['accuracy', 'roc_auc_ovo'], refit='accuracy', verbose=10)\n",
    "grid.fit(X_train,y_train)\n",
    "\n",
    "print(\"\\n The best estimator across ALL searched params:\\n\", grid.best_estimator_)\n",
    "print(\"\\n The best score across ALL searched params:\\n\", grid.best_score_)\n",
    "print(\"\\n The best parameters across ALL searched params:\\n\", grid.best_params_)\n",
    "plot_grid_search_validation_curve(grid, 'subsample', model_name='XGBoost')"
   ]
  },
  {
   "cell_type": "code",
   "execution_count": 91,
   "metadata": {},
   "outputs": [
    {
     "name": "stdout",
     "output_type": "stream",
     "text": [
      "Fitting 2 folds for each of 4 candidates, totalling 8 fits\n"
     ]
    },
    {
     "name": "stderr",
     "output_type": "stream",
     "text": [
      "[Parallel(n_jobs=-1)]: Using backend LokyBackend with 16 concurrent workers.\n",
      "[Parallel(n_jobs=-1)]: Done   2 out of   8 | elapsed:    4.4s remaining:   13.3s\n",
      "[Parallel(n_jobs=-1)]: Done   3 out of   8 | elapsed:    4.5s remaining:    7.6s\n",
      "[Parallel(n_jobs=-1)]: Done   4 out of   8 | elapsed:    4.7s remaining:    4.7s\n",
      "[Parallel(n_jobs=-1)]: Done   5 out of   8 | elapsed:    5.0s remaining:    2.9s\n",
      "[Parallel(n_jobs=-1)]: Done   6 out of   8 | elapsed:    5.1s remaining:    1.6s\n",
      "[Parallel(n_jobs=-1)]: Done   8 out of   8 | elapsed:    5.3s remaining:    0.0s\n",
      "[Parallel(n_jobs=-1)]: Done   8 out of   8 | elapsed:    5.3s finished\n"
     ]
    },
    {
     "name": "stdout",
     "output_type": "stream",
     "text": [
      "\n",
      " The best estimator across ALL searched params:\n",
      " XGBClassifier(base_score=0.5, booster='gbtree', colsample_bylevel=1,\n",
      "              colsample_bynode=1, colsample_bytree=0.7, eval_metric='auc',\n",
      "              gamma=0, gpu_id=-1, importance_type='gain',\n",
      "              interaction_constraints='', learning_rate=0.17, max_delta_step=0,\n",
      "              max_depth=6, min_child_weight=1, missing=nan,\n",
      "              monotone_constraints='()', n_estimators=100, n_jobs=-1,\n",
      "              num_parallel_tree=1, objective='multi:softprob', random_state=1,\n",
      "              reg_alpha=0, reg_lambda=1, scale_pos_weight=None, subsample=1,\n",
      "              tree_method='exact', validate_parameters=1, verbosity=None)\n",
      "\n",
      " The best score across ALL searched params:\n",
      " 0.5399240902006108\n",
      "\n",
      " The best parameters across ALL searched params:\n",
      " {'colsample_bytree': 0.7}\n"
     ]
    },
    {
     "data": {
      "image/png": "[encoded data removed]",
      "text/plain": [
       "<Figure size 432x288 with 1 Axes>"
      ]
     },
     "metadata": {
      "needs_background": "light"
     },
     "output_type": "display_data"
    }
   ],
   "source": [
    "params = {\n",
    "    'colsample_bytree': np.arange(0.6, 1.0, 0.1),\n",
    "}\n",
    "xgb = XGBClassifier(\n",
    "    learning_rate= 0.17,\n",
    "    random_state=1,\n",
    "    n_jobs=-1,\n",
    "    eval_metric= 'auc'\n",
    ")\n",
    "grid = GridSearchCV(return_train_score=True, estimator=xgb, param_grid=params, cv=2, n_jobs=-1, scoring=['accuracy', 'roc_auc_ovo'], refit='accuracy', verbose=10)\n",
    "grid.fit(X_train,y_train)\n",
    "\n",
    "print(\"\\n The best estimator across ALL searched params:\\n\", grid.best_estimator_)\n",
    "print(\"\\n The best score across ALL searched params:\\n\", grid.best_score_)\n",
    "print(\"\\n The best parameters across ALL searched params:\\n\", grid.best_params_)\n",
    "plot_grid_search_validation_curve(grid, 'colsample_bytree', model_name='XGBoost')"
   ]
  },
  {
   "cell_type": "code",
   "execution_count": 92,
   "metadata": {},
   "outputs": [
    {
     "name": "stdout",
     "output_type": "stream",
     "text": [
      "Fitting 2 folds for each of 4 candidates, totalling 8 fits\n"
     ]
    },
    {
     "name": "stderr",
     "output_type": "stream",
     "text": [
      "[Parallel(n_jobs=-1)]: Using backend LokyBackend with 16 concurrent workers.\n",
      "[Parallel(n_jobs=-1)]: Done   2 out of   8 | elapsed:    3.9s remaining:   11.9s\n",
      "[Parallel(n_jobs=-1)]: Done   3 out of   8 | elapsed:    4.2s remaining:    7.1s\n",
      "[Parallel(n_jobs=-1)]: Done   4 out of   8 | elapsed:    4.3s remaining:    4.3s\n",
      "[Parallel(n_jobs=-1)]: Done   5 out of   8 | elapsed:    4.6s remaining:    2.7s\n",
      "[Parallel(n_jobs=-1)]: Done   6 out of   8 | elapsed:    4.6s remaining:    1.5s\n",
      "[Parallel(n_jobs=-1)]: Done   8 out of   8 | elapsed:    5.0s remaining:    0.0s\n",
      "[Parallel(n_jobs=-1)]: Done   8 out of   8 | elapsed:    5.0s finished\n"
     ]
    },
    {
     "name": "stdout",
     "output_type": "stream",
     "text": [
      "\n",
      " The best estimator across ALL searched params:\n",
      " XGBClassifier(base_score=0.5, booster='gbtree',\n",
      "              colsample_bylevel=0.8999999999999999, colsample_bynode=1,\n",
      "              colsample_bytree=1, eval_metric='auc', gamma=0, gpu_id=-1,\n",
      "              importance_type='gain', interaction_constraints='',\n",
      "              learning_rate=0.17, max_delta_step=0, max_depth=6,\n",
      "              min_child_weight=1, missing=nan, monotone_constraints='()',\n",
      "              n_estimators=100, n_jobs=-1, num_parallel_tree=1,\n",
      "              objective='multi:softprob', random_state=1, reg_alpha=0,\n",
      "              reg_lambda=1, scale_pos_weight=None, subsample=1,\n",
      "              tree_method='exact', validate_parameters=1, verbosity=None)\n",
      "\n",
      " The best score across ALL searched params:\n",
      " 0.5361023950041057\n",
      "\n",
      " The best parameters across ALL searched params:\n",
      " {'colsample_bylevel': 0.8999999999999999}\n"
     ]
    },
    {
     "data": {
      "image/png": "[encoded data removed]",
      "text/plain": [
       "<Figure size 432x288 with 1 Axes>"
      ]
     },
     "metadata": {
      "needs_background": "light"
     },
     "output_type": "display_data"
    }
   ],
   "source": [
    "params = {\n",
    "    'colsample_bylevel': np.arange(0.6, 1.0, 0.1),\n",
    "}\n",
    "xgb = XGBClassifier(\n",
    "    learning_rate= 0.17,\n",
    "    random_state=1,\n",
    "    n_jobs=-1,\n",
    "    eval_metric= 'auc'\n",
    ")\n",
    "grid = GridSearchCV(return_train_score=True, estimator=xgb, param_grid=params, cv=2, n_jobs=-1, scoring=['accuracy', 'roc_auc_ovo'], refit='accuracy', verbose=10)\n",
    "grid.fit(X_train,y_train)\n",
    "\n",
    "print(\"\\n The best estimator across ALL searched params:\\n\", grid.best_estimator_)\n",
    "print(\"\\n The best score across ALL searched params:\\n\", grid.best_score_)\n",
    "print(\"\\n The best parameters across ALL searched params:\\n\", grid.best_params_)\n",
    "plot_grid_search_validation_curve(grid, 'colsample_bylevel', model_name='XGBoost')"
   ]
  },
  {
   "cell_type": "code",
   "execution_count": 93,
   "metadata": {},
   "outputs": [
    {
     "name": "stdout",
     "output_type": "stream",
     "text": [
      "Fitting 2 folds for each of 100 candidates, totalling 200 fits\n"
     ]
    },
    {
     "name": "stderr",
     "output_type": "stream",
     "text": [
      "[Parallel(n_jobs=-1)]: Using backend LokyBackend with 16 concurrent workers.\n",
      "[Parallel(n_jobs=-1)]: Done   9 tasks      | elapsed:    7.6s\n",
      "[Parallel(n_jobs=-1)]: Done  18 tasks      | elapsed:   14.7s\n",
      "[Parallel(n_jobs=-1)]: Done  29 tasks      | elapsed:   15.5s\n",
      "[Parallel(n_jobs=-1)]: Done  40 tasks      | elapsed:   22.8s\n",
      "[Parallel(n_jobs=-1)]: Done  53 tasks      | elapsed:   30.0s\n",
      "[Parallel(n_jobs=-1)]: Done  66 tasks      | elapsed:   36.7s\n",
      "[Parallel(n_jobs=-1)]: Done  81 tasks      | elapsed:   43.8s\n",
      "[Parallel(n_jobs=-1)]: Done  96 tasks      | elapsed:   46.5s\n",
      "[Parallel(n_jobs=-1)]: Done 113 tasks      | elapsed:   58.2s\n",
      "[Parallel(n_jobs=-1)]: Done 130 tasks      | elapsed:  1.1min\n",
      "[Parallel(n_jobs=-1)]: Done 149 tasks      | elapsed:  1.2min\n",
      "[Parallel(n_jobs=-1)]: Done 168 tasks      | elapsed:  1.4min\n",
      "[Parallel(n_jobs=-1)]: Done 190 out of 200 | elapsed:  1.5min remaining:    4.8s\n",
      "[Parallel(n_jobs=-1)]: Done 200 out of 200 | elapsed:  1.6min finished\n"
     ]
    },
    {
     "name": "stdout",
     "output_type": "stream",
     "text": [
      "\n",
      " The best estimator across ALL searched params:\n",
      " XGBClassifier(base_score=0.5, booster='gbtree', colsample_bylevel=1,\n",
      "              colsample_bynode=1, colsample_bytree=1, eval_metric='auc',\n",
      "              gamma=0, gpu_id=-1, importance_type='gain',\n",
      "              interaction_constraints='', learning_rate=0.17, max_delta_step=0,\n",
      "              max_depth=6, min_child_weight=7.4, missing=nan,\n",
      "              monotone_constraints='()', n_estimators=100, n_jobs=-1,\n",
      "              num_parallel_tree=1, objective='multi:softprob', random_state=1,\n",
      "              reg_alpha=0, reg_lambda=1, scale_pos_weight=None, subsample=1,\n",
      "              tree_method='exact', validate_parameters=1, verbosity=None)\n",
      "\n",
      " The best score across ALL searched params:\n",
      " 0.5402337514788456\n",
      "\n",
      " The best parameters across ALL searched params:\n",
      " {'min_child_weight': 7.4}\n"
     ]
    },
    {
     "data": {
      "image/png": "[encoded data removed]",
      "text/plain": [
       "<Figure size 432x288 with 1 Axes>"
      ]
     },
     "metadata": {
      "needs_background": "light"
     },
     "output_type": "display_data"
    }
   ],
   "source": [
    "params = {\n",
    "    'min_child_weight': np.arange(0.1, 10.1, 0.1)\n",
    "}\n",
    "xgb = XGBClassifier(\n",
    "    learning_rate= 0.17,\n",
    "    random_state=1,\n",
    "    n_jobs=-1,\n",
    "    eval_metric= 'auc'\n",
    ")\n",
    "grid = GridSearchCV(return_train_score=True, estimator=xgb, param_grid=params, cv=2, n_jobs=-1, scoring=['accuracy', 'roc_auc_ovo'], refit='accuracy', verbose=10)\n",
    "grid.fit(X_train,y_train)\n",
    "\n",
    "print(\"\\n The best estimator across ALL searched params:\\n\", grid.best_estimator_)\n",
    "print(\"\\n The best score across ALL searched params:\\n\", grid.best_score_)\n",
    "print(\"\\n The best parameters across ALL searched params:\\n\", grid.best_params_)\n",
    "plot_grid_search_validation_curve(grid, 'min_child_weight', model_name='XGBoost')"
   ]
  },
  {
   "cell_type": "code",
   "execution_count": 94,
   "metadata": {},
   "outputs": [
    {
     "name": "stdout",
     "output_type": "stream",
     "text": [
      "Fitting 2 folds for each of 15 candidates, totalling 30 fits\n"
     ]
    },
    {
     "name": "stderr",
     "output_type": "stream",
     "text": [
      "[Parallel(n_jobs=-1)]: Using backend LokyBackend with 16 concurrent workers.\n",
      "[Parallel(n_jobs=-1)]: Done   3 out of  30 | elapsed:   14.4s remaining:  2.2min\n",
      "[Parallel(n_jobs=-1)]: Done   7 out of  30 | elapsed:   29.2s remaining:  1.6min\n",
      "[Parallel(n_jobs=-1)]: Done  11 out of  30 | elapsed:   43.0s remaining:  1.2min\n",
      "[Parallel(n_jobs=-1)]: Done  15 out of  30 | elapsed:   58.2s remaining:   58.2s\n",
      "[Parallel(n_jobs=-1)]: Done  19 out of  30 | elapsed:  1.4min remaining:   50.0s\n",
      "[Parallel(n_jobs=-1)]: Done  23 out of  30 | elapsed:  1.8min remaining:   33.4s\n",
      "[Parallel(n_jobs=-1)]: Done  27 out of  30 | elapsed:  2.2min remaining:   14.4s\n",
      "[Parallel(n_jobs=-1)]: Done  30 out of  30 | elapsed:  2.3min finished\n"
     ]
    },
    {
     "name": "stdout",
     "output_type": "stream",
     "text": [
      "\n",
      " The best estimator across ALL searched params:\n",
      " XGBClassifier(base_score=0.5, booster='gbtree', colsample_bylevel=1,\n",
      "              colsample_bynode=1, colsample_bytree=1, eval_metric='auc',\n",
      "              gamma=0, gpu_id=-1, importance_type='gain',\n",
      "              interaction_constraints='', learning_rate=0.17, max_delta_step=0,\n",
      "              max_depth=6, min_child_weight=1, missing=nan,\n",
      "              monotone_constraints='()', n_estimators=300, n_jobs=-1,\n",
      "              num_parallel_tree=1, objective='multi:softprob', random_state=1,\n",
      "              reg_alpha=0, reg_lambda=1, scale_pos_weight=None, subsample=1,\n",
      "              tree_method='exact', validate_parameters=1, verbosity=None)\n",
      "\n",
      " The best score across ALL searched params:\n",
      " 0.5339327387791266\n",
      "\n",
      " The best parameters across ALL searched params:\n",
      " {'n_estimators': 300}\n"
     ]
    },
    {
     "data": {
      "image/png": "[encoded data removed]",
      "text/plain": [
       "<Figure size 432x288 with 1 Axes>"
      ]
     },
     "metadata": {
      "needs_background": "light"
     },
     "output_type": "display_data"
    }
   ],
   "source": [
    "params = {\n",
    "    'n_estimators': np.arange(100, 1600, 100),\n",
    "}\n",
    "xgb = XGBClassifier(\n",
    "    learning_rate= 0.17,\n",
    "    random_state=1,\n",
    "    n_jobs=-1,\n",
    "    eval_metric= 'auc'\n",
    ")\n",
    "grid = GridSearchCV(return_train_score=True, estimator=xgb, param_grid=params, cv=2, n_jobs=-1, scoring=['accuracy', 'roc_auc_ovo'], refit='accuracy', verbose=10)\n",
    "grid.fit(X_train,y_train)\n",
    "\n",
    "print(\"\\n The best estimator across ALL searched params:\\n\", grid.best_estimator_)\n",
    "print(\"\\n The best score across ALL searched params:\\n\", grid.best_score_)\n",
    "print(\"\\n The best parameters across ALL searched params:\\n\", grid.best_params_)\n",
    "plot_grid_search_validation_curve(grid, 'n_estimators', model_name='XGBoost')"
   ]
  },
  {
   "cell_type": "code",
   "execution_count": null,
   "metadata": {},
   "outputs": [],
   "source": [
    "params = {\n",
    "    'max_depth': range(3, 13)\n",
    "}\n",
    "xgb = XGBClassifier(\n",
    "    learning_rate= 0.17,\n",
    "    random_state=1,\n",
    "    n_jobs=-1,\n",
    "    eval_metric= 'auc'\n",
    ")\n",
    "grid = GridSearchCV(return_train_score=True, estimator=xgb, param_grid=params, cv=2, n_jobs=-1, scoring=['accuracy', 'roc_auc_ovo'], refit='accuracy', verbose=10)\n",
    "grid.fit(X_train,y_train)\n",
    "\n",
    "print(\"\\n The best estimator across ALL searched params:\\n\", grid.best_estimator_)\n",
    "print(\"\\n The best score across ALL searched params:\\n\", grid.best_score_)\n",
    "print(\"\\n The best parameters across ALL searched params:\\n\", grid.best_params_)\n",
    "plot_grid_search_validation_curve(grid, 'max_depth', model_name='XGBoost')"
   ]
  },
  {
   "cell_type": "code",
   "execution_count": 13,
   "metadata": {},
   "outputs": [
    {
     "name": "stdout",
     "output_type": "stream",
     "text": [
      "Train: Acc: 0.99984 +/- 0.00021,  Auc: 1.00000 | Test: Acc: 0.56637 +/- 0.03694,  Auc: 0.81222\n"
     ]
    },
    {
     "data": {
      "text/plain": [
       "(0.9998393192381018,\n",
       " 0.9999999826794903,\n",
       " 0.5663660244437054,\n",
       " 0.8122189684499043)"
      ]
     },
     "execution_count": 13,
     "metadata": {},
     "output_type": "execute_result"
    }
   ],
   "source": [
    "xgb = XGBClassifier(\n",
    "    colsample_bylevel=0.6,\n",
    "    colsample_bytree=0.7,\n",
    "    subsample=0.8999,\n",
    "    random_state=1,\n",
    "    n_jobs=-1,\n",
    "    min_child_weight=0.4,\n",
    "    max_depth=12,\n",
    "    n_estimators=210,\n",
    "    learning_rate=0.05,\n",
    "    eval_metric= 'auc'\n",
    ")\n",
    "model_eval(xgb)"
   ]
  },
  {
   "cell_type": "markdown",
   "metadata": {},
   "source": [
    "# Stack Tuning"
   ]
  },
  {
   "cell_type": "code",
   "execution_count": 36,
   "metadata": {
    "scrolled": true
   },
   "outputs": [
    {
     "name": "stderr",
     "output_type": "stream",
     "text": [
      "1 {'C': 1}:  20%|█████████████████████████████▍                                                                                                                     | 1/5 [08:14<32:59, 494.89s/it]"
     ]
    },
    {
     "name": "stdout",
     "output_type": "stream",
     "text": [
      "Train: Acc: 0.99907 +/- 0.00085,  Auc: 1.00000 | Test: Acc: 0.56451 +/- 0.00775,  Auc: 0.81167\n"
     ]
    },
    {
     "name": "stderr",
     "output_type": "stream",
     "text": [
      "1 {'C': 10}:  40%|██████████████████████████████████████████████████████████▍                                                                                       | 2/5 [16:00<24:18, 486.16s/it]"
     ]
    },
    {
     "name": "stdout",
     "output_type": "stream",
     "text": [
      "Train: Acc: 0.99979 +/- 0.00039,  Auc: 1.00000 | Test: Acc: 0.56275 +/- 0.00687,  Auc: 0.81118\n"
     ]
    },
    {
     "name": "stderr",
     "output_type": "stream",
     "text": [
      "1 {'C': 100}:  60%|███████████████████████████████████████████████████████████████████████████████████████                                                          | 3/5 [23:50<16:02, 481.21s/it]"
     ]
    },
    {
     "name": "stdout",
     "output_type": "stream",
     "text": [
      "Train: Acc: 0.99987 +/- 0.00023,  Auc: 1.00000 | Test: Acc: 0.56347 +/- 0.00752,  Auc: 0.81087\n"
     ]
    },
    {
     "name": "stderr",
     "output_type": "stream",
     "text": [
      "1 {'C': 1000}:  80%|███████████████████████████████████████████████████████████████████████████████████████████████████████████████████▏                            | 4/5 [31:51<08:01, 481.09s/it]"
     ]
    },
    {
     "name": "stdout",
     "output_type": "stream",
     "text": [
      "Train: Acc: 0.99987 +/- 0.00023,  Auc: 1.00000 | Test: Acc: 0.56358 +/- 0.00889,  Auc: 0.81081\n"
     ]
    },
    {
     "name": "stderr",
     "output_type": "stream",
     "text": [
      "5 {'C': 1000}: 100%|████████████████████████████████████████████████████████████████████████████████████████████████████████████████████████████████████████████████| 5/5 [48:26<00:00, 581.40s/it]"
     ]
    },
    {
     "name": "stdout",
     "output_type": "stream",
     "text": [
      "Train: Acc: 0.99987 +/- 0.00023,  Auc: 1.00000 | Test: Acc: 0.56347 +/- 0.00887,  Auc: 0.81082\n"
     ]
    },
    {
     "name": "stderr",
     "output_type": "stream",
     "text": [
      "\n"
     ]
    }
   ],
   "source": [
    "rf = RandomForestClassifier(n_jobs=-1, random_state=1, \n",
    "                            max_depth=19,n_estimators=1300,\n",
    "                           min_samples_leaf=1, min_samples_split=2, bootstrap=True, oob_score=True)\n",
    "\n",
    "xgb = XGBClassifier(\n",
    "    colsample_bylevel=0.6,\n",
    "    colsample_bytree=0.7,\n",
    "    subsample=0.8999,\n",
    "    random_state=1,\n",
    "    n_jobs=-1,\n",
    "    min_child_weight=0.4,\n",
    "    max_depth=12,\n",
    "    n_estimators=210,\n",
    "    learning_rate=0.05,\n",
    "    eval_metric= 'auc'\n",
    ")\n",
    "\n",
    "\n",
    "lgb = LGBMClassifier(objective='multiclass',num_class=4, random_state=1, learning_rate=0.074, n_jobs=-1, \n",
    "                     max_depth=9, num_leaves=151,  min_child_samples=3, min_child_weight=0.009,\n",
    "                   reg_alpha=0.5, reg_lambda=0.6)\n",
    "\n",
    "cat = CatBoostClassifier(\n",
    "    verbose=False, \n",
    "    random_state=1, \n",
    "    thread_count=-1,\n",
    "    rsm=0.8,\n",
    "    depth=7,\n",
    "    iterations=1000\n",
    ")\n",
    "\n",
    "estimators = [\n",
    "    ('rf', rf),\n",
    "    ('xgb', xgb),\n",
    "    ('lgb', lgb)\n",
    "#     ('cat', cat)\n",
    "]\n",
    "\n",
    "params = {'C': [0.1, 1, 10, 100, 1000]\n",
    "#           'gamma': [1, 0.1, 0.01, 0.001, 0.0001, 'scale'], \n",
    "}\n",
    "\n",
    "all_params = []\n",
    "all_train_accs = []\n",
    "all_train_aucs = []\n",
    "all_test_accs = []\n",
    "all_test_aucs = []\n",
    "\n",
    "\n",
    "pbar = tqdm(ParameterGrid(params))\n",
    "for param in pbar:\n",
    "    stack = StackingClassifier(estimators=estimators, \n",
    "                               final_estimator=SVC(kernel='linear',\n",
    "#                                                    gamma=param['gamma'],\n",
    "                                                   C=param['C'],\n",
    "                                                   random_state=1, probability=True), n_jobs=-1)\n",
    "    kf = KFold(n_splits=5, random_state=1, shuffle=True)\n",
    "    train_accs = []\n",
    "    test_accs = []\n",
    "    train_aucs = []\n",
    "    test_aucs = []\n",
    "    split_count = 1\n",
    "    for train_index, test_index in kf.split(X_train):\n",
    "        pbar.set_description('{} '.format(split_count)+str(param))\n",
    "        X_train_k, X_test_k = X_train[train_index], X_train[test_index]\n",
    "        y_train_k, y_test_k = y_train[train_index], y_train[test_index]\n",
    "        stack.fit(X_train_k,y_train_k)\n",
    "\n",
    "        y_train_ypred = stack.predict(X_train_k)\n",
    "        y_train_prob = stack.predict_proba(X_train_k)\n",
    "\n",
    "        y_test_ypred = stack.predict(X_test_k)\n",
    "        y_test_prob = stack.predict_proba(X_test_k)\n",
    "\n",
    "        train_acc, train_auc, test_acc, test_auc = metrics.accuracy_score(y_train_k, y_train_ypred), roc_auc_score(y_train_k, y_train_prob, multi_class='ovo'),metrics.accuracy_score(y_test_k, y_test_ypred), roc_auc_score(y_test_k, y_test_prob, multi_class='ovo')\n",
    "        train_accs.append(train_acc)\n",
    "        test_accs.append(test_acc)\n",
    "        train_aucs.append(train_auc)\n",
    "        test_aucs.append(test_auc)\n",
    "        split_count += 1\n",
    "    train_accs = np.asarray(train_accs)\n",
    "    test_accs = np.asarray(test_accs)\n",
    "    train_aucs = np.asarray(train_aucs)\n",
    "    test_aucs = np.asarray(test_aucs)\n",
    "\n",
    "    print(\"Train: Acc: {:.5f} +/- {:.5f},  Auc: {:.5f} | Test: Acc: {:.5f} +/- {:.5f},  Auc: {:.5f}\".\n",
    "              format(train_accs.mean(), train_accs.std() * 2, train_aucs.mean(),\n",
    "                     test_accs.mean(), test_accs.std() * 2, test_aucs.mean()))\n",
    "    \n",
    "    all_params.append(param)\n",
    "    all_train_accs.append(train_accs)\n",
    "    all_train_aucs.append(train_aucs)\n",
    "    all_test_accs.append(test_accs)\n",
    "    all_test_aucs.append(test_aucs)\n"
   ]
  },
  {
   "cell_type": "code",
   "execution_count": 41,
   "metadata": {},
   "outputs": [
    {
     "name": "stdout",
     "output_type": "stream",
     "text": [
      "[0.5645076095350652, 0.5627517845181054, 0.5634746050167039, 0.5635778574689496, 0.5634744983509474]\n",
      "[0.8116732111692183, 0.8111841687308171, 0.8108694627409158, 0.8108104329506667, 0.8108164993032758]\n",
      "Best C: {'C': 0.1}\n"
     ]
    }
   ],
   "source": [
    "mean_test_accs = [x.mean() for x in all_test_accs]\n",
    "mean_test_aucs = [x.mean() for x in all_test_aucs]\n",
    "print(mean_test_accs)\n",
    "print(mean_test_aucs)\n",
    "print('Best C:', all_params[mean_test_accs.index(max(mean_test_accs))])"
   ]
  },
  {
   "cell_type": "code",
   "execution_count": 102,
   "metadata": {},
   "outputs": [
    {
     "data": {
      "image/png": "[encoded data removed]",
      "text/plain": [
       "<Figure size 432x288 with 1 Axes>"
      ]
     },
     "metadata": {
      "needs_background": "light"
     },
     "output_type": "display_data"
    }
   ],
   "source": [
    "plt.plot([0.1, 1, 10, 100, 1000], [0.5645076095350652, 0.5627517845181054, 0.5634746050167039, 0.5635778574689496, 0.5634744983509474], color='b')\n",
    "title = 'C' + ' vs Accuracy ' + 'Stacking(Final SVM)'\n",
    "plt.title(title)\n",
    "plt.xscale('log')\n",
    "plt.xlabel('C')\n",
    "plt.ylabel('Accuracy')\n",
    "plt.ylim(0.45, 0.6)\n",
    "plt.show()"
   ]
  },
  {
   "cell_type": "markdown",
   "metadata": {},
   "source": [
    "# Stacking"
   ]
  },
  {
   "cell_type": "code",
   "execution_count": 14,
   "metadata": {},
   "outputs": [
    {
     "name": "stdout",
     "output_type": "stream",
     "text": [
      "Train ACC: 0.99964  Train Auc: 1.00000  Test ACC: 0.59532  Test Auc: 0.83291 \n"
     ]
    },
    {
     "data": {
      "image/png": "[encoded data removed]",
      "text/plain": [
       "<Figure size 432x288 with 2 Axes>"
      ]
     },
     "metadata": {
      "needs_background": "light"
     },
     "output_type": "display_data"
    },
    {
     "name": "stdout",
     "output_type": "stream",
     "text": [
      "====================================================================================================\n",
      "Classification Report: \n",
      "               precision    recall  f1-score   support\n",
      "\n",
      "           1      0.761     0.669     0.712       362\n",
      "           2      0.482     0.509     0.496       379\n",
      "           3      0.460     0.551     0.501       365\n",
      "           4      0.768     0.660     0.710       347\n",
      "\n",
      "    accuracy                          0.595      1453\n",
      "   macro avg      0.618     0.597     0.605      1453\n",
      "weighted avg      0.615     0.595     0.602      1453\n",
      "\n",
      "====================================================================================================\n"
     ]
    },
    {
     "data": {
      "image/png": "[encoded data removed]",
      "text/plain": [
       "<Figure size 648x360 with 1 Axes>"
      ]
     },
     "metadata": {
      "needs_background": "light"
     },
     "output_type": "display_data"
    }
   ],
   "source": [
    "train_data = pd.read_csv(\"train.csv\",encoding=\"utf_8_sig\")\n",
    "train_data = data_processing_onehotencode(train_data)\n",
    "X = train_data.drop(columns=['price'], axis=1)\n",
    "y = train_data['price']\n",
    "X_train, X_test, y_train, y_test = train_test_split(X, y, test_size=0.15, random_state=2020)\n",
    "scale = StandardScaler()\n",
    "scale.fit(X_train)\n",
    "X_train = scale.transform(X_train)\n",
    "X_test = scale.transform(X_test)\n",
    "\n",
    "rf = RandomForestClassifier(n_jobs=-1, random_state=1, \n",
    "                            max_depth=19,n_estimators=1300,\n",
    "                           min_samples_leaf=1, min_samples_split=2, bootstrap=True, oob_score=True)\n",
    "\n",
    "xgb = XGBClassifier(\n",
    "    colsample_bylevel=0.6,\n",
    "    colsample_bytree=0.7,\n",
    "    subsample=0.8999,\n",
    "    random_state=1,\n",
    "    n_jobs=-1,\n",
    "    min_child_weight=0.4,\n",
    "    max_depth=12,\n",
    "    n_estimators=210,\n",
    "    learning_rate=0.05,\n",
    "    eval_metric= 'auc'\n",
    ")\n",
    "\n",
    "\n",
    "lgb = LGBMClassifier(objective='multiclass',num_class=4, random_state=1, learning_rate=0.074, n_jobs=-1, \n",
    "                     max_depth=9, num_leaves=151,  min_child_samples=3, min_child_weight=0.009,\n",
    "                   reg_alpha=0.5, reg_lambda=0.6)\n",
    "\n",
    "cat = CatBoostClassifier(\n",
    "    verbose=False, \n",
    "    random_state=1, \n",
    "    thread_count=-1,\n",
    "    rsm=0.8,\n",
    "    depth=7,\n",
    "    iterations=1000\n",
    ")\n",
    "\n",
    "estimators = [\n",
    "    ('rf', rf),\n",
    "    ('xgb', xgb),\n",
    "    ('lgb', lgb)\n",
    "#     ('cat', cat)\n",
    "]\n",
    "\n",
    "stack = StackingClassifier(estimators=estimators, final_estimator=SVC(kernel='linear', random_state=1, probability=True), n_jobs=-1)\n",
    "# model_eval(stack)\n",
    "stack.fit(X_train,y_train)\n",
    "y_train_ypred = stack.predict(X_train)\n",
    "y_train_prob = stack.predict_proba(X_train)\n",
    "\n",
    "y_test_ypred = stack.predict(X_test)\n",
    "y_test_prob = stack.predict_proba(X_test)\n",
    "y_probas = stack.predict_proba(X_test)\n",
    "\n",
    "train_acc, train_auc, test_acc, test_auc = metrics.accuracy_score(y_train, y_train_ypred), roc_auc_score(y_train, y_train_prob, multi_class='ovo'),metrics.accuracy_score(y_test, y_test_ypred), roc_auc_score(y_test, y_test_prob, multi_class='ovo')\n",
    "print(\"Train ACC: {:<8.5f} Train Auc: {:<8.5f} Test ACC: {:<8.5f} Test Auc: {:<8.5f}\".format(train_acc, train_auc, test_acc, test_auc))\n",
    "\n",
    "plot_confusion_matrix(stack, X_test, y_test, normalize='true')\n",
    "plt.show() \n",
    "print('='*100)\n",
    "print('Classification Report: \\n', classification_report(y_test, y_test_ypred, digits=3))\n",
    "print('='*100)\n",
    "\n",
    "skplt.metrics.plot_precision_recall(y_test, y_probas, figsize=(9,5))\n",
    "plt.show()"
   ]
  },
  {
   "cell_type": "markdown",
   "metadata": {},
   "source": [
    "# Submission"
   ]
  },
  {
   "cell_type": "code",
   "execution_count": 19,
   "metadata": {},
   "outputs": [],
   "source": [
    "def create_submission(clf, data_process_function, output='my_submission.csv'):\n",
    "    submission_data_raw = pd.read_csv(\"test.csv\",encoding=\"utf_8_sig\")\n",
    "    submission_data = data_process_function(submission_data_raw)\n",
    "    submission_result = pd.DataFrame()\n",
    "    X_submission = submission_data\n",
    "    X_submission = scale.transform(X_submission)\n",
    "    y_submission = stack.predict(X_submission)\n",
    "    submission_result['id'] = submission_data_raw['id']\n",
    "    submission_result['price'] = y_submission\n",
    "    submission_result.to_csv(output, index=False)\n",
    "    print(submission_data_raw.shape, submission_result.shape)\n",
    "#     pickle.dump(stack, open('models/stack_56993.pkl', 'wb'))"
   ]
  },
  {
   "cell_type": "code",
   "execution_count": 20,
   "metadata": {},
   "outputs": [
    {
     "name": "stdout",
     "output_type": "stream",
     "text": [
      "(4149, 25) (4149, 2)\n"
     ]
    }
   ],
   "source": [
    "create_submission(stack, data_processing_onehotencode, output='exp.csv')"
   ]
  },
  {
   "cell_type": "code",
   "execution_count": 21,
   "metadata": {},
   "outputs": [],
   "source": [
    "pickle.dump(stack, open('models/stack_58038.pkl', 'wb'))"
   ]
  },
  {
   "cell_type": "code",
   "execution_count": null,
   "metadata": {},
   "outputs": [],
   "source": []
  }
 ],
 "metadata": {
  "kernelspec": {
   "display_name": "Python 3",
   "language": "python",
   "name": "python3"
  },
  "language_info": {
   "codemirror_mode": {
    "name": "ipython",
    "version": 3
   },
   "file_extension": ".py",
   "mimetype": "text/x-python",
   "name": "python",
   "nbconvert_exporter": "python",
   "pygments_lexer": "ipython3",
   "version": "3.6.11"
  }
 },
 "nbformat": 4,
 "nbformat_minor": 4
}
