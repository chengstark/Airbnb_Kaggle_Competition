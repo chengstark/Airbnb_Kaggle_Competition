{
 "cells": [
  {
   "cell_type": "markdown",
   "metadata": {},
   "source": [
    "# Imports"
   ]
  },
  {
   "cell_type": "code",
   "execution_count": 19,
   "metadata": {},
   "outputs": [],
   "source": [
    "import pandas as pd\n",
    "import numpy as np\n",
    "from xgboost import XGBClassifier\n",
    "import matplotlib.pyplot as plt\n",
    "from sklearn.preprocessing import StandardScaler\n",
    "from sklearn.model_selection import train_test_split\n",
    "from sklearn.ensemble import RandomForestClassifier, StackingClassifier, AdaBoostClassifier\n",
    "import scikitplot as skplt\n",
    "from sklearn.metrics import confusion_matrix, classification_report, plot_confusion_matrix, f1_score,auc,roc_curve,roc_auc_score, precision_recall_curve\n",
    "from xgboost.sklearn import XGBClassifier\n",
    "from sklearn import metrics\n",
    "from lightgbm import LGBMClassifier\n",
    "from catboost import CatBoostClassifier\n",
    "from sklearn.model_selection import GridSearchCV, RandomizedSearchCV, ParameterSampler, ParameterGrid\n",
    "from sklearn.preprocessing import OrdinalEncoder, LabelEncoder\n",
    "from sklearn.svm import SVC\n",
    "import pickle\n",
    "from scipy import stats\n",
    "from skopt import BayesSearchCV\n",
    "from skopt.space import Real, Categorical, Integer\n",
    "from tqdm import tqdm\n",
    "import datetime\n",
    "import time\n",
    "from sklearn.preprocessing import LabelBinarizer\n",
    "from sklearn.model_selection import cross_val_score, cross_val_predict, cross_validate, StratifiedKFold, KFold\n",
    "from sklearn.decomposition import PCA"
   ]
  },
  {
   "cell_type": "markdown",
   "metadata": {},
   "source": [
    "# Global Var"
   ]
  },
  {
   "cell_type": "code",
   "execution_count": 20,
   "metadata": {},
   "outputs": [],
   "source": [
    "KFOLDS=10"
   ]
  },
  {
   "cell_type": "markdown",
   "metadata": {},
   "source": [
    "# Data Processing"
   ]
  },
  {
   "cell_type": "code",
   "execution_count": 21,
   "metadata": {},
   "outputs": [
    {
     "name": "stdout",
     "output_type": "stream",
     "text": [
      "(9681, 25)\n",
      "['id', 'neighbourhood', 'room_type', 'minimum_nights', 'number_of_reviews', 'last_review', 'reviews_per_month', 'calculated_host_listings_count', 'availability_365', 'host_since', 'host_is_superhost', 'bathrooms', 'bedrooms', 'beds', 'bed_type', 'cleaning_fee', 'guests_included', 'extra_people', 'maximum_nights', 'instant_bookable', 'is_business_travel_ready', 'cancellation_policy', 'require_guest_profile_picture', 'require_guest_phone_verification', 'price'] 25\n"
     ]
    },
    {
     "data": {
      "text/html": [
       "<div>\n",
       "<style scoped>\n",
       "    .dataframe tbody tr th:only-of-type {\n",
       "        vertical-align: middle;\n",
       "    }\n",
       "\n",
       "    .dataframe tbody tr th {\n",
       "        vertical-align: top;\n",
       "    }\n",
       "\n",
       "    .dataframe thead th {\n",
       "        text-align: right;\n",
       "    }\n",
       "</style>\n",
       "<table border=\"1\" class=\"dataframe\">\n",
       "  <thead>\n",
       "    <tr style=\"text-align: right;\">\n",
       "      <th></th>\n",
       "      <th>id</th>\n",
       "      <th>neighbourhood</th>\n",
       "      <th>room_type</th>\n",
       "      <th>minimum_nights</th>\n",
       "      <th>number_of_reviews</th>\n",
       "      <th>last_review</th>\n",
       "      <th>reviews_per_month</th>\n",
       "      <th>calculated_host_listings_count</th>\n",
       "      <th>availability_365</th>\n",
       "      <th>host_since</th>\n",
       "      <th>...</th>\n",
       "      <th>cleaning_fee</th>\n",
       "      <th>guests_included</th>\n",
       "      <th>extra_people</th>\n",
       "      <th>maximum_nights</th>\n",
       "      <th>instant_bookable</th>\n",
       "      <th>is_business_travel_ready</th>\n",
       "      <th>cancellation_policy</th>\n",
       "      <th>require_guest_profile_picture</th>\n",
       "      <th>require_guest_phone_verification</th>\n",
       "      <th>price</th>\n",
       "    </tr>\n",
       "  </thead>\n",
       "  <tbody>\n",
       "    <tr>\n",
       "      <th>0</th>\n",
       "      <td>727</td>\n",
       "      <td>Palermo</td>\n",
       "      <td>Entire home/apt</td>\n",
       "      <td>1</td>\n",
       "      <td>170</td>\n",
       "      <td>5/12/20</td>\n",
       "      <td>2.48</td>\n",
       "      <td>4</td>\n",
       "      <td>346</td>\n",
       "      <td>8/1/13</td>\n",
       "      <td>...</td>\n",
       "      <td>2092</td>\n",
       "      <td>1</td>\n",
       "      <td>0</td>\n",
       "      <td>365</td>\n",
       "      <td>t</td>\n",
       "      <td>f</td>\n",
       "      <td>strict_14_with_grace_period</td>\n",
       "      <td>f</td>\n",
       "      <td>f</td>\n",
       "      <td>2</td>\n",
       "    </tr>\n",
       "    <tr>\n",
       "      <th>1</th>\n",
       "      <td>6274</td>\n",
       "      <td>Colegiales</td>\n",
       "      <td>Private room</td>\n",
       "      <td>1</td>\n",
       "      <td>11</td>\n",
       "      <td>7/1/19</td>\n",
       "      <td>0.57</td>\n",
       "      <td>1</td>\n",
       "      <td>0</td>\n",
       "      <td>2/14/14</td>\n",
       "      <td>...</td>\n",
       "      <td>558</td>\n",
       "      <td>1</td>\n",
       "      <td>0</td>\n",
       "      <td>15</td>\n",
       "      <td>f</td>\n",
       "      <td>f</td>\n",
       "      <td>moderate</td>\n",
       "      <td>f</td>\n",
       "      <td>f</td>\n",
       "      <td>1</td>\n",
       "    </tr>\n",
       "    <tr>\n",
       "      <th>2</th>\n",
       "      <td>6025</td>\n",
       "      <td>Recoleta</td>\n",
       "      <td>Entire home/apt</td>\n",
       "      <td>3</td>\n",
       "      <td>2</td>\n",
       "      <td>11/23/19</td>\n",
       "      <td>0.08</td>\n",
       "      <td>19</td>\n",
       "      <td>360</td>\n",
       "      <td>10/19/17</td>\n",
       "      <td>...</td>\n",
       "      <td>1052</td>\n",
       "      <td>3</td>\n",
       "      <td>351</td>\n",
       "      <td>90</td>\n",
       "      <td>t</td>\n",
       "      <td>f</td>\n",
       "      <td>moderate</td>\n",
       "      <td>f</td>\n",
       "      <td>f</td>\n",
       "      <td>3</td>\n",
       "    </tr>\n",
       "    <tr>\n",
       "      <th>3</th>\n",
       "      <td>8931</td>\n",
       "      <td>Recoleta</td>\n",
       "      <td>Entire home/apt</td>\n",
       "      <td>2</td>\n",
       "      <td>1</td>\n",
       "      <td>11/1/19</td>\n",
       "      <td>0.13</td>\n",
       "      <td>1</td>\n",
       "      <td>267</td>\n",
       "      <td>2/1/19</td>\n",
       "      <td>...</td>\n",
       "      <td>0</td>\n",
       "      <td>4</td>\n",
       "      <td>0</td>\n",
       "      <td>1125</td>\n",
       "      <td>t</td>\n",
       "      <td>f</td>\n",
       "      <td>flexible</td>\n",
       "      <td>f</td>\n",
       "      <td>f</td>\n",
       "      <td>2</td>\n",
       "    </tr>\n",
       "    <tr>\n",
       "      <th>4</th>\n",
       "      <td>7524</td>\n",
       "      <td>San Nicolás</td>\n",
       "      <td>Entire home/apt</td>\n",
       "      <td>2</td>\n",
       "      <td>31</td>\n",
       "      <td>12/26/19</td>\n",
       "      <td>1.54</td>\n",
       "      <td>5</td>\n",
       "      <td>365</td>\n",
       "      <td>1/24/15</td>\n",
       "      <td>...</td>\n",
       "      <td>2092</td>\n",
       "      <td>1</td>\n",
       "      <td>0</td>\n",
       "      <td>365</td>\n",
       "      <td>t</td>\n",
       "      <td>f</td>\n",
       "      <td>moderate</td>\n",
       "      <td>f</td>\n",
       "      <td>f</td>\n",
       "      <td>3</td>\n",
       "    </tr>\n",
       "  </tbody>\n",
       "</table>\n",
       "<p>5 rows × 25 columns</p>\n",
       "</div>"
      ],
      "text/plain": [
       "     id neighbourhood        room_type  minimum_nights  number_of_reviews  \\\n",
       "0   727       Palermo  Entire home/apt               1                170   \n",
       "1  6274    Colegiales     Private room               1                 11   \n",
       "2  6025      Recoleta  Entire home/apt               3                  2   \n",
       "3  8931      Recoleta  Entire home/apt               2                  1   \n",
       "4  7524   San Nicolás  Entire home/apt               2                 31   \n",
       "\n",
       "  last_review  reviews_per_month  calculated_host_listings_count  \\\n",
       "0     5/12/20               2.48                               4   \n",
       "1      7/1/19               0.57                               1   \n",
       "2    11/23/19               0.08                              19   \n",
       "3     11/1/19               0.13                               1   \n",
       "4    12/26/19               1.54                               5   \n",
       "\n",
       "   availability_365 host_since  ... cleaning_fee  guests_included  \\\n",
       "0               346     8/1/13  ...         2092                1   \n",
       "1                 0    2/14/14  ...          558                1   \n",
       "2               360   10/19/17  ...         1052                3   \n",
       "3               267     2/1/19  ...            0                4   \n",
       "4               365    1/24/15  ...         2092                1   \n",
       "\n",
       "   extra_people  maximum_nights instant_bookable  is_business_travel_ready  \\\n",
       "0             0             365                t                         f   \n",
       "1             0              15                f                         f   \n",
       "2           351              90                t                         f   \n",
       "3             0            1125                t                         f   \n",
       "4             0             365                t                         f   \n",
       "\n",
       "           cancellation_policy  require_guest_profile_picture  \\\n",
       "0  strict_14_with_grace_period                              f   \n",
       "1                     moderate                              f   \n",
       "2                     moderate                              f   \n",
       "3                     flexible                              f   \n",
       "4                     moderate                              f   \n",
       "\n",
       "   require_guest_phone_verification price  \n",
       "0                                 f     2  \n",
       "1                                 f     1  \n",
       "2                                 f     3  \n",
       "3                                 f     2  \n",
       "4                                 f     3  \n",
       "\n",
       "[5 rows x 25 columns]"
      ]
     },
     "execution_count": 21,
     "metadata": {},
     "output_type": "execute_result"
    }
   ],
   "source": [
    "# loading data and initial inspection to make sure data is correct\n",
    "train_data = pd.read_csv(\"train.csv\",encoding=\"utf_8_sig\")\n",
    "print(train_data.shape)\n",
    "print(list(train_data), len(list(train_data)))\n",
    "train_data.head()"
   ]
  },
  {
   "cell_type": "code",
   "execution_count": 22,
   "metadata": {},
   "outputs": [],
   "source": [
    "# initialize one hot encoder from sklearn\n",
    "neigh_encoder = LabelBinarizer()\n",
    "room_encoder = LabelBinarizer()\n",
    "bed_encoder = LabelBinarizer()\n",
    "cancel_encoder = LabelBinarizer()\n",
    "neigh_encoder.fit(train_data['neighbourhood'])\n",
    "room_encoder.fit(train_data['room_type'])\n",
    "bed_encoder.fit(train_data['bed_type'])\n",
    "cancel_encoder.fit(train_data['cancellation_policy'])\n",
    "\n",
    "def data_processing_onehotencode(data):\n",
    "    # converting date features to the number of days from today (11/03/2020)\n",
    "    current_date = [\"11/03/20\"]*len(data[\"number_of_reviews\"])\n",
    "    data[\"today_date\"] = current_date\n",
    "    data[\"last_review\"] = (pd.to_datetime(data['today_date']) - pd.to_datetime(data['last_review']))\n",
    "    data[\"host_since\"] = (pd.to_datetime(data['today_date']) - pd.to_datetime(data['host_since']))\n",
    "    data['last_review'] = data[\"last_review\"].astype('timedelta64[D]').astype(float)\n",
    "    data['host_since'] = data[\"host_since\"].astype('timedelta64[D]').astype(float)\n",
    "    data = data.drop([\"today_date\"],axis=1)\n",
    "    \n",
    "    # encode the neighbourhood feature with one hot encoding\n",
    "    neigh_onehot = neigh_encoder.transform(data['neighbourhood'])\n",
    "    neigh_onehot_df = pd.DataFrame(neigh_onehot)\n",
    "    data.drop('neighbourhood', axis=1, inplace=True)\n",
    "    data = pd.concat([neigh_onehot_df, data], axis=1)\n",
    "    \n",
    "    # encode the room_type feature with one hot encoding\n",
    "    room_onehot = room_encoder.transform(data['room_type'])\n",
    "    room_onehot_df = pd.DataFrame(room_onehot)\n",
    "    data.drop('room_type', axis=1, inplace=True)\n",
    "    data = pd.concat([room_onehot_df, data], axis=1)\n",
    "    \n",
    "    # encode the bed_type feature with one hot encoding\n",
    "    bed_onehot = bed_encoder.transform(data['bed_type'])\n",
    "    bed_onehot_df = pd.DataFrame(bed_onehot)\n",
    "    data.drop('bed_type', axis=1, inplace=True)\n",
    "    data = pd.concat([bed_onehot_df, data], axis=1)\n",
    "    \n",
    "    # encode the cancellation_policy feature with one hot encoding\n",
    "    cancel_onehot = cancel_encoder.transform(data['cancellation_policy'])\n",
    "    cancel_onehot_df = pd.DataFrame(cancel_onehot)\n",
    "    data.drop('cancellation_policy', axis=1, inplace=True)\n",
    "    data = pd.concat([cancel_onehot_df, data], axis=1)\n",
    "    \n",
    "    # encode the boolean features by mapping t to 2 and f to 1\n",
    "    data['host_is_superhost'] = data.host_is_superhost.map(dict(t=2, f=1))\n",
    "    data['instant_bookable'] = data.instant_bookable.map(dict(t=2, f=1))\n",
    "    data['require_guest_profile_picture'] = data.require_guest_profile_picture.map(dict(t=2, f=1))\n",
    "    data['require_guest_phone_verification'] = data.require_guest_phone_verification.map(dict(t=2, f=1))\n",
    "    \n",
    "    # dropping features that are useless for training purposes\n",
    "    data.drop('id', axis=1, inplace=True)\n",
    "    data.drop(\"is_business_travel_ready\", axis=1, inplace=True)\n",
    "    \n",
    "    return data"
   ]
  },
  {
   "cell_type": "code",
   "execution_count": 24,
   "metadata": {},
   "outputs": [
    {
     "name": "stdout",
     "output_type": "stream",
     "text": [
      "['id', 'neighbourhood', 'room_type', 'minimum_nights', 'number_of_reviews', 'last_review', 'reviews_per_month', 'calculated_host_listings_count', 'availability_365', 'host_since', 'host_is_superhost', 'bathrooms', 'bedrooms', 'beds', 'bed_type', 'cleaning_fee', 'guests_included', 'extra_people', 'maximum_nights', 'instant_bookable', 'is_business_travel_ready', 'cancellation_policy', 'require_guest_profile_picture', 'require_guest_phone_verification', 'price']\n",
      "[0, 1, 2, 3, 4, 0, 1, 2, 3, 4, 0, 1, 2, 3, 0, 1, 2, 3, 4, 5, 6, 7, 8, 9, 10, 11, 12, 13, 14, 15, 16, 17, 18, 19, 20, 21, 22, 23, 24, 25, 26, 27, 28, 29, 30, 31, 32, 33, 34, 35, 36, 37, 38, 39, 40, 41, 42, 43, 44, 'minimum_nights', 'number_of_reviews', 'last_review', 'reviews_per_month', 'calculated_host_listings_count', 'availability_365', 'host_since', 'host_is_superhost', 'bathrooms', 'bedrooms', 'beds', 'cleaning_fee', 'guests_included', 'extra_people', 'maximum_nights', 'instant_bookable', 'require_guest_profile_picture', 'require_guest_phone_verification', 'price']\n",
      "(9681, 78)\n"
     ]
    }
   ],
   "source": [
    "#inspect data and encoding to make sure it is correct\n",
    "print(list(train_data))\n",
    "train_data = data_processing_onehotencode(train_data)\n",
    "print(list(train_data))\n",
    "print(train_data.shape)"
   ]
  },
  {
   "cell_type": "code",
   "execution_count": 26,
   "metadata": {},
   "outputs": [],
   "source": [
    "# split data into X and y (data and label)\n",
    "X_unscaled = train_data.drop(columns=['price'], axis=1)\n",
    "y_train = train_data['price']"
   ]
  },
  {
   "cell_type": "code",
   "execution_count": 27,
   "metadata": {},
   "outputs": [],
   "source": [
    "# apply standardscaler onto the training data\n",
    "scale = StandardScaler()\n",
    "scale.fit(X_unscaled)\n",
    "X_train = scale.transform(X_unscaled)"
   ]
  },
  {
   "cell_type": "markdown",
   "metadata": {},
   "source": [
    "# Model Eval Utility"
   ]
  },
  {
   "cell_type": "code",
   "execution_count": 28,
   "metadata": {},
   "outputs": [],
   "source": [
    "# model evaluation utility to display cross validation results (accuracy, AUC)\n",
    "def model_eval(clf, X=X_train, print_=True, k=KFOLDS, cat=False):\n",
    "    scores = cross_validate(clf, X, y_train, cv=k, n_jobs=-1, scoring=['roc_auc_ovo', 'accuracy'], return_train_score=True)\n",
    "    if print_:\n",
    "        print(\"Train: Acc: {:.5f} +/- {:.5f},  Auc: {:.5f} | Test: Acc: {:.5f} +/- {:.5f},  Auc: {:.5f}\".\n",
    "              format(scores['train_accuracy'].mean(), scores['train_accuracy'].std() * 2, scores['train_roc_auc_ovo'].mean(), \n",
    "                     scores['test_accuracy'].mean(), scores['test_accuracy'].std() * 2, scores['test_roc_auc_ovo'].mean()))\n",
    "    return scores['train_accuracy'].mean(), scores['train_roc_auc_ovo'].mean(), scores['test_accuracy'].mean(), scores['test_roc_auc_ovo'].mean()"
   ]
  },
  {
   "cell_type": "markdown",
   "metadata": {},
   "source": [
    "# LlightGBM Tuning"
   ]
  },
  {
   "cell_type": "code",
   "execution_count": 13,
   "metadata": {},
   "outputs": [
    {
     "name": "stdout",
     "output_type": "stream",
     "text": [
      "Acc: 0.55511 +/- 0.02413 | Auc: 0.80195\n"
     ]
    },
    {
     "data": {
      "text/plain": [
       "(0.5551082764093745, 0.8019513149131952)"
      ]
     },
     "execution_count": 13,
     "metadata": {},
     "output_type": "execute_result"
    }
   ],
   "source": [
    "lgb = LGBMClassifier(objective='multiclass',num_class=4, random_state=1, learning_rate=0.086, \n",
    "                         max_depth=10, num_leaves=200, min_child_samples=3, min_child_weight=0.007,\n",
    "                        reg_alpha = 0.8, reg_lambda=0.8)\n",
    "model_eval(lgb)"
   ]
  },
  {
   "cell_type": "markdown",
   "metadata": {},
   "source": [
    "### Tuning max_depth, num_leaves for LightGBM"
   ]
  },
  {
   "cell_type": "code",
   "execution_count": 25,
   "metadata": {},
   "outputs": [
    {
     "name": "stdout",
     "output_type": "stream",
     "text": [
      "Fitting 10 folds for each of 240 candidates, totalling 2400 fits\n"
     ]
    },
    {
     "name": "stderr",
     "output_type": "stream",
     "text": [
      "[Parallel(n_jobs=-1)]: Using backend LokyBackend with 16 concurrent workers.\n",
      "[Parallel(n_jobs=-1)]: Done   9 tasks      | elapsed:    2.6s\n",
      "[Parallel(n_jobs=-1)]: Done  18 tasks      | elapsed:    3.1s\n",
      "[Parallel(n_jobs=-1)]: Done  29 tasks      | elapsed:    3.2s\n",
      "[Parallel(n_jobs=-1)]: Done  40 tasks      | elapsed:    3.7s\n",
      "[Parallel(n_jobs=-1)]: Done  53 tasks      | elapsed:    4.2s\n",
      "[Parallel(n_jobs=-1)]: Done  66 tasks      | elapsed:    4.7s\n",
      "[Parallel(n_jobs=-1)]: Done  81 tasks      | elapsed:    5.2s\n",
      "[Parallel(n_jobs=-1)]: Done  96 tasks      | elapsed:    5.4s\n",
      "[Parallel(n_jobs=-1)]: Done 113 tasks      | elapsed:    6.2s\n",
      "[Parallel(n_jobs=-1)]: Done 130 tasks      | elapsed:    6.8s\n",
      "[Parallel(n_jobs=-1)]: Done 149 tasks      | elapsed:    7.3s\n",
      "[Parallel(n_jobs=-1)]: Done 168 tasks      | elapsed:    7.9s\n",
      "[Parallel(n_jobs=-1)]: Done 189 tasks      | elapsed:    8.5s\n",
      "[Parallel(n_jobs=-1)]: Done 210 tasks      | elapsed:    9.4s\n",
      "[Parallel(n_jobs=-1)]: Done 233 tasks      | elapsed:   10.1s\n",
      "[Parallel(n_jobs=-1)]: Done 256 tasks      | elapsed:   10.9s\n",
      "[Parallel(n_jobs=-1)]: Done 281 tasks      | elapsed:   11.8s\n",
      "[Parallel(n_jobs=-1)]: Done 306 tasks      | elapsed:   12.7s\n",
      "[Parallel(n_jobs=-1)]: Done 333 tasks      | elapsed:   13.7s\n",
      "[Parallel(n_jobs=-1)]: Done 360 tasks      | elapsed:   14.8s\n",
      "[Parallel(n_jobs=-1)]: Done 389 tasks      | elapsed:   15.9s\n",
      "[Parallel(n_jobs=-1)]: Done 418 tasks      | elapsed:   17.2s\n",
      "[Parallel(n_jobs=-1)]: Done 449 tasks      | elapsed:   18.5s\n",
      "[Parallel(n_jobs=-1)]: Done 480 tasks      | elapsed:   19.7s\n",
      "[Parallel(n_jobs=-1)]: Done 513 tasks      | elapsed:   21.0s\n",
      "[Parallel(n_jobs=-1)]: Done 546 tasks      | elapsed:   22.3s\n",
      "[Parallel(n_jobs=-1)]: Done 581 tasks      | elapsed:   23.8s\n",
      "[Parallel(n_jobs=-1)]: Done 616 tasks      | elapsed:   25.4s\n",
      "[Parallel(n_jobs=-1)]: Done 653 tasks      | elapsed:   27.0s\n",
      "[Parallel(n_jobs=-1)]: Done 690 tasks      | elapsed:   28.7s\n",
      "[Parallel(n_jobs=-1)]: Done 729 tasks      | elapsed:   30.8s\n",
      "[Parallel(n_jobs=-1)]: Done 768 tasks      | elapsed:   32.6s\n",
      "[Parallel(n_jobs=-1)]: Done 809 tasks      | elapsed:   34.7s\n",
      "[Parallel(n_jobs=-1)]: Done 850 tasks      | elapsed:   36.6s\n",
      "[Parallel(n_jobs=-1)]: Done 893 tasks      | elapsed:   38.7s\n",
      "[Parallel(n_jobs=-1)]: Done 936 tasks      | elapsed:   41.1s\n",
      "[Parallel(n_jobs=-1)]: Done 981 tasks      | elapsed:   44.0s\n",
      "[Parallel(n_jobs=-1)]: Done 1026 tasks      | elapsed:   47.1s\n",
      "[Parallel(n_jobs=-1)]: Done 1073 tasks      | elapsed:   50.1s\n",
      "[Parallel(n_jobs=-1)]: Done 1120 tasks      | elapsed:   53.2s\n",
      "[Parallel(n_jobs=-1)]: Done 1169 tasks      | elapsed:   56.2s\n",
      "[Parallel(n_jobs=-1)]: Done 1218 tasks      | elapsed:   59.2s\n",
      "[Parallel(n_jobs=-1)]: Done 1269 tasks      | elapsed:  1.1min\n",
      "[Parallel(n_jobs=-1)]: Done 1320 tasks      | elapsed:  1.1min\n",
      "[Parallel(n_jobs=-1)]: Done 1373 tasks      | elapsed:  1.2min\n",
      "[Parallel(n_jobs=-1)]: Done 1426 tasks      | elapsed:  1.3min\n",
      "[Parallel(n_jobs=-1)]: Done 1481 tasks      | elapsed:  1.3min\n",
      "[Parallel(n_jobs=-1)]: Done 1536 tasks      | elapsed:  1.4min\n",
      "[Parallel(n_jobs=-1)]: Done 1593 tasks      | elapsed:  1.5min\n",
      "[Parallel(n_jobs=-1)]: Done 1650 tasks      | elapsed:  1.6min\n",
      "[Parallel(n_jobs=-1)]: Done 1709 tasks      | elapsed:  1.7min\n",
      "[Parallel(n_jobs=-1)]: Done 1768 tasks      | elapsed:  1.8min\n",
      "[Parallel(n_jobs=-1)]: Done 1829 tasks      | elapsed:  1.9min\n",
      "[Parallel(n_jobs=-1)]: Done 1890 tasks      | elapsed:  2.0min\n",
      "[Parallel(n_jobs=-1)]: Done 1953 tasks      | elapsed:  2.2min\n",
      "[Parallel(n_jobs=-1)]: Done 2016 tasks      | elapsed:  2.3min\n",
      "[Parallel(n_jobs=-1)]: Done 2081 tasks      | elapsed:  2.4min\n",
      "[Parallel(n_jobs=-1)]: Done 2146 tasks      | elapsed:  2.6min\n",
      "[Parallel(n_jobs=-1)]: Done 2213 tasks      | elapsed:  2.7min\n",
      "[Parallel(n_jobs=-1)]: Done 2280 tasks      | elapsed:  2.9min\n",
      "[Parallel(n_jobs=-1)]: Done 2349 tasks      | elapsed:  3.1min\n",
      "[Parallel(n_jobs=-1)]: Done 2400 out of 2400 | elapsed:  3.2min finished\n"
     ]
    },
    {
     "name": "stdout",
     "output_type": "stream",
     "text": [
      "\n",
      " The best estimator across ALL searched params:\n",
      " LGBMClassifier(learning_rate=0.17, max_depth=9, num_class=4, num_leaves=160,\n",
      "               objective='multiclass', random_state=1)\n",
      "\n",
      " The best score across ALL searched params:\n",
      " 0.5569649847759897\n",
      "\n",
      " The best parameters across ALL searched params:\n",
      " {'max_depth': 9, 'num_leaves': 160}\n"
     ]
    }
   ],
   "source": [
    "params = {\n",
    "    'max_depth': range(3, 11),\n",
    "    'num_leaves': np.arange(10, 1500, 50)\n",
    "}\n",
    "lgb = LGBMClassifier(objective='multiclass',num_class=4, random_state=1, learning_rate=0.17, n_jobs=-1)\n",
    "grid = GridSearchCV(estimator=lgb, param_grid=params, cv=KFOLDS, n_jobs=-1, scoring=['accuracy', 'roc_auc_ovo'], refit='accuracy', verbose=10)\n",
    "grid.fit(X_train,y_train)\n",
    "\n",
    "print(\"\\n The best estimator across ALL searched params:\\n\", grid.best_estimator_)\n",
    "print(\"\\n The best score across ALL searched params:\\n\", grid.best_score_)\n",
    "print(\"\\n The best parameters across ALL searched params:\\n\", grid.best_params_)"
   ]
  },
  {
   "cell_type": "markdown",
   "metadata": {},
   "source": [
    "### Tuning min_child_samples, min_child_weight for LightGBM"
   ]
  },
  {
   "cell_type": "code",
   "execution_count": 36,
   "metadata": {},
   "outputs": [
    {
     "name": "stdout",
     "output_type": "stream",
     "text": [
      "Fitting 10 folds for each of 261 candidates, totalling 2610 fits\n"
     ]
    },
    {
     "name": "stderr",
     "output_type": "stream",
     "text": [
      "[Parallel(n_jobs=-1)]: Using backend LokyBackend with 16 concurrent workers.\n",
      "[Parallel(n_jobs=-1)]: Done   9 tasks      | elapsed:    3.3s\n",
      "[Parallel(n_jobs=-1)]: Done  18 tasks      | elapsed:    6.6s\n",
      "[Parallel(n_jobs=-1)]: Done  29 tasks      | elapsed:    6.9s\n",
      "[Parallel(n_jobs=-1)]: Done  40 tasks      | elapsed:   10.2s\n",
      "[Parallel(n_jobs=-1)]: Done  53 tasks      | elapsed:   13.3s\n",
      "[Parallel(n_jobs=-1)]: Done  66 tasks      | elapsed:   16.5s\n",
      "[Parallel(n_jobs=-1)]: Done  81 tasks      | elapsed:   19.9s\n",
      "[Parallel(n_jobs=-1)]: Done  96 tasks      | elapsed:   20.7s\n",
      "[Parallel(n_jobs=-1)]: Done 113 tasks      | elapsed:   26.1s\n",
      "[Parallel(n_jobs=-1)]: Done 130 tasks      | elapsed:   29.7s\n",
      "[Parallel(n_jobs=-1)]: Done 149 tasks      | elapsed:   33.3s\n",
      "[Parallel(n_jobs=-1)]: Done 168 tasks      | elapsed:   36.7s\n",
      "[Parallel(n_jobs=-1)]: Done 189 tasks      | elapsed:   39.9s\n",
      "[Parallel(n_jobs=-1)]: Done 210 tasks      | elapsed:   45.4s\n",
      "[Parallel(n_jobs=-1)]: Done 233 tasks      | elapsed:   49.2s\n",
      "[Parallel(n_jobs=-1)]: Done 256 tasks      | elapsed:   52.9s\n",
      "[Parallel(n_jobs=-1)]: Done 281 tasks      | elapsed:   58.3s\n",
      "[Parallel(n_jobs=-1)]: Done 306 tasks      | elapsed:  1.0min\n",
      "[Parallel(n_jobs=-1)]: Done 333 tasks      | elapsed:  1.1min\n",
      "[Parallel(n_jobs=-1)]: Done 360 tasks      | elapsed:  1.2min\n",
      "[Parallel(n_jobs=-1)]: Done 389 tasks      | elapsed:  1.3min\n",
      "[Parallel(n_jobs=-1)]: Done 418 tasks      | elapsed:  1.4min\n",
      "[Parallel(n_jobs=-1)]: Done 449 tasks      | elapsed:  1.5min\n",
      "[Parallel(n_jobs=-1)]: Done 480 tasks      | elapsed:  1.5min\n",
      "[Parallel(n_jobs=-1)]: Done 513 tasks      | elapsed:  1.7min\n",
      "[Parallel(n_jobs=-1)]: Done 546 tasks      | elapsed:  1.7min\n",
      "[Parallel(n_jobs=-1)]: Done 581 tasks      | elapsed:  1.8min\n",
      "[Parallel(n_jobs=-1)]: Done 616 tasks      | elapsed:  1.9min\n",
      "[Parallel(n_jobs=-1)]: Done 653 tasks      | elapsed:  2.0min\n",
      "[Parallel(n_jobs=-1)]: Done 690 tasks      | elapsed:  2.1min\n",
      "[Parallel(n_jobs=-1)]: Done 729 tasks      | elapsed:  2.2min\n",
      "[Parallel(n_jobs=-1)]: Done 768 tasks      | elapsed:  2.3min\n",
      "[Parallel(n_jobs=-1)]: Done 809 tasks      | elapsed:  2.4min\n",
      "[Parallel(n_jobs=-1)]: Done 850 tasks      | elapsed:  2.5min\n",
      "[Parallel(n_jobs=-1)]: Done 893 tasks      | elapsed:  2.6min\n",
      "[Parallel(n_jobs=-1)]: Done 936 tasks      | elapsed:  2.7min\n",
      "[Parallel(n_jobs=-1)]: Done 981 tasks      | elapsed:  2.9min\n",
      "[Parallel(n_jobs=-1)]: Done 1026 tasks      | elapsed:  3.0min\n",
      "[Parallel(n_jobs=-1)]: Done 1073 tasks      | elapsed:  3.1min\n",
      "[Parallel(n_jobs=-1)]: Done 1120 tasks      | elapsed:  3.2min\n",
      "[Parallel(n_jobs=-1)]: Done 1169 tasks      | elapsed:  3.3min\n",
      "[Parallel(n_jobs=-1)]: Done 1218 tasks      | elapsed:  3.4min\n",
      "[Parallel(n_jobs=-1)]: Done 1269 tasks      | elapsed:  3.5min\n",
      "[Parallel(n_jobs=-1)]: Done 1320 tasks      | elapsed:  3.6min\n",
      "[Parallel(n_jobs=-1)]: Done 1373 tasks      | elapsed:  3.7min\n",
      "[Parallel(n_jobs=-1)]: Done 1426 tasks      | elapsed:  3.9min\n",
      "[Parallel(n_jobs=-1)]: Done 1481 tasks      | elapsed:  4.0min\n",
      "[Parallel(n_jobs=-1)]: Done 1536 tasks      | elapsed:  4.1min\n",
      "[Parallel(n_jobs=-1)]: Done 1593 tasks      | elapsed:  4.2min\n",
      "[Parallel(n_jobs=-1)]: Done 1650 tasks      | elapsed:  4.3min\n",
      "[Parallel(n_jobs=-1)]: Done 1709 tasks      | elapsed:  4.4min\n",
      "[Parallel(n_jobs=-1)]: Done 1768 tasks      | elapsed:  4.6min\n",
      "[Parallel(n_jobs=-1)]: Done 1829 tasks      | elapsed:  4.7min\n",
      "[Parallel(n_jobs=-1)]: Done 1890 tasks      | elapsed:  4.8min\n",
      "[Parallel(n_jobs=-1)]: Done 1953 tasks      | elapsed:  4.9min\n",
      "[Parallel(n_jobs=-1)]: Done 2016 tasks      | elapsed:  5.1min\n",
      "[Parallel(n_jobs=-1)]: Done 2081 tasks      | elapsed:  5.2min\n",
      "[Parallel(n_jobs=-1)]: Done 2146 tasks      | elapsed:  5.3min\n",
      "[Parallel(n_jobs=-1)]: Done 2213 tasks      | elapsed:  5.4min\n",
      "[Parallel(n_jobs=-1)]: Done 2280 tasks      | elapsed:  5.6min\n",
      "[Parallel(n_jobs=-1)]: Done 2349 tasks      | elapsed:  5.7min\n",
      "[Parallel(n_jobs=-1)]: Done 2418 tasks      | elapsed:  5.8min\n",
      "[Parallel(n_jobs=-1)]: Done 2489 tasks      | elapsed:  6.0min\n",
      "[Parallel(n_jobs=-1)]: Done 2560 tasks      | elapsed:  6.1min\n",
      "[Parallel(n_jobs=-1)]: Done 2610 out of 2610 | elapsed:  6.2min finished\n"
     ]
    },
    {
     "name": "stdout",
     "output_type": "stream",
     "text": [
      "\n",
      " The best estimator across ALL searched params:\n",
      " LGBMClassifier(learning_rate=0.17, max_depth=9, min_child_samples=3,\n",
      "               min_child_weight=0.009000000000000001, num_class=4,\n",
      "               num_leaves=160, objective='multiclass', random_state=1)\n",
      "\n",
      " The best score across ALL searched params:\n",
      " 0.5586200095523204\n",
      "\n",
      " The best parameters across ALL searched params:\n",
      " {'min_child_samples': 3, 'min_child_weight': 0.009000000000000001}\n"
     ]
    }
   ],
   "source": [
    "params = {\n",
    "    'min_child_samples': range(1, 30),\n",
    "    'min_child_weight': np.arange(0.001, 0.01, 0.001)\n",
    "}\n",
    "lgb = LGBMClassifier(objective='multiclass',num_class=4, random_state=1, learning_rate=0.17, n_jobs=-1, max_depth=9, num_leaves=160)\n",
    "grid = GridSearchCV(estimator=lgb, param_grid=params, cv=KFOLDS, n_jobs=-1, scoring=['accuracy', 'roc_auc_ovo'], refit='accuracy', verbose=10)\n",
    "grid.fit(X_train,y_train)\n",
    "\n",
    "print(\"\\n The best estimator across ALL searched params:\\n\", grid.best_estimator_)\n",
    "print(\"\\n The best score across ALL searched params:\\n\", grid.best_score_)\n",
    "print(\"\\n The best parameters across ALL searched params:\\n\", grid.best_params_)"
   ]
  },
  {
   "cell_type": "markdown",
   "metadata": {},
   "source": [
    "### Tuning reg_alpha, reg_lambda for LightGBM"
   ]
  },
  {
   "cell_type": "code",
   "execution_count": 38,
   "metadata": {},
   "outputs": [
    {
     "name": "stdout",
     "output_type": "stream",
     "text": [
      "Fitting 10 folds for each of 121 candidates, totalling 1210 fits\n"
     ]
    },
    {
     "name": "stderr",
     "output_type": "stream",
     "text": [
      "[Parallel(n_jobs=-1)]: Using backend LokyBackend with 16 concurrent workers.\n",
      "[Parallel(n_jobs=-1)]: Done   9 tasks      | elapsed:    2.9s\n",
      "[Parallel(n_jobs=-1)]: Done  18 tasks      | elapsed:    5.5s\n",
      "[Parallel(n_jobs=-1)]: Done  29 tasks      | elapsed:    5.9s\n",
      "[Parallel(n_jobs=-1)]: Done  40 tasks      | elapsed:    8.5s\n",
      "[Parallel(n_jobs=-1)]: Done  53 tasks      | elapsed:   11.2s\n",
      "[Parallel(n_jobs=-1)]: Done  66 tasks      | elapsed:   13.8s\n",
      "[Parallel(n_jobs=-1)]: Done  81 tasks      | elapsed:   16.6s\n",
      "[Parallel(n_jobs=-1)]: Done  96 tasks      | elapsed:   17.5s\n",
      "[Parallel(n_jobs=-1)]: Done 113 tasks      | elapsed:   22.9s\n",
      "[Parallel(n_jobs=-1)]: Done 130 tasks      | elapsed:   26.5s\n",
      "[Parallel(n_jobs=-1)]: Done 149 tasks      | elapsed:   30.1s\n",
      "[Parallel(n_jobs=-1)]: Done 168 tasks      | elapsed:   33.6s\n",
      "[Parallel(n_jobs=-1)]: Done 189 tasks      | elapsed:   37.3s\n",
      "[Parallel(n_jobs=-1)]: Done 210 tasks      | elapsed:   43.3s\n",
      "[Parallel(n_jobs=-1)]: Done 233 tasks      | elapsed:   47.4s\n",
      "[Parallel(n_jobs=-1)]: Done 256 tasks      | elapsed:   51.9s\n",
      "[Parallel(n_jobs=-1)]: Done 281 tasks      | elapsed:   57.8s\n",
      "[Parallel(n_jobs=-1)]: Done 306 tasks      | elapsed:  1.1min\n",
      "[Parallel(n_jobs=-1)]: Done 333 tasks      | elapsed:  1.1min\n",
      "[Parallel(n_jobs=-1)]: Done 360 tasks      | elapsed:  1.3min\n",
      "[Parallel(n_jobs=-1)]: Done 389 tasks      | elapsed:  1.4min\n",
      "[Parallel(n_jobs=-1)]: Done 418 tasks      | elapsed:  1.5min\n",
      "[Parallel(n_jobs=-1)]: Done 449 tasks      | elapsed:  1.6min\n",
      "[Parallel(n_jobs=-1)]: Done 480 tasks      | elapsed:  1.7min\n",
      "[Parallel(n_jobs=-1)]: Done 513 tasks      | elapsed:  1.8min\n",
      "[Parallel(n_jobs=-1)]: Done 546 tasks      | elapsed:  1.9min\n",
      "[Parallel(n_jobs=-1)]: Done 581 tasks      | elapsed:  2.1min\n",
      "[Parallel(n_jobs=-1)]: Done 616 tasks      | elapsed:  2.2min\n",
      "[Parallel(n_jobs=-1)]: Done 653 tasks      | elapsed:  2.3min\n",
      "[Parallel(n_jobs=-1)]: Done 690 tasks      | elapsed:  2.5min\n",
      "[Parallel(n_jobs=-1)]: Done 729 tasks      | elapsed:  2.6min\n",
      "[Parallel(n_jobs=-1)]: Done 768 tasks      | elapsed:  2.7min\n",
      "[Parallel(n_jobs=-1)]: Done 809 tasks      | elapsed:  2.9min\n",
      "[Parallel(n_jobs=-1)]: Done 850 tasks      | elapsed:  3.0min\n",
      "[Parallel(n_jobs=-1)]: Done 893 tasks      | elapsed:  3.2min\n",
      "[Parallel(n_jobs=-1)]: Done 936 tasks      | elapsed:  3.3min\n",
      "[Parallel(n_jobs=-1)]: Done 981 tasks      | elapsed:  3.5min\n",
      "[Parallel(n_jobs=-1)]: Done 1026 tasks      | elapsed:  3.7min\n",
      "[Parallel(n_jobs=-1)]: Done 1073 tasks      | elapsed:  3.8min\n",
      "[Parallel(n_jobs=-1)]: Done 1120 tasks      | elapsed:  4.0min\n",
      "[Parallel(n_jobs=-1)]: Done 1169 tasks      | elapsed:  4.2min\n",
      "[Parallel(n_jobs=-1)]: Done 1210 out of 1210 | elapsed:  4.3min finished\n"
     ]
    },
    {
     "name": "stdout",
     "output_type": "stream",
     "text": [
      "\n",
      " The best estimator across ALL searched params:\n",
      " LGBMClassifier(learning_rate=0.17, max_depth=9, min_child_samples=3,\n",
      "               min_child_weight=0.009, num_class=4, num_leaves=160,\n",
      "               objective='multiclass', random_state=1, reg_alpha=0.5,\n",
      "               reg_lambda=0.6000000000000001)\n",
      "\n",
      " The best score across ALL searched params:\n",
      " 0.559136218645788\n",
      "\n",
      " The best parameters across ALL searched params:\n",
      " {'reg_alpha': 0.5, 'reg_lambda': 0.6000000000000001}\n"
     ]
    }
   ],
   "source": [
    "params = {\n",
    "    'reg_alpha': np.arange(0.0, 1.1, 0.1),\n",
    "    'reg_lambda': np.arange(0.0, 1.1, 0.1)\n",
    "}\n",
    "lgb = LGBMClassifier(objective='multiclass',num_class=4, random_state=1, learning_rate=0.17, n_jobs=-1, \n",
    "                     max_depth=9, num_leaves=160,  min_child_samples=3, min_child_weight=0.009)\n",
    "grid = GridSearchCV(estimator=lgb, param_grid=params, cv=KFOLDS, n_jobs=-1, scoring=['accuracy', 'roc_auc_ovo'], refit='accuracy', verbose=10)\n",
    "grid.fit(X_train,y_train)\n",
    "\n",
    "print(\"\\n The best estimator across ALL searched params:\\n\", grid.best_estimator_)\n",
    "print(\"\\n The best score across ALL searched params:\\n\", grid.best_score_)\n",
    "print(\"\\n The best parameters across ALL searched params:\\n\", grid.best_params_)"
   ]
  },
  {
   "cell_type": "markdown",
   "metadata": {},
   "source": [
    "### Tuning learning_rate for LightGBM"
   ]
  },
  {
   "cell_type": "code",
   "execution_count": 39,
   "metadata": {},
   "outputs": [
    {
     "name": "stdout",
     "output_type": "stream",
     "text": [
      "Fitting 10 folds for each of 299 candidates, totalling 2990 fits\n"
     ]
    },
    {
     "name": "stderr",
     "output_type": "stream",
     "text": [
      "[Parallel(n_jobs=-1)]: Using backend LokyBackend with 16 concurrent workers.\n",
      "[Parallel(n_jobs=-1)]: Done   9 tasks      | elapsed:    3.8s\n",
      "[Parallel(n_jobs=-1)]: Done  18 tasks      | elapsed:    7.4s\n",
      "[Parallel(n_jobs=-1)]: Done  29 tasks      | elapsed:    7.7s\n",
      "[Parallel(n_jobs=-1)]: Done  40 tasks      | elapsed:   11.6s\n",
      "[Parallel(n_jobs=-1)]: Done  53 tasks      | elapsed:   15.4s\n",
      "[Parallel(n_jobs=-1)]: Done  66 tasks      | elapsed:   19.3s\n",
      "[Parallel(n_jobs=-1)]: Done  81 tasks      | elapsed:   23.1s\n",
      "[Parallel(n_jobs=-1)]: Done  96 tasks      | elapsed:   24.0s\n",
      "[Parallel(n_jobs=-1)]: Done 113 tasks      | elapsed:   30.8s\n",
      "[Parallel(n_jobs=-1)]: Done 130 tasks      | elapsed:   35.0s\n",
      "[Parallel(n_jobs=-1)]: Done 149 tasks      | elapsed:   39.0s\n",
      "[Parallel(n_jobs=-1)]: Done 168 tasks      | elapsed:   42.9s\n",
      "[Parallel(n_jobs=-1)]: Done 189 tasks      | elapsed:   47.3s\n",
      "[Parallel(n_jobs=-1)]: Done 210 tasks      | elapsed:   54.0s\n",
      "[Parallel(n_jobs=-1)]: Done 233 tasks      | elapsed:   58.4s\n",
      "[Parallel(n_jobs=-1)]: Done 256 tasks      | elapsed:  1.0min\n",
      "[Parallel(n_jobs=-1)]: Done 281 tasks      | elapsed:  1.2min\n",
      "[Parallel(n_jobs=-1)]: Done 306 tasks      | elapsed:  1.3min\n",
      "[Parallel(n_jobs=-1)]: Done 333 tasks      | elapsed:  1.4min\n",
      "[Parallel(n_jobs=-1)]: Done 360 tasks      | elapsed:  1.5min\n",
      "[Parallel(n_jobs=-1)]: Done 389 tasks      | elapsed:  1.6min\n",
      "[Parallel(n_jobs=-1)]: Done 418 tasks      | elapsed:  1.7min\n",
      "[Parallel(n_jobs=-1)]: Done 449 tasks      | elapsed:  1.8min\n",
      "[Parallel(n_jobs=-1)]: Done 480 tasks      | elapsed:  1.9min\n",
      "[Parallel(n_jobs=-1)]: Done 513 tasks      | elapsed:  2.1min\n",
      "[Parallel(n_jobs=-1)]: Done 546 tasks      | elapsed:  2.2min\n",
      "[Parallel(n_jobs=-1)]: Done 581 tasks      | elapsed:  2.3min\n",
      "[Parallel(n_jobs=-1)]: Done 616 tasks      | elapsed:  2.4min\n",
      "[Parallel(n_jobs=-1)]: Done 653 tasks      | elapsed:  2.6min\n",
      "[Parallel(n_jobs=-1)]: Done 690 tasks      | elapsed:  2.7min\n",
      "[Parallel(n_jobs=-1)]: Done 729 tasks      | elapsed:  2.9min\n",
      "[Parallel(n_jobs=-1)]: Done 768 tasks      | elapsed:  3.0min\n",
      "[Parallel(n_jobs=-1)]: Done 809 tasks      | elapsed:  3.1min\n",
      "[Parallel(n_jobs=-1)]: Done 850 tasks      | elapsed:  3.3min\n",
      "[Parallel(n_jobs=-1)]: Done 893 tasks      | elapsed:  3.4min\n",
      "[Parallel(n_jobs=-1)]: Done 936 tasks      | elapsed:  3.6min\n",
      "[Parallel(n_jobs=-1)]: Done 981 tasks      | elapsed:  3.8min\n",
      "[Parallel(n_jobs=-1)]: Done 1026 tasks      | elapsed:  3.9min\n",
      "[Parallel(n_jobs=-1)]: Done 1073 tasks      | elapsed:  4.1min\n",
      "[Parallel(n_jobs=-1)]: Done 1120 tasks      | elapsed:  4.3min\n",
      "[Parallel(n_jobs=-1)]: Done 1169 tasks      | elapsed:  4.4min\n",
      "[Parallel(n_jobs=-1)]: Done 1218 tasks      | elapsed:  4.6min\n",
      "[Parallel(n_jobs=-1)]: Done 1269 tasks      | elapsed:  4.8min\n",
      "[Parallel(n_jobs=-1)]: Done 1320 tasks      | elapsed:  5.0min\n",
      "[Parallel(n_jobs=-1)]: Done 1373 tasks      | elapsed:  5.2min\n",
      "[Parallel(n_jobs=-1)]: Done 1426 tasks      | elapsed:  5.4min\n",
      "[Parallel(n_jobs=-1)]: Done 1481 tasks      | elapsed:  5.6min\n",
      "[Parallel(n_jobs=-1)]: Done 1536 tasks      | elapsed:  5.8min\n",
      "[Parallel(n_jobs=-1)]: Done 1593 tasks      | elapsed:  6.0min\n",
      "[Parallel(n_jobs=-1)]: Done 1650 tasks      | elapsed:  6.2min\n",
      "[Parallel(n_jobs=-1)]: Done 1709 tasks      | elapsed:  6.4min\n",
      "[Parallel(n_jobs=-1)]: Done 1768 tasks      | elapsed:  6.6min\n",
      "[Parallel(n_jobs=-1)]: Done 1829 tasks      | elapsed:  6.8min\n",
      "[Parallel(n_jobs=-1)]: Done 1890 tasks      | elapsed:  7.0min\n",
      "[Parallel(n_jobs=-1)]: Done 1953 tasks      | elapsed:  7.2min\n",
      "[Parallel(n_jobs=-1)]: Done 2016 tasks      | elapsed:  7.5min\n",
      "[Parallel(n_jobs=-1)]: Done 2081 tasks      | elapsed:  7.7min\n",
      "[Parallel(n_jobs=-1)]: Done 2146 tasks      | elapsed:  7.9min\n",
      "[Parallel(n_jobs=-1)]: Done 2213 tasks      | elapsed:  8.2min\n",
      "[Parallel(n_jobs=-1)]: Done 2280 tasks      | elapsed:  8.4min\n",
      "[Parallel(n_jobs=-1)]: Done 2349 tasks      | elapsed:  8.7min\n",
      "[Parallel(n_jobs=-1)]: Done 2418 tasks      | elapsed:  8.9min\n",
      "[Parallel(n_jobs=-1)]: Done 2489 tasks      | elapsed:  9.2min\n",
      "[Parallel(n_jobs=-1)]: Done 2560 tasks      | elapsed:  9.4min\n",
      "[Parallel(n_jobs=-1)]: Done 2633 tasks      | elapsed:  9.7min\n",
      "[Parallel(n_jobs=-1)]: Done 2706 tasks      | elapsed: 10.0min\n",
      "[Parallel(n_jobs=-1)]: Done 2781 tasks      | elapsed: 10.2min\n",
      "[Parallel(n_jobs=-1)]: Done 2856 tasks      | elapsed: 10.5min\n",
      "[Parallel(n_jobs=-1)]: Done 2933 tasks      | elapsed: 10.7min\n",
      "[Parallel(n_jobs=-1)]: Done 2990 out of 2990 | elapsed: 10.9min finished\n"
     ]
    },
    {
     "name": "stdout",
     "output_type": "stream",
     "text": [
      "\n",
      " The best estimator across ALL searched params:\n",
      " LGBMClassifier(learning_rate=0.074, max_depth=9, min_child_samples=3,\n",
      "               min_child_weight=0.009, num_class=4, num_leaves=160,\n",
      "               objective='multiclass', random_state=1, reg_alpha=0.5,\n",
      "               reg_lambda=0.6)\n",
      "\n",
      " The best score across ALL searched params:\n",
      " 0.5614099054149716\n",
      "\n",
      " The best parameters across ALL searched params:\n",
      " {'learning_rate': 0.074}\n"
     ]
    }
   ],
   "source": [
    "params = {\n",
    "    'learning_rate': np.arange(0.001, 0.3, 0.001)\n",
    "}\n",
    "lgb = LGBMClassifier(objective='multiclass',num_class=4, random_state=1, learning_rate=0.17, n_jobs=-1, \n",
    "                     max_depth=9, num_leaves=160,  min_child_samples=3, min_child_weight=0.009,\n",
    "                   reg_alpha=0.5, reg_lambda=0.6)\n",
    "grid = GridSearchCV(estimator=lgb, param_grid=params, cv=KFOLDS, n_jobs=-1, scoring=['accuracy', 'roc_auc_ovo'], refit='accuracy', verbose=10)\n",
    "grid.fit(X_train,y_train)\n",
    "\n",
    "print(\"\\n The best estimator across ALL searched params:\\n\", grid.best_estimator_)\n",
    "print(\"\\n The best score across ALL searched params:\\n\", grid.best_score_)\n",
    "print(\"\\n The best parameters across ALL searched params:\\n\", grid.best_params_)"
   ]
  },
  {
   "cell_type": "markdown",
   "metadata": {},
   "source": [
    "### Revisit num_leaves for LightGBM with smaller steps"
   ]
  },
  {
   "cell_type": "code",
   "execution_count": 57,
   "metadata": {},
   "outputs": [
    {
     "name": "stdout",
     "output_type": "stream",
     "text": [
      "Fitting 10 folds for each of 100 candidates, totalling 1000 fits\n"
     ]
    },
    {
     "name": "stderr",
     "output_type": "stream",
     "text": [
      "[Parallel(n_jobs=-1)]: Using backend LokyBackend with 16 concurrent workers.\n",
      "[Parallel(n_jobs=-1)]: Done   9 tasks      | elapsed:    3.0s\n",
      "[Parallel(n_jobs=-1)]: Done  18 tasks      | elapsed:    5.8s\n",
      "[Parallel(n_jobs=-1)]: Done  29 tasks      | elapsed:    6.1s\n",
      "[Parallel(n_jobs=-1)]: Done  40 tasks      | elapsed:    9.1s\n",
      "[Parallel(n_jobs=-1)]: Done  53 tasks      | elapsed:   11.9s\n",
      "[Parallel(n_jobs=-1)]: Done  66 tasks      | elapsed:   14.8s\n",
      "[Parallel(n_jobs=-1)]: Done  81 tasks      | elapsed:   17.8s\n",
      "[Parallel(n_jobs=-1)]: Done  96 tasks      | elapsed:   18.9s\n",
      "[Parallel(n_jobs=-1)]: Done 113 tasks      | elapsed:   23.9s\n",
      "[Parallel(n_jobs=-1)]: Done 130 tasks      | elapsed:   27.1s\n",
      "[Parallel(n_jobs=-1)]: Done 149 tasks      | elapsed:   30.5s\n",
      "[Parallel(n_jobs=-1)]: Done 168 tasks      | elapsed:   33.9s\n",
      "[Parallel(n_jobs=-1)]: Done 189 tasks      | elapsed:   37.9s\n",
      "[Parallel(n_jobs=-1)]: Done 210 tasks      | elapsed:   42.8s\n",
      "[Parallel(n_jobs=-1)]: Done 233 tasks      | elapsed:   47.1s\n",
      "[Parallel(n_jobs=-1)]: Done 256 tasks      | elapsed:   52.2s\n",
      "[Parallel(n_jobs=-1)]: Done 281 tasks      | elapsed:   56.9s\n",
      "[Parallel(n_jobs=-1)]: Done 306 tasks      | elapsed:  1.0min\n",
      "[Parallel(n_jobs=-1)]: Done 333 tasks      | elapsed:  1.1min\n",
      "[Parallel(n_jobs=-1)]: Done 360 tasks      | elapsed:  1.2min\n",
      "[Parallel(n_jobs=-1)]: Done 389 tasks      | elapsed:  1.3min\n",
      "[Parallel(n_jobs=-1)]: Done 418 tasks      | elapsed:  1.4min\n",
      "[Parallel(n_jobs=-1)]: Done 449 tasks      | elapsed:  1.5min\n",
      "[Parallel(n_jobs=-1)]: Done 480 tasks      | elapsed:  1.7min\n",
      "[Parallel(n_jobs=-1)]: Done 513 tasks      | elapsed:  1.8min\n",
      "[Parallel(n_jobs=-1)]: Done 546 tasks      | elapsed:  1.9min\n",
      "[Parallel(n_jobs=-1)]: Done 581 tasks      | elapsed:  2.0min\n",
      "[Parallel(n_jobs=-1)]: Done 616 tasks      | elapsed:  2.2min\n",
      "[Parallel(n_jobs=-1)]: Done 653 tasks      | elapsed:  2.3min\n",
      "[Parallel(n_jobs=-1)]: Done 690 tasks      | elapsed:  2.4min\n",
      "[Parallel(n_jobs=-1)]: Done 729 tasks      | elapsed:  2.6min\n",
      "[Parallel(n_jobs=-1)]: Done 768 tasks      | elapsed:  2.7min\n",
      "[Parallel(n_jobs=-1)]: Done 809 tasks      | elapsed:  2.9min\n",
      "[Parallel(n_jobs=-1)]: Done 850 tasks      | elapsed:  3.0min\n",
      "[Parallel(n_jobs=-1)]: Done 893 tasks      | elapsed:  3.2min\n",
      "[Parallel(n_jobs=-1)]: Done 936 tasks      | elapsed:  3.4min\n",
      "[Parallel(n_jobs=-1)]: Done 1000 out of 1000 | elapsed:  3.6min finished\n"
     ]
    },
    {
     "name": "stdout",
     "output_type": "stream",
     "text": [
      "\n",
      " The best estimator across ALL searched params:\n",
      " LGBMClassifier(learning_rate=0.074, max_depth=9, min_child_samples=3,\n",
      "               min_child_weight=0.009, num_class=4, num_leaves=151,\n",
      "               objective='multiclass', random_state=1, reg_alpha=0.5,\n",
      "               reg_lambda=0.6)\n",
      "\n",
      " The best score across ALL searched params:\n",
      " 0.5637855120299533\n",
      "\n",
      " The best parameters across ALL searched params:\n",
      " {'num_leaves': 151}\n"
     ]
    }
   ],
   "source": [
    "params = {\n",
    "    'num_leaves': np.arange(110, 210, 1)\n",
    "}\n",
    "lgb = LGBMClassifier(objective='multiclass',num_class=4, random_state=1, learning_rate=0.074, n_jobs=-1, \n",
    "                     max_depth=9,  min_child_samples=3, min_child_weight=0.009,\n",
    "                   reg_alpha=0.5, reg_lambda=0.6)\n",
    "grid = GridSearchCV(estimator=lgb, param_grid=params, cv=KFOLDS, n_jobs=-1, scoring=['accuracy', 'roc_auc_ovo'], refit='accuracy', verbose=10)\n",
    "grid.fit(X_train,y_train)\n",
    "\n",
    "print(\"\\n The best estimator across ALL searched params:\\n\", grid.best_estimator_)\n",
    "print(\"\\n The best score across ALL searched params:\\n\", grid.best_score_)\n",
    "print(\"\\n The best parameters across ALL searched params:\\n\", grid.best_params_)"
   ]
  },
  {
   "cell_type": "markdown",
   "metadata": {},
   "source": [
    "### Evaluate with the best parameters"
   ]
  },
  {
   "cell_type": "code",
   "execution_count": 58,
   "metadata": {},
   "outputs": [
    {
     "name": "stdout",
     "output_type": "stream",
     "text": [
      "Train: Acc: 0.97165 +/- 0.00461,  Auc: 0.99854 | Test: Acc: 0.56379 +/- 0.02714,  Auc: 0.80478\n"
     ]
    },
    {
     "data": {
      "text/plain": [
       "(0.9716511954999639,\n",
       " 0.9985403889605514,\n",
       " 0.5637855120299533,\n",
       " 0.8047785769290776)"
      ]
     },
     "execution_count": 58,
     "metadata": {},
     "output_type": "execute_result"
    }
   ],
   "source": [
    "lgb = LGBMClassifier(objective='multiclass',num_class=4, random_state=1, learning_rate=0.074, n_jobs=-1, \n",
    "                     max_depth=9, num_leaves=151,  min_child_samples=3, min_child_weight=0.009,\n",
    "                   reg_alpha=0.5, reg_lambda=0.6)\n",
    "model_eval(lgb)"
   ]
  },
  {
   "cell_type": "markdown",
   "metadata": {},
   "source": [
    "# Random Forest Tuning"
   ]
  },
  {
   "cell_type": "code",
   "execution_count": 49,
   "metadata": {},
   "outputs": [
    {
     "name": "stdout",
     "output_type": "stream",
     "text": [
      "Train: Acc: 1.00000 +/- 0.00000,  Auc: 1.00000 | Test: Acc: 0.56007 +/- 0.04154,  Auc: 0.80941\n"
     ]
    },
    {
     "data": {
      "text/plain": [
       "(1.0, 1.0, 0.5600651178261649, 0.8094091706324203)"
      ]
     },
     "execution_count": 49,
     "metadata": {},
     "output_type": "execute_result"
    }
   ],
   "source": [
    "rf = RandomForestClassifier(n_estimators=887, criterion='gini', max_depth=None,random_state=1,\n",
    "                            min_samples_split=2, min_samples_leaf=1, min_weight_fraction_leaf=0.0,\n",
    "                            max_features='auto', max_leaf_nodes=None, min_impurity_decrease=0.0,\n",
    "                            min_impurity_split=None, bootstrap=True, oob_score=False, n_jobs=-1,\n",
    "                            verbose=0, warm_start=False, class_weight=None)\n",
    "model_eval(rf)"
   ]
  },
  {
   "cell_type": "markdown",
   "metadata": {},
   "source": [
    "### Tuning n_estimators,  max_depth for Random Forest"
   ]
  },
  {
   "cell_type": "code",
   "execution_count": 56,
   "metadata": {},
   "outputs": [
    {
     "name": "stdout",
     "output_type": "stream",
     "text": [
      "Fitting 10 folds for each of 210 candidates, totalling 2100 fits\n"
     ]
    },
    {
     "name": "stderr",
     "output_type": "stream",
     "text": [
      "[Parallel(n_jobs=-1)]: Using backend LokyBackend with 16 concurrent workers.\n",
      "[Parallel(n_jobs=-1)]: Done   9 tasks      | elapsed:    3.3s\n",
      "[Parallel(n_jobs=-1)]: Done  18 tasks      | elapsed:    4.5s\n",
      "[Parallel(n_jobs=-1)]: Done  29 tasks      | elapsed:    5.7s\n",
      "[Parallel(n_jobs=-1)]: Done  40 tasks      | elapsed:    8.0s\n",
      "[Parallel(n_jobs=-1)]: Done  53 tasks      | elapsed:   11.4s\n",
      "[Parallel(n_jobs=-1)]: Done  66 tasks      | elapsed:   15.6s\n",
      "[Parallel(n_jobs=-1)]: Done  81 tasks      | elapsed:   21.6s\n",
      "[Parallel(n_jobs=-1)]: Done  96 tasks      | elapsed:   27.6s\n",
      "[Parallel(n_jobs=-1)]: Done 113 tasks      | elapsed:   34.8s\n",
      "[Parallel(n_jobs=-1)]: Done 130 tasks      | elapsed:   46.3s\n",
      "[Parallel(n_jobs=-1)]: Done 149 tasks      | elapsed:   50.5s\n",
      "[Parallel(n_jobs=-1)]: Done 168 tasks      | elapsed:   52.9s\n",
      "[Parallel(n_jobs=-1)]: Done 189 tasks      | elapsed:   58.9s\n",
      "[Parallel(n_jobs=-1)]: Done 210 tasks      | elapsed:  1.1min\n",
      "[Parallel(n_jobs=-1)]: Done 233 tasks      | elapsed:  1.3min\n",
      "[Parallel(n_jobs=-1)]: Done 256 tasks      | elapsed:  1.5min\n",
      "[Parallel(n_jobs=-1)]: Done 281 tasks      | elapsed:  1.7min\n",
      "[Parallel(n_jobs=-1)]: Done 306 tasks      | elapsed:  1.7min\n",
      "[Parallel(n_jobs=-1)]: Done 333 tasks      | elapsed:  1.9min\n",
      "[Parallel(n_jobs=-1)]: Done 360 tasks      | elapsed:  2.1min\n",
      "[Parallel(n_jobs=-1)]: Done 389 tasks      | elapsed:  2.3min\n",
      "[Parallel(n_jobs=-1)]: Done 418 tasks      | elapsed:  2.6min\n",
      "[Parallel(n_jobs=-1)]: Done 449 tasks      | elapsed:  2.7min\n",
      "[Parallel(n_jobs=-1)]: Done 480 tasks      | elapsed:  2.9min\n",
      "[Parallel(n_jobs=-1)]: Done 513 tasks      | elapsed:  3.1min\n",
      "[Parallel(n_jobs=-1)]: Done 546 tasks      | elapsed:  3.5min\n",
      "[Parallel(n_jobs=-1)]: Done 581 tasks      | elapsed:  3.7min\n",
      "[Parallel(n_jobs=-1)]: Done 616 tasks      | elapsed:  3.8min\n",
      "[Parallel(n_jobs=-1)]: Done 653 tasks      | elapsed:  4.1min\n",
      "[Parallel(n_jobs=-1)]: Done 690 tasks      | elapsed:  4.6min\n",
      "[Parallel(n_jobs=-1)]: Done 729 tasks      | elapsed:  4.8min\n",
      "[Parallel(n_jobs=-1)]: Done 768 tasks      | elapsed:  5.0min\n",
      "[Parallel(n_jobs=-1)]: Done 809 tasks      | elapsed:  5.4min\n",
      "[Parallel(n_jobs=-1)]: Done 850 tasks      | elapsed:  5.8min\n",
      "[Parallel(n_jobs=-1)]: Done 893 tasks      | elapsed:  6.1min\n",
      "[Parallel(n_jobs=-1)]: Done 936 tasks      | elapsed:  6.5min\n",
      "[Parallel(n_jobs=-1)]: Done 981 tasks      | elapsed:  7.0min\n",
      "[Parallel(n_jobs=-1)]: Done 1026 tasks      | elapsed:  7.3min\n",
      "[Parallel(n_jobs=-1)]: Done 1073 tasks      | elapsed:  7.7min\n",
      "[Parallel(n_jobs=-1)]: Done 1120 tasks      | elapsed:  8.4min\n",
      "[Parallel(n_jobs=-1)]: Done 1169 tasks      | elapsed:  8.6min\n",
      "[Parallel(n_jobs=-1)]: Done 1218 tasks      | elapsed:  9.2min\n",
      "[Parallel(n_jobs=-1)]: Done 1269 tasks      | elapsed:  9.8min\n",
      "[Parallel(n_jobs=-1)]: Done 1320 tasks      | elapsed: 10.2min\n",
      "[Parallel(n_jobs=-1)]: Done 1373 tasks      | elapsed: 10.8min\n",
      "[Parallel(n_jobs=-1)]: Done 1426 tasks      | elapsed: 11.4min\n",
      "[Parallel(n_jobs=-1)]: Done 1481 tasks      | elapsed: 11.9min\n",
      "[Parallel(n_jobs=-1)]: Done 1536 tasks      | elapsed: 12.7min\n",
      "[Parallel(n_jobs=-1)]: Done 1593 tasks      | elapsed: 13.1min\n",
      "[Parallel(n_jobs=-1)]: Done 1650 tasks      | elapsed: 13.9min\n",
      "[Parallel(n_jobs=-1)]: Done 1709 tasks      | elapsed: 14.5min\n",
      "[Parallel(n_jobs=-1)]: Done 1768 tasks      | elapsed: 15.2min\n",
      "[Parallel(n_jobs=-1)]: Done 1829 tasks      | elapsed: 16.0min\n",
      "[Parallel(n_jobs=-1)]: Done 1890 tasks      | elapsed: 16.5min\n",
      "[Parallel(n_jobs=-1)]: Done 1953 tasks      | elapsed: 17.5min\n",
      "[Parallel(n_jobs=-1)]: Done 2016 tasks      | elapsed: 18.0min\n",
      "[Parallel(n_jobs=-1)]: Done 2100 out of 2100 | elapsed: 19.5min finished\n"
     ]
    },
    {
     "name": "stdout",
     "output_type": "stream",
     "text": [
      "\n",
      " The best estimator across ALL searched params:\n",
      " RandomForestClassifier(max_depth=19, n_estimators=1300, n_jobs=-1,\n",
      "                       random_state=1)\n",
      "\n",
      " The best score across ALL searched params:\n",
      " 0.5616148112137417\n",
      "\n",
      " The best parameters across ALL searched params:\n",
      " {'max_depth': 19, 'n_estimators': 1300}\n"
     ]
    }
   ],
   "source": [
    "params = {\n",
    "    'n_estimators': np.arange(100, 1500, 100),\n",
    "    'max_depth': range(5, 20)\n",
    "}\n",
    "rf = RandomForestClassifier(n_jobs=-1, min_samples_split=2, min_samples_leaf=1, random_state=1)\n",
    "grid = GridSearchCV(estimator=rf, param_grid=params, cv=KFOLDS, n_jobs=-1, scoring=['accuracy', 'roc_auc_ovo'], refit='accuracy', verbose=10)\n",
    "grid.fit(X_train,y_train)\n",
    "\n",
    "print(\"\\n The best estimator across ALL searched params:\\n\", grid.best_estimator_)\n",
    "print(\"\\n The best score across ALL searched params:\\n\", grid.best_score_)\n",
    "print(\"\\n The best parameters across ALL searched params:\\n\", grid.best_params_)"
   ]
  },
  {
   "cell_type": "markdown",
   "metadata": {},
   "source": [
    "### Tuning min_samples_split,  min_samples_leaf for Random Forest"
   ]
  },
  {
   "cell_type": "code",
   "execution_count": 66,
   "metadata": {},
   "outputs": [
    {
     "name": "stdout",
     "output_type": "stream",
     "text": [
      "Fitting 10 folds for each of 25 candidates, totalling 250 fits\n"
     ]
    },
    {
     "name": "stderr",
     "output_type": "stream",
     "text": [
      "[Parallel(n_jobs=-1)]: Using backend LokyBackend with 16 concurrent workers.\n",
      "[Parallel(n_jobs=-1)]: Done   9 tasks      | elapsed:    2.0s\n",
      "[Parallel(n_jobs=-1)]: Done  18 tasks      | elapsed:   20.2s\n",
      "[Parallel(n_jobs=-1)]: Done  29 tasks      | elapsed:   36.9s\n",
      "[Parallel(n_jobs=-1)]: Done  40 tasks      | elapsed:   41.1s\n",
      "[Parallel(n_jobs=-1)]: Done  53 tasks      | elapsed:   49.9s\n",
      "[Parallel(n_jobs=-1)]: Done  66 tasks      | elapsed:  1.1min\n",
      "[Parallel(n_jobs=-1)]: Done  81 tasks      | elapsed:  1.4min\n",
      "[Parallel(n_jobs=-1)]: Done  96 tasks      | elapsed:  1.5min\n",
      "[Parallel(n_jobs=-1)]: Done 113 tasks      | elapsed:  1.9min\n",
      "[Parallel(n_jobs=-1)]: Done 130 tasks      | elapsed:  2.2min\n",
      "[Parallel(n_jobs=-1)]: Done 149 tasks      | elapsed:  2.3min\n",
      "[Parallel(n_jobs=-1)]: Done 168 tasks      | elapsed:  2.6min\n",
      "[Parallel(n_jobs=-1)]: Done 189 tasks      | elapsed:  3.0min\n",
      "[Parallel(n_jobs=-1)]: Done 210 tasks      | elapsed:  3.1min\n",
      "[Parallel(n_jobs=-1)]: Done 245 out of 250 | elapsed:  3.8min remaining:    4.5s\n",
      "[Parallel(n_jobs=-1)]: Done 250 out of 250 | elapsed:  3.8min finished\n"
     ]
    },
    {
     "name": "stdout",
     "output_type": "stream",
     "text": [
      "\n",
      " The best estimator across ALL searched params:\n",
      " RandomForestClassifier(max_depth=19, n_estimators=1300, n_jobs=-1,\n",
      "                       random_state=1)\n",
      "\n",
      " The best score across ALL searched params:\n",
      " 0.5616148112137417\n",
      "\n",
      " The best parameters across ALL searched params:\n",
      " {'min_samples_leaf': 1, 'min_samples_split': 2}\n"
     ]
    }
   ],
   "source": [
    "params = {\n",
    "    \"min_samples_split\": [1, 2, 3, 4, 5],\n",
    "    \"min_samples_leaf\": [1, 2, 3, 4, 5]\n",
    "}\n",
    "rf = RandomForestClassifier(n_jobs=-1, random_state=1, \n",
    "                            max_depth=19, n_estimators=1300)\n",
    "grid = GridSearchCV(estimator=rf, param_grid=params, cv=KFOLDS, n_jobs=-1, scoring=['accuracy', 'roc_auc_ovo'], refit='accuracy', verbose=10)\n",
    "grid.fit(X_train,y_train)\n",
    "\n",
    "print(\"\\n The best estimator across ALL searched params:\\n\", grid.best_estimator_)\n",
    "print(\"\\n The best score across ALL searched params:\\n\", grid.best_score_)\n",
    "print(\"\\n The best parameters across ALL searched params:\\n\", grid.best_params_)"
   ]
  },
  {
   "cell_type": "markdown",
   "metadata": {},
   "source": [
    "### Tuning bootstrap,  oob_score, max_features,  criterion for Random Forest"
   ]
  },
  {
   "cell_type": "code",
   "execution_count": 11,
   "metadata": {},
   "outputs": [
    {
     "name": "stdout",
     "output_type": "stream",
     "text": [
      "Fitting 10 folds for each of 24 candidates, totalling 240 fits\n"
     ]
    },
    {
     "name": "stderr",
     "output_type": "stream",
     "text": [
      "[Parallel(n_jobs=-1)]: Using backend LokyBackend with 16 concurrent workers.\n",
      "[Parallel(n_jobs=-1)]: Done   9 tasks      | elapsed:   26.8s\n",
      "[Parallel(n_jobs=-1)]: Done  18 tasks      | elapsed:   35.9s\n",
      "[Parallel(n_jobs=-1)]: Done  29 tasks      | elapsed:   50.4s\n",
      "[Parallel(n_jobs=-1)]: Done  40 tasks      | elapsed:  1.8min\n",
      "[Parallel(n_jobs=-1)]: Done  53 tasks      | elapsed:  2.6min\n",
      "[Parallel(n_jobs=-1)]: Done  66 tasks      | elapsed:  3.5min\n",
      "[Parallel(n_jobs=-1)]: Done  81 tasks      | elapsed:  3.9min\n",
      "[Parallel(n_jobs=-1)]: Done  96 tasks      | elapsed:  4.4min\n",
      "[Parallel(n_jobs=-1)]: Done 113 tasks      | elapsed:  6.4min\n",
      "[Parallel(n_jobs=-1)]: Done 130 tasks      | elapsed:  6.5min\n",
      "[Parallel(n_jobs=-1)]: Done 149 tasks      | elapsed:  7.3min\n",
      "[Parallel(n_jobs=-1)]: Done 168 tasks      | elapsed:  7.5min\n",
      "[Parallel(n_jobs=-1)]: Done 189 tasks      | elapsed:  9.3min\n",
      "[Parallel(n_jobs=-1)]: Done 234 out of 240 | elapsed: 11.5min remaining:   17.6s\n",
      "[Parallel(n_jobs=-1)]: Done 240 out of 240 | elapsed: 12.1min finished\n"
     ]
    },
    {
     "name": "stdout",
     "output_type": "stream",
     "text": [
      "\n",
      " The best estimator across ALL searched params:\n",
      " RandomForestClassifier(max_depth=19, max_features='sqrt', n_estimators=1300,\n",
      "                       n_jobs=-1, oob_score=True, random_state=1)\n",
      "\n",
      " The best score across ALL searched params:\n",
      " 0.5616148112137417\n",
      "\n",
      " The best parameters across ALL searched params:\n",
      " {'bootstrap': True, 'criterion': 'gini', 'max_features': 'sqrt', 'oob_score': True}\n"
     ]
    }
   ],
   "source": [
    "params = {\n",
    "    \"bootstrap\": [True, False],\n",
    "    \"oob_score\": [True, False],\n",
    "    \"max_features\": ['sqrt', 'log2', None],\n",
    "    \"criterion\" : [\"gini\", \"entropy\"]\n",
    "}\n",
    "rf = RandomForestClassifier(n_jobs=-1, random_state=1, \n",
    "                            max_depth=19, n_estimators=1300,\n",
    "                           min_samples_leaf=1, min_samples_split=2)\n",
    "grid = GridSearchCV(estimator=rf, param_grid=params, cv=KFOLDS, n_jobs=-1, scoring=['accuracy', 'roc_auc_ovo'], refit='accuracy', verbose=10)\n",
    "grid.fit(X_train,y_train)\n",
    "\n",
    "print(\"\\n The best estimator across ALL searched params:\\n\", grid.best_estimator_)\n",
    "print(\"\\n The best score across ALL searched params:\\n\", grid.best_score_)\n",
    "print(\"\\n The best parameters across ALL searched params:\\n\", grid.best_params_)"
   ]
  },
  {
   "cell_type": "markdown",
   "metadata": {},
   "source": [
    "### Revisit n_estimators for Random Forest with smaller steps"
   ]
  },
  {
   "cell_type": "code",
   "execution_count": 12,
   "metadata": {},
   "outputs": [
    {
     "name": "stdout",
     "output_type": "stream",
     "text": [
      "Fitting 10 folds for each of 11 candidates, totalling 110 fits\n"
     ]
    },
    {
     "name": "stderr",
     "output_type": "stream",
     "text": [
      "[Parallel(n_jobs=-1)]: Using backend LokyBackend with 16 concurrent workers.\n",
      "[Parallel(n_jobs=-1)]: Done   9 tasks      | elapsed:   22.0s\n",
      "[Parallel(n_jobs=-1)]: Done  18 tasks      | elapsed:   39.2s\n",
      "[Parallel(n_jobs=-1)]: Done  29 tasks      | elapsed:   56.3s\n",
      "[Parallel(n_jobs=-1)]: Done  40 tasks      | elapsed:  1.1min\n",
      "[Parallel(n_jobs=-1)]: Done  53 tasks      | elapsed:  1.6min\n",
      "[Parallel(n_jobs=-1)]: Done  66 tasks      | elapsed:  1.8min\n",
      "[Parallel(n_jobs=-1)]: Done  91 out of 110 | elapsed:  2.4min remaining:   30.5s\n",
      "[Parallel(n_jobs=-1)]: Done 103 out of 110 | elapsed:  2.7min remaining:   10.9s\n",
      "[Parallel(n_jobs=-1)]: Done 110 out of 110 | elapsed:  2.7min finished\n"
     ]
    },
    {
     "name": "stdout",
     "output_type": "stream",
     "text": [
      "\n",
      " The best estimator across ALL searched params:\n",
      " RandomForestClassifier(max_depth=19, n_estimators=1300, n_jobs=-1,\n",
      "                       oob_score=True, random_state=1)\n",
      "\n",
      " The best score across ALL searched params:\n",
      " 0.5616148112137417\n",
      "\n",
      " The best parameters across ALL searched params:\n",
      " {'n_estimators': 1300}\n"
     ]
    }
   ],
   "source": [
    "params = {\n",
    "    'n_estimators' : np.arange(1250, 1360, 10)\n",
    "}\n",
    "rf = RandomForestClassifier(n_jobs=-1, random_state=1, \n",
    "                            max_depth=19,\n",
    "                           min_samples_leaf=1, min_samples_split=2, bootstrap=True, oob_score=True)\n",
    "grid = GridSearchCV(estimator=rf, param_grid=params, cv=KFOLDS, n_jobs=-1, scoring=['accuracy', 'roc_auc_ovo'], refit='accuracy', verbose=10)\n",
    "grid.fit(X_train,y_train)\n",
    "\n",
    "print(\"\\n The best estimator across ALL searched params:\\n\", grid.best_estimator_)\n",
    "print(\"\\n The best score across ALL searched params:\\n\", grid.best_score_)\n",
    "print(\"\\n The best parameters across ALL searched params:\\n\", grid.best_params_)"
   ]
  },
  {
   "cell_type": "markdown",
   "metadata": {},
   "source": [
    "### Evaluate the model with the best parameters"
   ]
  },
  {
   "cell_type": "code",
   "execution_count": 14,
   "metadata": {},
   "outputs": [
    {
     "name": "stdout",
     "output_type": "stream",
     "text": [
      "Train: Acc: 0.99207 +/- 0.00093,  Auc: 0.99971 | Test: Acc: 0.56161 +/- 0.03801,  Auc: 0.80943\n"
     ]
    },
    {
     "data": {
      "text/plain": [
       "(0.9920692268511097,\n",
       " 0.9997137057593756,\n",
       " 0.5616148112137417,\n",
       " 0.8094318578626869)"
      ]
     },
     "execution_count": 14,
     "metadata": {},
     "output_type": "execute_result"
    }
   ],
   "source": [
    "rf = RandomForestClassifier(n_jobs=-1, random_state=1, \n",
    "                            max_depth=19,n_estimators=1300,\n",
    "                           min_samples_leaf=1, min_samples_split=2, bootstrap=True, oob_score=True)\n",
    "model_eval(rf)"
   ]
  },
  {
   "cell_type": "markdown",
   "metadata": {},
   "source": [
    "# XGBoost Tuning"
   ]
  },
  {
   "cell_type": "code",
   "execution_count": 19,
   "metadata": {},
   "outputs": [
    {
     "name": "stdout",
     "output_type": "stream",
     "text": [
      "Train: Acc: 0.83229 +/- 0.01174,  Auc: 0.96696 | Test: Acc: 0.55149 +/- 0.03586,  Auc: 0.80271\n"
     ]
    },
    {
     "data": {
      "text/plain": [
       "(0.8322945935782815, 0.9669564742428742, 0.551492336821636, 0.8027099885947953)"
      ]
     },
     "execution_count": 19,
     "metadata": {},
     "output_type": "execute_result"
    }
   ],
   "source": [
    "xgb = XGBClassifier(\n",
    "    learning_rate= 0.17,\n",
    "    random_state=1,\n",
    "    n_jobs=-1,\n",
    "    eval_metric= 'auc'\n",
    ")\n",
    "model_eval(xgb)"
   ]
  },
  {
   "cell_type": "markdown",
   "metadata": {},
   "source": [
    "### Tuning subsample, colsample_bytree, colsample_bylevel for XGBoost"
   ]
  },
  {
   "cell_type": "code",
   "execution_count": 20,
   "metadata": {},
   "outputs": [
    {
     "name": "stdout",
     "output_type": "stream",
     "text": [
      "Fitting 10 folds for each of 64 candidates, totalling 640 fits\n"
     ]
    },
    {
     "name": "stderr",
     "output_type": "stream",
     "text": [
      "[Parallel(n_jobs=-1)]: Using backend LokyBackend with 16 concurrent workers.\n",
      "[Parallel(n_jobs=-1)]: Done   9 tasks      | elapsed:    6.2s\n",
      "[Parallel(n_jobs=-1)]: Done  18 tasks      | elapsed:   12.0s\n",
      "[Parallel(n_jobs=-1)]: Done  29 tasks      | elapsed:   12.3s\n",
      "[Parallel(n_jobs=-1)]: Done  40 tasks      | elapsed:   18.0s\n",
      "[Parallel(n_jobs=-1)]: Done  53 tasks      | elapsed:   24.7s\n",
      "[Parallel(n_jobs=-1)]: Done  66 tasks      | elapsed:   31.1s\n",
      "[Parallel(n_jobs=-1)]: Done  81 tasks      | elapsed:   38.6s\n",
      "[Parallel(n_jobs=-1)]: Done  96 tasks      | elapsed:   40.4s\n",
      "[Parallel(n_jobs=-1)]: Done 113 tasks      | elapsed:   52.8s\n",
      "[Parallel(n_jobs=-1)]: Done 130 tasks      | elapsed:  1.0min\n",
      "[Parallel(n_jobs=-1)]: Done 149 tasks      | elapsed:  1.2min\n",
      "[Parallel(n_jobs=-1)]: Done 168 tasks      | elapsed:  1.3min\n",
      "[Parallel(n_jobs=-1)]: Done 189 tasks      | elapsed:  1.4min\n",
      "[Parallel(n_jobs=-1)]: Done 210 tasks      | elapsed:  1.6min\n",
      "[Parallel(n_jobs=-1)]: Done 233 tasks      | elapsed:  1.8min\n",
      "[Parallel(n_jobs=-1)]: Done 256 tasks      | elapsed:  1.9min\n",
      "[Parallel(n_jobs=-1)]: Done 281 tasks      | elapsed:  2.2min\n",
      "[Parallel(n_jobs=-1)]: Done 306 tasks      | elapsed:  2.5min\n",
      "[Parallel(n_jobs=-1)]: Done 333 tasks      | elapsed:  2.7min\n",
      "[Parallel(n_jobs=-1)]: Done 360 tasks      | elapsed:  2.8min\n",
      "[Parallel(n_jobs=-1)]: Done 389 tasks      | elapsed:  3.1min\n",
      "[Parallel(n_jobs=-1)]: Done 418 tasks      | elapsed:  3.4min\n",
      "[Parallel(n_jobs=-1)]: Done 449 tasks      | elapsed:  3.7min\n",
      "[Parallel(n_jobs=-1)]: Done 480 tasks      | elapsed:  4.0min\n",
      "[Parallel(n_jobs=-1)]: Done 513 tasks      | elapsed:  4.3min\n",
      "[Parallel(n_jobs=-1)]: Done 546 tasks      | elapsed:  4.6min\n",
      "[Parallel(n_jobs=-1)]: Done 581 tasks      | elapsed:  4.9min\n",
      "[Parallel(n_jobs=-1)]: Done 640 out of 640 | elapsed:  5.6min finished\n"
     ]
    },
    {
     "name": "stdout",
     "output_type": "stream",
     "text": [
      "\n",
      " The best estimator across ALL searched params:\n",
      " XGBClassifier(base_score=0.5, booster='gbtree', colsample_bylevel=0.6,\n",
      "              colsample_bynode=1, colsample_bytree=0.7, eval_metric='auc',\n",
      "              gamma=0, gpu_id=-1, importance_type='gain',\n",
      "              interaction_constraints='', learning_rate=0.17, max_delta_step=0,\n",
      "              max_depth=6, min_child_weight=1, missing=nan,\n",
      "              monotone_constraints='()', n_estimators=100, n_jobs=-1,\n",
      "              num_parallel_tree=1, objective='multi:softprob', random_state=1,\n",
      "              reg_alpha=0, reg_lambda=1, scale_pos_weight=None,\n",
      "              subsample=0.8999999999999999, tree_method='exact',\n",
      "              validate_parameters=1, verbosity=None)\n",
      "\n",
      " The best score across ALL searched params:\n",
      " 0.5619256880655698\n",
      "\n",
      " The best parameters across ALL searched params:\n",
      " {'colsample_bylevel': 0.6, 'colsample_bytree': 0.7, 'subsample': 0.8999999999999999}\n"
     ]
    }
   ],
   "source": [
    "params = {\n",
    "    'subsample': np.arange(0.6, 1.0, 0.1),\n",
    "    'colsample_bytree': np.arange(0.6, 1.0, 0.1),\n",
    "    'colsample_bylevel': np.arange(0.6, 1.0, 0.1),\n",
    "}\n",
    "xgb = XGBClassifier(\n",
    "    learning_rate= 0.17,\n",
    "    random_state=1,\n",
    "    n_jobs=-1,\n",
    "    eval_metric= 'auc'\n",
    ")\n",
    "\n",
    "grid = GridSearchCV(estimator=xgb, param_grid=params, cv=KFOLDS, n_jobs=-1, scoring=['accuracy', 'roc_auc_ovo'], refit='accuracy', verbose=10)\n",
    "grid.fit(X_train,y_train)\n",
    "\n",
    "print(\"\\n The best estimator across ALL searched params:\\n\", grid.best_estimator_)\n",
    "print(\"\\n The best score across ALL searched params:\\n\", grid.best_score_)\n",
    "print(\"\\n The best parameters across ALL searched params:\\n\", grid.best_params_)"
   ]
  },
  {
   "cell_type": "markdown",
   "metadata": {},
   "source": [
    "### Tuning min_child_weight for XGBoost"
   ]
  },
  {
   "cell_type": "code",
   "execution_count": 22,
   "metadata": {},
   "outputs": [
    {
     "name": "stdout",
     "output_type": "stream",
     "text": [
      "Fitting 10 folds for each of 100 candidates, totalling 1000 fits\n"
     ]
    },
    {
     "name": "stderr",
     "output_type": "stream",
     "text": [
      "[Parallel(n_jobs=-1)]: Using backend LokyBackend with 16 concurrent workers.\n",
      "[Parallel(n_jobs=-1)]: Done   9 tasks      | elapsed:    9.7s\n",
      "[Parallel(n_jobs=-1)]: Done  18 tasks      | elapsed:   14.6s\n",
      "[Parallel(n_jobs=-1)]: Done  29 tasks      | elapsed:   16.3s\n",
      "[Parallel(n_jobs=-1)]: Done  40 tasks      | elapsed:   22.8s\n",
      "[Parallel(n_jobs=-1)]: Done  53 tasks      | elapsed:   28.9s\n",
      "[Parallel(n_jobs=-1)]: Done  66 tasks      | elapsed:   34.3s\n",
      "[Parallel(n_jobs=-1)]: Done  81 tasks      | elapsed:   40.8s\n",
      "[Parallel(n_jobs=-1)]: Done  96 tasks      | elapsed:   43.5s\n",
      "[Parallel(n_jobs=-1)]: Done 113 tasks      | elapsed:   53.7s\n",
      "[Parallel(n_jobs=-1)]: Done 130 tasks      | elapsed:  1.0min\n",
      "[Parallel(n_jobs=-1)]: Done 149 tasks      | elapsed:  1.1min\n",
      "[Parallel(n_jobs=-1)]: Done 168 tasks      | elapsed:  1.2min\n",
      "[Parallel(n_jobs=-1)]: Done 189 tasks      | elapsed:  1.4min\n",
      "[Parallel(n_jobs=-1)]: Done 210 tasks      | elapsed:  1.5min\n",
      "[Parallel(n_jobs=-1)]: Done 233 tasks      | elapsed:  1.7min\n",
      "[Parallel(n_jobs=-1)]: Done 256 tasks      | elapsed:  1.8min\n",
      "[Parallel(n_jobs=-1)]: Done 281 tasks      | elapsed:  2.0min\n",
      "[Parallel(n_jobs=-1)]: Done 306 tasks      | elapsed:  2.2min\n",
      "[Parallel(n_jobs=-1)]: Done 333 tasks      | elapsed:  2.3min\n",
      "[Parallel(n_jobs=-1)]: Done 360 tasks      | elapsed:  2.5min\n",
      "[Parallel(n_jobs=-1)]: Done 389 tasks      | elapsed:  2.7min\n",
      "[Parallel(n_jobs=-1)]: Done 418 tasks      | elapsed:  2.9min\n",
      "[Parallel(n_jobs=-1)]: Done 449 tasks      | elapsed:  3.1min\n",
      "[Parallel(n_jobs=-1)]: Done 480 tasks      | elapsed:  3.3min\n",
      "[Parallel(n_jobs=-1)]: Done 513 tasks      | elapsed:  3.5min\n",
      "[Parallel(n_jobs=-1)]: Done 546 tasks      | elapsed:  3.8min\n",
      "[Parallel(n_jobs=-1)]: Done 581 tasks      | elapsed:  4.0min\n",
      "[Parallel(n_jobs=-1)]: Done 616 tasks      | elapsed:  4.2min\n",
      "[Parallel(n_jobs=-1)]: Done 653 tasks      | elapsed:  4.5min\n",
      "[Parallel(n_jobs=-1)]: Done 690 tasks      | elapsed:  4.7min\n",
      "[Parallel(n_jobs=-1)]: Done 729 tasks      | elapsed:  5.0min\n",
      "[Parallel(n_jobs=-1)]: Done 768 tasks      | elapsed:  5.2min\n",
      "[Parallel(n_jobs=-1)]: Done 809 tasks      | elapsed:  5.5min\n",
      "[Parallel(n_jobs=-1)]: Done 850 tasks      | elapsed:  5.8min\n",
      "[Parallel(n_jobs=-1)]: Done 893 tasks      | elapsed:  6.1min\n",
      "[Parallel(n_jobs=-1)]: Done 936 tasks      | elapsed:  6.3min\n",
      "[Parallel(n_jobs=-1)]: Done 1000 out of 1000 | elapsed:  6.7min finished\n"
     ]
    },
    {
     "name": "stdout",
     "output_type": "stream",
     "text": [
      "\n",
      " The best estimator across ALL searched params:\n",
      " XGBClassifier(base_score=0.5, booster='gbtree', colsample_bylevel=0.6,\n",
      "              colsample_bynode=1, colsample_bytree=0.7, eval_metric='auc',\n",
      "              gamma=0, gpu_id=-1, importance_type='gain',\n",
      "              interaction_constraints='', learning_rate=0.17, max_delta_step=0,\n",
      "              max_depth=6, min_child_weight=0.4, missing=nan,\n",
      "              monotone_constraints='()', n_estimators=100, n_jobs=-1,\n",
      "              num_parallel_tree=1, objective='multi:softprob', random_state=1,\n",
      "              reg_alpha=0, reg_lambda=1, scale_pos_weight=None,\n",
      "              subsample=0.8999, tree_method='exact', validate_parameters=1,\n",
      "              verbosity=None)\n",
      "\n",
      " The best score across ALL searched params:\n",
      " 0.5601679971684195\n",
      "\n",
      " The best parameters across ALL searched params:\n",
      " {'min_child_weight': 0.4}\n"
     ]
    }
   ],
   "source": [
    "params = {\n",
    "    'min_child_weight': np.arange(0.1, 10.1, 0.1)\n",
    "}\n",
    "xgb = XGBClassifier(\n",
    "    learning_rate= 0.17,\n",
    "    colsample_bylevel=0.6,\n",
    "    colsample_bytree=0.7,\n",
    "    subsample=0.8999,\n",
    "    random_state=1,\n",
    "    n_jobs=-1,\n",
    "    eval_metric= 'auc'\n",
    ")\n",
    "\n",
    "grid = GridSearchCV(estimator=xgb, param_grid=params, cv=KFOLDS, n_jobs=-1, scoring=['accuracy', 'roc_auc_ovo'], refit='accuracy', verbose=10)\n",
    "grid.fit(X_train,y_train)\n",
    "\n",
    "print(\"\\n The best estimator across ALL searched params:\\n\", grid.best_estimator_)\n",
    "print(\"\\n The best score across ALL searched params:\\n\", grid.best_score_)\n",
    "print(\"\\n The best parameters across ALL searched params:\\n\", grid.best_params_)"
   ]
  },
  {
   "cell_type": "markdown",
   "metadata": {},
   "source": [
    "### Tuning n_estimators, max_depth for XGBoost"
   ]
  },
  {
   "cell_type": "code",
   "execution_count": 15,
   "metadata": {},
   "outputs": [
    {
     "name": "stdout",
     "output_type": "stream",
     "text": [
      "Fitting 10 folds for each of 150 candidates, totalling 1500 fits\n"
     ]
    },
    {
     "name": "stderr",
     "output_type": "stream",
     "text": [
      "[Parallel(n_jobs=-1)]: Using backend LokyBackend with 16 concurrent workers.\n",
      "[Parallel(n_jobs=-1)]: Done   9 tasks      | elapsed:    4.4s\n",
      "[Parallel(n_jobs=-1)]: Done  18 tasks      | elapsed:   10.9s\n",
      "[Parallel(n_jobs=-1)]: Done  29 tasks      | elapsed:   18.4s\n",
      "[Parallel(n_jobs=-1)]: Done  40 tasks      | elapsed:   31.3s\n",
      "[Parallel(n_jobs=-1)]: Done  53 tasks      | elapsed:   51.5s\n",
      "[Parallel(n_jobs=-1)]: Done  66 tasks      | elapsed:  1.2min\n",
      "[Parallel(n_jobs=-1)]: Done  81 tasks      | elapsed:  1.7min\n",
      "[Parallel(n_jobs=-1)]: Done  96 tasks      | elapsed:  2.3min\n",
      "[Parallel(n_jobs=-1)]: Done 113 tasks      | elapsed:  3.1min\n",
      "[Parallel(n_jobs=-1)]: Done 130 tasks      | elapsed:  4.0min\n",
      "[Parallel(n_jobs=-1)]: Done 149 tasks      | elapsed:  4.5min\n",
      "[Parallel(n_jobs=-1)]: Done 168 tasks      | elapsed:  4.9min\n",
      "[Parallel(n_jobs=-1)]: Done 189 tasks      | elapsed:  5.3min\n",
      "[Parallel(n_jobs=-1)]: Done 210 tasks      | elapsed:  5.9min\n",
      "[Parallel(n_jobs=-1)]: Done 233 tasks      | elapsed:  6.8min\n",
      "[Parallel(n_jobs=-1)]: Done 256 tasks      | elapsed:  8.0min\n",
      "[Parallel(n_jobs=-1)]: Done 281 tasks      | elapsed:  9.6min\n",
      "[Parallel(n_jobs=-1)]: Done 306 tasks      | elapsed: 10.4min\n",
      "[Parallel(n_jobs=-1)]: Done 333 tasks      | elapsed: 11.0min\n",
      "[Parallel(n_jobs=-1)]: Done 360 tasks      | elapsed: 11.8min\n",
      "[Parallel(n_jobs=-1)]: Done 389 tasks      | elapsed: 13.3min\n",
      "[Parallel(n_jobs=-1)]: Done 418 tasks      | elapsed: 15.3min\n",
      "[Parallel(n_jobs=-1)]: Done 449 tasks      | elapsed: 17.0min\n",
      "[Parallel(n_jobs=-1)]: Done 480 tasks      | elapsed: 17.9min\n",
      "[Parallel(n_jobs=-1)]: Done 513 tasks      | elapsed: 19.2min\n",
      "[Parallel(n_jobs=-1)]: Done 546 tasks      | elapsed: 21.2min\n",
      "[Parallel(n_jobs=-1)]: Done 581 tasks      | elapsed: 24.2min\n",
      "[Parallel(n_jobs=-1)]: Done 616 tasks      | elapsed: 25.6min\n",
      "[Parallel(n_jobs=-1)]: Done 653 tasks      | elapsed: 27.0min\n",
      "[Parallel(n_jobs=-1)]: Done 690 tasks      | elapsed: 29.3min\n",
      "[Parallel(n_jobs=-1)]: Done 729 tasks      | elapsed: 33.1min\n",
      "[Parallel(n_jobs=-1)]: Done 768 tasks      | elapsed: 35.0min\n",
      "[Parallel(n_jobs=-1)]: Done 809 tasks      | elapsed: 36.9min\n",
      "[Parallel(n_jobs=-1)]: Done 850 tasks      | elapsed: 40.2min\n",
      "[Parallel(n_jobs=-1)]: Done 893 tasks      | elapsed: 44.7min\n",
      "[Parallel(n_jobs=-1)]: Done 936 tasks      | elapsed: 46.4min\n",
      "[Parallel(n_jobs=-1)]: Done 981 tasks      | elapsed: 49.7min\n",
      "[Parallel(n_jobs=-1)]: Done 1026 tasks      | elapsed: 54.6min\n",
      "[Parallel(n_jobs=-1)]: Done 1073 tasks      | elapsed: 57.8min\n",
      "[Parallel(n_jobs=-1)]: Done 1120 tasks      | elapsed: 61.0min\n",
      "[Parallel(n_jobs=-1)]: Done 1169 tasks      | elapsed: 66.6min\n",
      "[Parallel(n_jobs=-1)]: Done 1218 tasks      | elapsed: 70.7min\n",
      "[Parallel(n_jobs=-1)]: Done 1269 tasks      | elapsed: 74.1min\n",
      "[Parallel(n_jobs=-1)]: Done 1320 tasks      | elapsed: 80.2min\n",
      "[Parallel(n_jobs=-1)]: Done 1373 tasks      | elapsed: 84.8min\n",
      "[Parallel(n_jobs=-1)]: Done 1426 tasks      | elapsed: 89.0min\n",
      "[Parallel(n_jobs=-1)]: Done 1500 out of 1500 | elapsed: 98.9min finished\n"
     ]
    },
    {
     "name": "stdout",
     "output_type": "stream",
     "text": [
      "\n",
      " The best estimator across ALL searched params:\n",
      " XGBClassifier(base_score=0.5, booster='gbtree', colsample_bylevel=0.6,\n",
      "              colsample_bynode=1, colsample_bytree=0.7, eval_metric='auc',\n",
      "              gamma=0, gpu_id=-1, importance_type='gain',\n",
      "              interaction_constraints='', learning_rate=0.17, max_delta_step=0,\n",
      "              max_depth=12, min_child_weight=0.4, missing=nan,\n",
      "              monotone_constraints='()', n_estimators=200, n_jobs=-1,\n",
      "              num_parallel_tree=1, objective='multi:softprob', random_state=1,\n",
      "              reg_alpha=0, reg_lambda=1, scale_pos_weight=None,\n",
      "              subsample=0.8999, tree_method='exact', validate_parameters=1,\n",
      "              verbosity=None)\n",
      "\n",
      " The best score across ALL searched params:\n",
      " 0.5625421112333581\n",
      "\n",
      " The best parameters across ALL searched params:\n",
      " {'max_depth': 12, 'n_estimators': 200}\n"
     ]
    }
   ],
   "source": [
    "params = {\n",
    "    'n_estimators': np.arange(100, 1600, 100),\n",
    "    'max_depth': range(3, 13)\n",
    "}\n",
    "xgb = XGBClassifier(\n",
    "    learning_rate= 0.17,\n",
    "    colsample_bylevel=0.6,\n",
    "    colsample_bytree=0.7,\n",
    "    subsample=0.8999,\n",
    "    random_state=1,\n",
    "    n_jobs=-1,\n",
    "    min_child_weight=0.4,\n",
    "    eval_metric= 'auc'\n",
    ")\n",
    "\n",
    "grid = GridSearchCV(estimator=xgb, param_grid=params, cv=KFOLDS, n_jobs=-1, scoring=['accuracy', 'roc_auc_ovo'], refit='accuracy', verbose=10)\n",
    "grid.fit(X_train,y_train)\n",
    "\n",
    "print(\"\\n The best estimator across ALL searched params:\\n\", grid.best_estimator_)\n",
    "print(\"\\n The best score across ALL searched params:\\n\", grid.best_score_)\n",
    "print(\"\\n The best parameters across ALL searched params:\\n\", grid.best_params_)"
   ]
  },
  {
   "cell_type": "markdown",
   "metadata": {},
   "source": [
    "### Revisit n_estimators for XGBoost with a smaller step"
   ]
  },
  {
   "cell_type": "code",
   "execution_count": 11,
   "metadata": {},
   "outputs": [
    {
     "name": "stdout",
     "output_type": "stream",
     "text": [
      "Fitting 10 folds for each of 25 candidates, totalling 250 fits\n"
     ]
    },
    {
     "name": "stderr",
     "output_type": "stream",
     "text": [
      "[Parallel(n_jobs=-1)]: Using backend LokyBackend with 16 concurrent workers.\n",
      "[Parallel(n_jobs=-1)]: Done   9 tasks      | elapsed:    4.2s\n",
      "[Parallel(n_jobs=-1)]: Done  18 tasks      | elapsed:   10.3s\n",
      "[Parallel(n_jobs=-1)]: Done  29 tasks      | elapsed:   21.5s\n",
      "[Parallel(n_jobs=-1)]: Done  40 tasks      | elapsed:   32.5s\n",
      "[Parallel(n_jobs=-1)]: Done  53 tasks      | elapsed:   41.3s\n",
      "[Parallel(n_jobs=-1)]: Done  66 tasks      | elapsed:   48.7s\n",
      "[Parallel(n_jobs=-1)]: Done  81 tasks      | elapsed:  1.1min\n",
      "[Parallel(n_jobs=-1)]: Done  96 tasks      | elapsed:  1.3min\n",
      "[Parallel(n_jobs=-1)]: Done 113 tasks      | elapsed:  1.5min\n",
      "[Parallel(n_jobs=-1)]: Done 130 tasks      | elapsed:  1.8min\n",
      "[Parallel(n_jobs=-1)]: Done 149 tasks      | elapsed:  2.0min\n",
      "[Parallel(n_jobs=-1)]: Done 168 tasks      | elapsed:  2.3min\n",
      "[Parallel(n_jobs=-1)]: Done 189 tasks      | elapsed:  2.8min\n",
      "[Parallel(n_jobs=-1)]: Done 210 tasks      | elapsed:  3.0min\n",
      "[Parallel(n_jobs=-1)]: Done 245 out of 250 | elapsed:  3.9min remaining:    4.7s\n",
      "[Parallel(n_jobs=-1)]: Done 250 out of 250 | elapsed:  4.0min finished\n"
     ]
    },
    {
     "name": "stdout",
     "output_type": "stream",
     "text": [
      "\n",
      " The best estimator across ALL searched params:\n",
      " XGBClassifier(base_score=0.5, booster='gbtree', colsample_bylevel=0.6,\n",
      "              colsample_bynode=1, colsample_bytree=0.7, eval_metric='auc',\n",
      "              gamma=0, gpu_id=-1, importance_type='gain',\n",
      "              interaction_constraints='', learning_rate=0.17, max_delta_step=0,\n",
      "              max_depth=12, min_child_weight=0.4, missing=nan,\n",
      "              monotone_constraints='()', n_estimators=210, n_jobs=-1,\n",
      "              num_parallel_tree=1, objective='multi:softprob', random_state=1,\n",
      "              reg_alpha=0, reg_lambda=1, scale_pos_weight=None,\n",
      "              subsample=0.8999, tree_method='exact', validate_parameters=1,\n",
      "              verbosity=None)\n",
      "\n",
      " The best score across ALL searched params:\n",
      " 0.5628522418101646\n",
      "\n",
      " The best parameters across ALL searched params:\n",
      " {'max_depth': 12, 'n_estimators': 210}\n"
     ]
    }
   ],
   "source": [
    "params = {\n",
    "    'n_estimators': np.arange(10, 260, 50),\n",
    "    'max_depth': range(10, 15)\n",
    "}\n",
    "xgb = XGBClassifier(\n",
    "    learning_rate= 0.17,\n",
    "    colsample_bylevel=0.6,\n",
    "    colsample_bytree=0.7,\n",
    "    subsample=0.8999,\n",
    "    random_state=1,\n",
    "    n_jobs=-1,\n",
    "    min_child_weight=0.4,\n",
    "    eval_metric= 'auc'\n",
    ")\n",
    "\n",
    "grid = GridSearchCV(estimator=xgb, param_grid=params, cv=KFOLDS, n_jobs=-1, scoring=['accuracy', 'roc_auc_ovo'], refit='accuracy', verbose=10)\n",
    "grid.fit(X_train,y_train)\n",
    "\n",
    "print(\"\\n The best estimator across ALL searched params:\\n\", grid.best_estimator_)\n",
    "print(\"\\n The best score across ALL searched params:\\n\", grid.best_score_)\n",
    "print(\"\\n The best parameters across ALL searched params:\\n\", grid.best_params_)"
   ]
  },
  {
   "cell_type": "markdown",
   "metadata": {},
   "source": [
    "### Tuning learning_rate for XGBoost"
   ]
  },
  {
   "cell_type": "code",
   "execution_count": 11,
   "metadata": {},
   "outputs": [
    {
     "name": "stdout",
     "output_type": "stream",
     "text": [
      "Fitting 10 folds for each of 29 candidates, totalling 290 fits\n"
     ]
    },
    {
     "name": "stderr",
     "output_type": "stream",
     "text": [
      "[Parallel(n_jobs=-1)]: Using backend LokyBackend with 16 concurrent workers.\n",
      "[Parallel(n_jobs=-1)]: Done   9 tasks      | elapsed:   33.7s\n",
      "[Parallel(n_jobs=-1)]: Done  18 tasks      | elapsed:   58.1s\n",
      "[Parallel(n_jobs=-1)]: Done  29 tasks      | elapsed:  1.1min\n",
      "[Parallel(n_jobs=-1)]: Done  40 tasks      | elapsed:  1.5min\n",
      "[Parallel(n_jobs=-1)]: Done  53 tasks      | elapsed:  2.0min\n",
      "[Parallel(n_jobs=-1)]: Done  66 tasks      | elapsed:  2.4min\n",
      "[Parallel(n_jobs=-1)]: Done  81 tasks      | elapsed:  2.8min\n",
      "[Parallel(n_jobs=-1)]: Done  96 tasks      | elapsed:  3.3min\n",
      "[Parallel(n_jobs=-1)]: Done 113 tasks      | elapsed:  3.8min\n",
      "[Parallel(n_jobs=-1)]: Done 130 tasks      | elapsed:  4.2min\n",
      "[Parallel(n_jobs=-1)]: Done 149 tasks      | elapsed:  4.8min\n",
      "[Parallel(n_jobs=-1)]: Done 168 tasks      | elapsed:  5.3min\n",
      "[Parallel(n_jobs=-1)]: Done 189 tasks      | elapsed:  6.0min\n",
      "[Parallel(n_jobs=-1)]: Done 210 tasks      | elapsed:  6.5min\n",
      "[Parallel(n_jobs=-1)]: Done 233 tasks      | elapsed:  7.1min\n",
      "[Parallel(n_jobs=-1)]: Done 256 tasks      | elapsed:  7.9min\n",
      "[Parallel(n_jobs=-1)]: Done 290 out of 290 | elapsed:  8.7min finished\n"
     ]
    },
    {
     "name": "stdout",
     "output_type": "stream",
     "text": [
      "\n",
      " The best estimator across ALL searched params:\n",
      " XGBClassifier(base_score=0.5, booster='gbtree', colsample_bylevel=0.6,\n",
      "              colsample_bynode=1, colsample_bytree=0.7, eval_metric='auc',\n",
      "              gamma=0, gpu_id=-1, importance_type='gain',\n",
      "              interaction_constraints='', learning_rate=0.05, max_delta_step=0,\n",
      "              max_depth=12, min_child_weight=0.4, missing=nan,\n",
      "              monotone_constraints='()', n_estimators=210, n_jobs=-1,\n",
      "              num_parallel_tree=1, objective='multi:softprob', random_state=1,\n",
      "              reg_alpha=0, reg_lambda=1, scale_pos_weight=None,\n",
      "              subsample=0.8999, tree_method='exact', validate_parameters=1,\n",
      "              verbosity=None)\n",
      "\n",
      " The best score across ALL searched params:\n",
      " 0.5663660244437054\n",
      "\n",
      " The best parameters across ALL searched params:\n",
      " {'learning_rate': 0.05}\n"
     ]
    }
   ],
   "source": [
    "params = {\n",
    "    'learning_rate': np.arange(0.01, 0.3, 0.01)\n",
    "}\n",
    "xgb = XGBClassifier(\n",
    "    colsample_bylevel=0.6,\n",
    "    colsample_bytree=0.7,\n",
    "    subsample=0.8999,\n",
    "    random_state=1,\n",
    "    n_jobs=-1,\n",
    "    min_child_weight=0.4,\n",
    "    max_depth=12,\n",
    "    n_estimators=210,\n",
    "    eval_metric= 'auc'\n",
    ")\n",
    "\n",
    "grid = GridSearchCV(estimator=xgb, param_grid=params, cv=KFOLDS, n_jobs=-1, scoring=['accuracy', 'roc_auc_ovo'], refit='accuracy', verbose=10)\n",
    "grid.fit(X_train,y_train)\n",
    "\n",
    "print(\"\\n The best estimator across ALL searched params:\\n\", grid.best_estimator_)\n",
    "print(\"\\n The best score across ALL searched params:\\n\", grid.best_score_)\n",
    "print(\"\\n The best parameters across ALL searched params:\\n\", grid.best_params_)"
   ]
  },
  {
   "cell_type": "code",
   "execution_count": 13,
   "metadata": {},
   "outputs": [
    {
     "name": "stdout",
     "output_type": "stream",
     "text": [
      "Train: Acc: 0.99984 +/- 0.00021,  Auc: 1.00000 | Test: Acc: 0.56637 +/- 0.03694,  Auc: 0.81222\n"
     ]
    },
    {
     "data": {
      "text/plain": [
       "(0.9998393192381018,\n",
       " 0.9999999826794903,\n",
       " 0.5663660244437054,\n",
       " 0.8122189684499043)"
      ]
     },
     "execution_count": 13,
     "metadata": {},
     "output_type": "execute_result"
    }
   ],
   "source": [
    "xgb = XGBClassifier(\n",
    "    colsample_bylevel=0.6,\n",
    "    colsample_bytree=0.7,\n",
    "    subsample=0.8999,\n",
    "    random_state=1,\n",
    "    n_jobs=-1,\n",
    "    min_child_weight=0.4,\n",
    "    max_depth=12,\n",
    "    n_estimators=210,\n",
    "    learning_rate=0.05,\n",
    "    eval_metric= 'auc'\n",
    ")\n",
    "model_eval(xgb)"
   ]
  },
  {
   "cell_type": "markdown",
   "metadata": {},
   "source": [
    "# CatBoost Tuning (Discarded)"
   ]
  },
  {
   "cell_type": "code",
   "execution_count": 14,
   "metadata": {},
   "outputs": [
    {
     "name": "stdout",
     "output_type": "stream",
     "text": [
      "Train: Acc: 0.84383 +/- 0.00451,  Auc: 0.96866 | Test: Acc: 0.55263 +/- 0.02428,  Auc: 0.80421\n"
     ]
    },
    {
     "data": {
      "text/plain": [
       "(0.843829228503644, 0.968662227634279, 0.552627634350826, 0.8042147544068671)"
      ]
     },
     "execution_count": 14,
     "metadata": {},
     "output_type": "execute_result"
    }
   ],
   "source": [
    "cat = CatBoostClassifier(verbose=False, random_state=1, thread_count=-1, eval_metric='AUC')\n",
    "model_eval(cat)"
   ]
  },
  {
   "cell_type": "code",
   "execution_count": 12,
   "metadata": {
    "scrolled": true
   },
   "outputs": [
    {
     "name": "stdout",
     "output_type": "stream",
     "text": [
      "Fitting 10 folds for each of 6 candidates, totalling 60 fits\n"
     ]
    },
    {
     "name": "stderr",
     "output_type": "stream",
     "text": [
      "[Parallel(n_jobs=-1)]: Using backend LokyBackend with 16 concurrent workers.\n",
      "[Parallel(n_jobs=-1)]: Done   9 tasks      | elapsed:  2.1min\n",
      "[Parallel(n_jobs=-1)]: Done  18 tasks      | elapsed:  3.8min\n",
      "[Parallel(n_jobs=-1)]: Done  29 tasks      | elapsed:  4.3min\n",
      "[Parallel(n_jobs=-1)]: Done  36 out of  60 | elapsed:  5.0min remaining:  3.3min\n",
      "[Parallel(n_jobs=-1)]: Done  43 out of  60 | elapsed:  5.2min remaining:  2.0min\n",
      "[Parallel(n_jobs=-1)]: Done  50 out of  60 | elapsed:  5.4min remaining:  1.1min\n",
      "[Parallel(n_jobs=-1)]: Done  57 out of  60 | elapsed:  5.7min remaining:   18.0s\n",
      "[Parallel(n_jobs=-1)]: Done  60 out of  60 | elapsed:  5.8min finished\n"
     ]
    },
    {
     "name": "stdout",
     "output_type": "stream",
     "text": [
      "\n",
      " The best estimator across ALL searched params:\n",
      " <catboost.core.CatBoostClassifier object at 0x0000027C393ADE80>\n",
      "\n",
      " The best score across ALL searched params:\n",
      " 0.5547976955027336\n",
      "\n",
      " The best parameters across ALL searched params:\n",
      " {'rsm': 0.7999999999999999}\n"
     ]
    }
   ],
   "source": [
    "params = {\n",
    "    'rsm': np.arange(0.6, 1.1, 0.1)\n",
    "}\n",
    "cat = CatBoostClassifier(\n",
    "    verbose=False, \n",
    "    random_state=1, \n",
    "    thread_count=-1\n",
    ")\n",
    "\n",
    "\n",
    "grid = GridSearchCV(estimator=cat, param_grid=params, cv=KFOLDS, n_jobs=-1, scoring=['accuracy', 'roc_auc_ovo'], refit='accuracy', verbose=10)\n",
    "grid.fit(X_train,y_train)\n",
    "\n",
    "print(\"\\n The best estimator across ALL searched params:\\n\", grid.best_estimator_)\n",
    "print(\"\\n The best score across ALL searched params:\\n\", grid.best_score_)\n",
    "print(\"\\n The best parameters across ALL searched params:\\n\", grid.best_params_)"
   ]
  },
  {
   "cell_type": "code",
   "execution_count": 11,
   "metadata": {},
   "outputs": [
    {
     "name": "stdout",
     "output_type": "stream",
     "text": [
      "Fitting 10 folds for each of 70 candidates, totalling 700 fits\n"
     ]
    },
    {
     "name": "stderr",
     "output_type": "stream",
     "text": [
      "[Parallel(n_jobs=-1)]: Using backend LokyBackend with 16 concurrent workers.\n",
      "[Parallel(n_jobs=-1)]: Done   9 tasks      | elapsed:   56.0s\n",
      "[Parallel(n_jobs=-1)]: Done  18 tasks      | elapsed:  1.9min\n",
      "[Parallel(n_jobs=-1)]: Done  29 tasks      | elapsed:  2.1min\n",
      "[Parallel(n_jobs=-1)]: Done  40 tasks      | elapsed:  3.1min\n",
      "[Parallel(n_jobs=-1)]: Done  53 tasks      | elapsed:  4.4min\n",
      "[Parallel(n_jobs=-1)]: Done  66 tasks      | elapsed:  5.6min\n",
      "[Parallel(n_jobs=-1)]: Done  81 tasks      | elapsed:  6.7min\n",
      "[Parallel(n_jobs=-1)]: Done  96 tasks      | elapsed:  7.3min\n",
      "[Parallel(n_jobs=-1)]: Done 113 tasks      | elapsed:  9.4min\n",
      "[Parallel(n_jobs=-1)]: Done 130 tasks      | elapsed: 11.1min\n",
      "[Parallel(n_jobs=-1)]: Done 149 tasks      | elapsed: 12.5min\n",
      "[Parallel(n_jobs=-1)]: Done 168 tasks      | elapsed: 14.2min\n",
      "[Parallel(n_jobs=-1)]: Done 189 tasks      | elapsed: 16.3min\n",
      "[Parallel(n_jobs=-1)]: Done 210 tasks      | elapsed: 18.7min\n",
      "[Parallel(n_jobs=-1)]: Done 233 tasks      | elapsed: 21.1min\n",
      "[Parallel(n_jobs=-1)]: Done 256 tasks      | elapsed: 24.3min\n",
      "[Parallel(n_jobs=-1)]: Done 281 tasks      | elapsed: 27.8min\n",
      "[Parallel(n_jobs=-1)]: Done 306 tasks      | elapsed: 31.3min\n",
      "[Parallel(n_jobs=-1)]: Done 333 tasks      | elapsed: 36.1min\n",
      "[Parallel(n_jobs=-1)]: Done 360 tasks      | elapsed: 40.3min\n",
      "[Parallel(n_jobs=-1)]: Done 389 tasks      | elapsed: 44.6min\n",
      "[Parallel(n_jobs=-1)]: Done 418 tasks      | elapsed: 50.4min\n",
      "[Parallel(n_jobs=-1)]: Done 449 tasks      | elapsed: 58.3min\n",
      "[Parallel(n_jobs=-1)]: Done 480 tasks      | elapsed: 69.1min\n",
      "[Parallel(n_jobs=-1)]: Done 513 tasks      | elapsed: 83.9min\n",
      "[Parallel(n_jobs=-1)]: Done 546 tasks      | elapsed: 103.4min\n",
      "[Parallel(n_jobs=-1)]: Done 581 tasks      | elapsed: 134.1min\n",
      "[Parallel(n_jobs=-1)]: Done 616 tasks      | elapsed: 175.3min\n",
      "[Parallel(n_jobs=-1)]: Done 653 tasks      | elapsed: 245.3min\n",
      "[Parallel(n_jobs=-1)]: Done 700 out of 700 | elapsed: 341.3min finished\n"
     ]
    },
    {
     "name": "stdout",
     "output_type": "stream",
     "text": [
      "\n",
      " The best estimator across ALL searched params:\n",
      " <catboost.core.CatBoostClassifier object at 0x00000159B8FECB00>\n",
      "\n",
      " The best score across ALL searched params:\n",
      " 0.5567598657557847\n",
      "\n",
      " The best parameters across ALL searched params:\n",
      " {'depth': 7, 'iterations': 1000}\n"
     ]
    }
   ],
   "source": [
    "params = {\n",
    "    'iterations': np.arange(800, 1500, 100),\n",
    "    'depth': range(3, 13)\n",
    "}\n",
    "cat = CatBoostClassifier(\n",
    "    verbose=False, \n",
    "    random_state=1, \n",
    "    thread_count=-1,\n",
    "    rsm=0.8\n",
    ")\n",
    "\n",
    "\n",
    "grid = GridSearchCV(estimator=cat, param_grid=params, cv=KFOLDS, n_jobs=-1, scoring=['accuracy', 'roc_auc_ovo'], refit='accuracy', verbose=10)\n",
    "grid.fit(X_train,y_train)\n",
    "\n",
    "print(\"\\n The best estimator across ALL searched params:\\n\", grid.best_estimator_)\n",
    "print(\"\\n The best score across ALL searched params:\\n\", grid.best_score_)\n",
    "print(\"\\n The best parameters across ALL searched params:\\n\", grid.best_params_)"
   ]
  },
  {
   "cell_type": "code",
   "execution_count": 16,
   "metadata": {},
   "outputs": [
    {
     "name": "stdout",
     "output_type": "stream",
     "text": [
      "Train: Acc: 0.76785 +/- 0.06553,  Auc: 0.93710 | Test: Acc: 0.54850 +/- 0.01249,  Auc: 0.80256\n"
     ]
    }
   ],
   "source": [
    "cat = CatBoostClassifier(\n",
    "    verbose=False, \n",
    "    random_state=1, \n",
    "    thread_count=-1,\n",
    "    rsm=0.8,\n",
    "    depth=7,\n",
    "    iterations=1000\n",
    ")\n",
    "\n",
    "kf = KFold(n_splits=10, random_state=1, shuffle=True)\n",
    "\n",
    "test_accs = []\n",
    "test_aucs = []\n",
    "train_accs = []\n",
    "train_aucs = []\n",
    "\n",
    "for train_index, test_index in kf.split(X_train):\n",
    "    X_train_k, X_test_k = X_train[train_index], X_train[test_index]\n",
    "    y_train_k, y_test_k = y_train[train_index], y_train[test_index]\n",
    "    \n",
    "    cat = cat.fit(X_train_k, y_train_k,\n",
    "         eval_set=(X_test_k, y_test_k),\n",
    "         use_best_model=True\n",
    "         )\n",
    "\n",
    "    y_train_ypred = cat.predict(X_train_k)\n",
    "    y_train_prob = cat.predict_proba(X_train_k)\n",
    "\n",
    "    y_test_ypred = cat.predict(X_test_k)\n",
    "    y_test_prob = cat.predict_proba(X_test_k)\n",
    "    y_probas = cat.predict_proba(X_test_k)\n",
    "    \n",
    "    train_acc, train_auc, test_acc, test_auc = metrics.accuracy_score(y_train_k, y_train_ypred), roc_auc_score(y_train_k, y_train_prob, multi_class='ovo'),metrics.accuracy_score(y_test_k, y_test_ypred), roc_auc_score(y_test_k, y_test_prob, multi_class='ovo')\n",
    "    \n",
    "    train_accs.append(train_acc)\n",
    "    train_aucs.append(train_auc)\n",
    "    test_accs.append(test_acc)\n",
    "    test_aucs.append(test_auc)\n",
    "\n",
    "test_accs = np.asarray(test_accs)\n",
    "test_aucs = np.asarray(test_aucs)\n",
    "train_accs = np.asarray(train_accs)\n",
    "train_aucs = np.asarray(train_aucs)\n",
    "print(\"Train: Acc: {:.5f} +/- {:.5f},  Auc: {:.5f} | Test: Acc: {:.5f} +/- {:.5f},  Auc: {:.5f}\".\n",
    "              format(train_accs.mean(), train_accs.std() * 2, train_aucs.mean(), \n",
    "                     test_accs.mean(), test_accs.std() * 2, test_aucs.mean()))\n",
    "    "
   ]
  },
  {
   "cell_type": "markdown",
   "metadata": {},
   "source": [
    "# Stacking (Final SVM) Tuning\n",
    "### Tuning C parameter for the final classifier SVM of the stacking classifier "
   ]
  },
  {
   "cell_type": "code",
   "execution_count": 36,
   "metadata": {
    "scrolled": true
   },
   "outputs": [
    {
     "name": "stderr",
     "output_type": "stream",
     "text": [
      "1 {'C': 1}:  20%|█████████████████████████████▍                                                                                                                     | 1/5 [08:14<32:59, 494.89s/it]"
     ]
    },
    {
     "name": "stdout",
     "output_type": "stream",
     "text": [
      "Train: Acc: 0.99907 +/- 0.00085,  Auc: 1.00000 | Test: Acc: 0.56451 +/- 0.00775,  Auc: 0.81167\n"
     ]
    },
    {
     "name": "stderr",
     "output_type": "stream",
     "text": [
      "1 {'C': 10}:  40%|██████████████████████████████████████████████████████████▍                                                                                       | 2/5 [16:00<24:18, 486.16s/it]"
     ]
    },
    {
     "name": "stdout",
     "output_type": "stream",
     "text": [
      "Train: Acc: 0.99979 +/- 0.00039,  Auc: 1.00000 | Test: Acc: 0.56275 +/- 0.00687,  Auc: 0.81118\n"
     ]
    },
    {
     "name": "stderr",
     "output_type": "stream",
     "text": [
      "1 {'C': 100}:  60%|███████████████████████████████████████████████████████████████████████████████████████                                                          | 3/5 [23:50<16:02, 481.21s/it]"
     ]
    },
    {
     "name": "stdout",
     "output_type": "stream",
     "text": [
      "Train: Acc: 0.99987 +/- 0.00023,  Auc: 1.00000 | Test: Acc: 0.56347 +/- 0.00752,  Auc: 0.81087\n"
     ]
    },
    {
     "name": "stderr",
     "output_type": "stream",
     "text": [
      "1 {'C': 1000}:  80%|███████████████████████████████████████████████████████████████████████████████████████████████████████████████████▏                            | 4/5 [31:51<08:01, 481.09s/it]"
     ]
    },
    {
     "name": "stdout",
     "output_type": "stream",
     "text": [
      "Train: Acc: 0.99987 +/- 0.00023,  Auc: 1.00000 | Test: Acc: 0.56358 +/- 0.00889,  Auc: 0.81081\n"
     ]
    },
    {
     "name": "stderr",
     "output_type": "stream",
     "text": [
      "5 {'C': 1000}: 100%|████████████████████████████████████████████████████████████████████████████████████████████████████████████████████████████████████████████████| 5/5 [48:26<00:00, 581.40s/it]"
     ]
    },
    {
     "name": "stdout",
     "output_type": "stream",
     "text": [
      "Train: Acc: 0.99987 +/- 0.00023,  Auc: 1.00000 | Test: Acc: 0.56347 +/- 0.00887,  Auc: 0.81082\n"
     ]
    },
    {
     "name": "stderr",
     "output_type": "stream",
     "text": [
      "\n"
     ]
    }
   ],
   "source": [
    "rf = RandomForestClassifier(n_jobs=-1, random_state=1, \n",
    "                            max_depth=19,n_estimators=1300,\n",
    "                           min_samples_leaf=1, min_samples_split=2, bootstrap=True, oob_score=True)\n",
    "\n",
    "xgb = XGBClassifier(\n",
    "    colsample_bylevel=0.6,\n",
    "    colsample_bytree=0.7,\n",
    "    subsample=0.8999,\n",
    "    random_state=1,\n",
    "    n_jobs=-1,\n",
    "    min_child_weight=0.4,\n",
    "    max_depth=12,\n",
    "    n_estimators=210,\n",
    "    learning_rate=0.05,\n",
    "    eval_metric= 'auc'\n",
    ")\n",
    "\n",
    "\n",
    "lgb = LGBMClassifier(objective='multiclass',num_class=4, random_state=1, learning_rate=0.074, n_jobs=-1, \n",
    "                     max_depth=9, num_leaves=151,  min_child_samples=3, min_child_weight=0.009,\n",
    "                   reg_alpha=0.5, reg_lambda=0.6)\n",
    "\n",
    "cat = CatBoostClassifier(\n",
    "    verbose=False, \n",
    "    random_state=1, \n",
    "    thread_count=-1,\n",
    "    rsm=0.8,\n",
    "    depth=7,\n",
    "    iterations=1000\n",
    ")\n",
    "\n",
    "estimators = [\n",
    "    ('rf', rf),\n",
    "    ('xgb', xgb),\n",
    "    ('lgb', lgb)\n",
    "#     ('cat', cat)\n",
    "]\n",
    "\n",
    "params = {'C': [0.1, 1, 10, 100, 1000]\n",
    "#           'gamma': [1, 0.1, 0.01, 0.001, 0.0001, 'scale'], \n",
    "}\n",
    "\n",
    "all_params = []\n",
    "all_train_accs = []\n",
    "all_train_aucs = []\n",
    "all_test_accs = []\n",
    "all_test_aucs = []\n",
    "\n",
    "\n",
    "pbar = tqdm(ParameterGrid(params))\n",
    "for param in pbar:\n",
    "    stack = StackingClassifier(estimators=estimators, \n",
    "                               final_estimator=SVC(kernel='linear',\n",
    "#                                                    gamma=param['gamma'],\n",
    "                                                   C=param['C'],\n",
    "                                                   random_state=1, probability=True), n_jobs=-1)\n",
    "    kf = KFold(n_splits=5, random_state=1, shuffle=True)\n",
    "    train_accs = []\n",
    "    test_accs = []\n",
    "    train_aucs = []\n",
    "    test_aucs = []\n",
    "    split_count = 1\n",
    "    for train_index, test_index in kf.split(X_train):\n",
    "        pbar.set_description('{} '.format(split_count)+str(param))\n",
    "        X_train_k, X_test_k = X_train[train_index], X_train[test_index]\n",
    "        y_train_k, y_test_k = y_train[train_index], y_train[test_index]\n",
    "        stack.fit(X_train_k,y_train_k)\n",
    "\n",
    "        y_train_ypred = stack.predict(X_train_k)\n",
    "        y_train_prob = stack.predict_proba(X_train_k)\n",
    "\n",
    "        y_test_ypred = stack.predict(X_test_k)\n",
    "        y_test_prob = stack.predict_proba(X_test_k)\n",
    "\n",
    "        train_acc, train_auc, test_acc, test_auc = metrics.accuracy_score(y_train_k, y_train_ypred), roc_auc_score(y_train_k, y_train_prob, multi_class='ovo'),metrics.accuracy_score(y_test_k, y_test_ypred), roc_auc_score(y_test_k, y_test_prob, multi_class='ovo')\n",
    "        train_accs.append(train_acc)\n",
    "        test_accs.append(test_acc)\n",
    "        train_aucs.append(train_auc)\n",
    "        test_aucs.append(test_auc)\n",
    "        split_count += 1\n",
    "    train_accs = np.asarray(train_accs)\n",
    "    test_accs = np.asarray(test_accs)\n",
    "    train_aucs = np.asarray(train_aucs)\n",
    "    test_aucs = np.asarray(test_aucs)\n",
    "\n",
    "    print(\"Train: Acc: {:.5f} +/- {:.5f},  Auc: {:.5f} | Test: Acc: {:.5f} +/- {:.5f},  Auc: {:.5f}\".\n",
    "              format(train_accs.mean(), train_accs.std() * 2, train_aucs.mean(),\n",
    "                     test_accs.mean(), test_accs.std() * 2, test_aucs.mean()))\n",
    "    \n",
    "    all_params.append(param)\n",
    "    all_train_accs.append(train_accs)\n",
    "    all_train_aucs.append(train_aucs)\n",
    "    all_test_accs.append(test_accs)\n",
    "    all_test_aucs.append(test_aucs)\n"
   ]
  },
  {
   "cell_type": "code",
   "execution_count": 41,
   "metadata": {},
   "outputs": [
    {
     "name": "stdout",
     "output_type": "stream",
     "text": [
      "[0.5645076095350652, 0.5627517845181054, 0.5634746050167039, 0.5635778574689496, 0.5634744983509474]\n",
      "[0.8116732111692183, 0.8111841687308171, 0.8108694627409158, 0.8108104329506667, 0.8108164993032758]\n",
      "Best C: {'C': 0.1}\n"
     ]
    }
   ],
   "source": [
    "mean_test_accs = [x.mean() for x in all_test_accs]\n",
    "mean_test_aucs = [x.mean() for x in all_test_aucs]\n",
    "print(mean_test_accs)\n",
    "print(mean_test_aucs)\n",
    "print('Best C:', all_params[mean_test_accs.index(max(mean_test_accs))])"
   ]
  }
 ],
 "metadata": {
  "kernelspec": {
   "display_name": "Python 3",
   "language": "python",
   "name": "python3"
  },
  "language_info": {
   "codemirror_mode": {
    "name": "ipython",
    "version": 3
   },
   "file_extension": ".py",
   "mimetype": "text/x-python",
   "name": "python",
   "nbconvert_exporter": "python",
   "pygments_lexer": "ipython3",
   "version": "3.6.11"
  }
 },
 "nbformat": 4,
 "nbformat_minor": 4
}
